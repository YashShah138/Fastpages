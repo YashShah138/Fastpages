{
 "cells": [
  {
   "cell_type": "markdown",
   "metadata": {},
   "source": [
    "# 2018 AP CSA FRQ 1\n",
    "> Problem, Solution, and Corrections\n",
    "\n",
    "- title: 2018 AP CSA FRQ 1\n",
    "- toc: False\n",
    "- comments: true\n",
    "- categories: [FRQs]\n",
    "- image: images/FRQ.png"
   ]
  },
  {
   "cell_type": "markdown",
   "metadata": {},
   "source": [
    "## Part A\n",
    "\n",
    "Write the ***simulate*** method, which simulates the frog attempting to hop in a straight line to a goal from\n",
    "the frog's starting position of 0 within a maximum number of hops. The method returns ***true*** if the frog\n",
    "successfully reached the goal within the maximum number of hops; otherwise, the method returns ***false***.\n",
    "\n",
    "The ***FrogSimulation*** class provides a method called ***hopDistance*** that returns an integer\n",
    "representing the distance (positive or negative) to be moved when the frog hops. A positive distance\n",
    "represents a move toward the goal. A negative distance represents a move away from the goal. The returned\n",
    "distance may vary from call to call. Each time the frog hops, its position is adjusted by the value returned by\n",
    "a call to the ***hopDistance*** method.\n",
    "\n",
    "The frog hops until one of the following conditions becomes true:\n",
    "- The frog has reached or passed the goal.\n",
    "- The frog has reached a negative position.\n",
    "- The frog has taken the maximum number of hops without reaching the goal.\n",
    "\n",
    "Complete method simulate below. You must use hopDistance appropriately to receive full credit.\n",
    "\n",
    "```\n",
    "    /** Simulates a frog attempting to reach the goal as described in part (a).\n",
    "    * Returns true if the frog successfully reached or passed the goal during the simulation;\n",
    "    * false otherwise.\n",
    "    */\n",
    "    \n",
    "    public boolean simulate()\n",
    "```"
   ]
  },
  {
   "cell_type": "markdown",
   "metadata": {},
   "source": [
    "### My Solution"
   ]
  },
  {
   "cell_type": "code",
   "execution_count": null,
   "metadata": {
    "vscode": {
     "languageId": "java"
    }
   },
   "outputs": [],
   "source": [
    "public boolean simulate() {\n",
    "    int pos = 0;\n",
    "    for (int i = 0; i < maxHops; i ++) {\n",
    "        posNow += hopDistance();\n",
    "        if (posNow >= goalDistance) {\n",
    "            return true;\n",
    "        } else if (posNow < 0) {\n",
    "            return false;\n",
    "        }\n",
    "    }\n",
    "}"
   ]
  },
  {
   "cell_type": "markdown",
   "metadata": {},
   "source": [
    "### CollegeBoard Solution"
   ]
  },
  {
   "cell_type": "code",
   "execution_count": 3,
   "metadata": {
    "vscode": {
     "languageId": "java"
    }
   },
   "outputs": [],
   "source": [
    "public boolean simulate() {\n",
    "    int position = 0;\n",
    "    for (int count = 0; count < maxHops; count++) {\n",
    "        position += hopDistance();\n",
    "        if (position >= goalDistance) {\n",
    "        return true;\n",
    "        }\n",
    "        else if (position < 0) {\n",
    "        return false;\n",
    "        }\n",
    "    }\n",
    "    return false;\n",
    "}"
   ]
  },
  {
   "cell_type": "markdown",
   "metadata": {},
   "source": [
    "## Part B\n",
    "\n",
    "Write the ***runSimulations*** method, which performs a given number of simulations and returns the\n",
    "proportion of simulations in which the frog successfully reached or passed the goal. For example, if the\n",
    "parameter passed to ***runSimulations*** is 400, and 100 of the 400 ***simulate*** method calls returned\n",
    "true, then the ***runSimulations*** method should return 0.25.\n",
    "\n",
    "Complete method ***runSimulations*** below. Assume that ***simulate*** works as specified, regardless\n",
    "of what you wrote in part (a). You must use ***simulate*** appropriately to receive full credit.\n",
    "\n",
    "```\n",
    "    /** Runs num simulations and returns the proportion of simulations in which the frog\n",
    "    * successfully reached or passed the goal.\n",
    "    * Precondition: num > 0\n",
    "    */\n",
    "    \n",
    " public double runSimulations(int num)\n",
    "```"
   ]
  },
  {
   "cell_type": "markdown",
   "metadata": {},
   "source": [
    "### My Solution"
   ]
  },
  {
   "cell_type": "code",
   "execution_count": 1,
   "metadata": {
    "vscode": {
     "languageId": "java"
    }
   },
   "outputs": [],
   "source": [
    "public double runSimulations(int num) {\n",
    "    int countS = 0;\n",
    "    for (int j = 0; i < num; i++) {\n",
    "        if (simulate()) {\n",
    "            countS++;\n",
    "        }\n",
    "    }\n",
    "    return ((double)numSuccess/num);\n",
    "}"
   ]
  },
  {
   "cell_type": "markdown",
   "metadata": {},
   "source": [
    "### CollegeBoard Solution"
   ]
  },
  {
   "cell_type": "code",
   "execution_count": 2,
   "metadata": {
    "vscode": {
     "languageId": "java"
    }
   },
   "outputs": [],
   "source": [
    "public double runSimulations(int num) {\n",
    "    int countSuccess = 0;\n",
    "\n",
    "    for (int count = 0; count < num; count++) {\n",
    "        if(simulate())\n",
    "        {\n",
    "        countSuccess++;\n",
    "        }\n",
    "    }\n",
    "    return (double)countSuccess / num;\n",
    "} "
   ]
  }
 ],
 "metadata": {
  "kernelspec": {
   "display_name": "Java",
   "language": "java",
   "name": "java"
  },
  "language_info": {
   "codemirror_mode": "java",
   "file_extension": ".jshell",
   "mimetype": "text/x-java-source",
   "name": "Java",
   "pygments_lexer": "java",
   "version": "11.0.12+8-LTS-237"
  },
  "orig_nbformat": 4
 },
 "nbformat": 4,
 "nbformat_minor": 2
}
