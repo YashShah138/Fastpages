{
 "cells": [
  {
   "cell_type": "markdown",
   "metadata": {},
   "source": [
    "# JavaScript Tutorial\n",
    "> JavaScript Tutorial\n",
    "\n",
    "- title: JavaScript Tutorial\n",
    "- toc: true\n",
    "- comments: true\n",
    "- categories: [Week-5]\n",
    "- image: images/JavaScript.png"
   ]
  },
  {
   "cell_type": "markdown",
   "metadata": {},
   "source": [
    "## Output To Console"
   ]
  },
  {
   "cell_type": "code",
   "execution_count": 1,
   "metadata": {},
   "outputs": [
    {
     "name": "stdout",
     "output_type": "stream",
     "text": [
      "Hello World!\n",
      "AP CSA IS GREAT!!\n",
      "Class of 2022\n",
      "RAYJ is the best team!\n",
      "WE LOVE MR. MORTENSEN!!!\n"
     ]
    }
   ],
   "source": [
    "// Print Hello World\n",
    "console.log(\"Hello World!\");\n",
    "\n",
    "// Print Using var assignment\n",
    "var text = \"AP CSA IS GREAT!!\";\n",
    "console.log(text);\n",
    "\n",
    "// Print Using Functions\n",
    "var message = \"Class of 2022\"\n",
    "function print(output) {\n",
    "    console.log(output);\n",
    "}\n",
    "print(message);\n",
    "\n",
    "// Print Reusing Functions\n",
    "print(\"RAYJ is the best team!\");\n",
    "print(\"WE LOVE MR. MORTENSEN!!!\")"
   ]
  },
  {
   "cell_type": "code",
   "execution_count": 23,
   "metadata": {},
   "outputs": [
    {
     "name": "stdout",
     "output_type": "stream",
     "text": [
      "string: AP CSA\n",
      "number: 2023\n",
      "object: 1,2,3\n"
     ]
    }
   ],
   "source": [
    "function printType(output) {\n",
    "    console.log(typeof output + \": \" + output);\n",
    "}\n",
    "printType(\"AP CSA\");\n",
    "printType(2023);\n",
    "printType([1, 2, 3]);"
   ]
  },
  {
   "cell_type": "markdown",
   "metadata": {},
   "source": [
    "## Building a Person Class + JSON"
   ]
  },
  {
   "cell_type": "code",
   "execution_count": 33,
   "metadata": {},
   "outputs": [
    {
     "name": "stdout",
     "output_type": "stream",
     "text": [
      "object: [object Object]\n",
      "string: {\"name\":\"Mr. M\",\"song\":\"Stayin' Alive\",\"artist\":\"Bee Gees\",\"releaseYear\":1977,\"role\":\"\"}\n",
      "object: [object Object]\n",
      "string: {\"name\":\"Mr. M\",\"song\":\"Stayin' Alive\",\"artist\":\"Bee Gees\",\"releaseYear\":1977,\"role\":\"Sponsor\"}\n"
     ]
    }
   ],
   "source": [
    "// define a function to hold data for a Person\n",
    "function Person(name, song, artist, releaseYear) {\n",
    "    this.name = name;\n",
    "    this.song = song;\n",
    "    this.artist = artist;\n",
    "    this.releaseYear = releaseYear;\n",
    "    this.role = \"\";\n",
    "}\n",
    "\n",
    "// define a setter for role in Person data\n",
    "Person.prototype.setRole = function(role) {\n",
    "    this.role = role;\n",
    "}\n",
    "\n",
    "// define a JSON conversion \"method\" associated with Person\n",
    "Person.prototype.toJSON = function() {\n",
    "    const obj = {name: this.name, song: this.song, artist: this.artist, releaseYear: this.releaseYear, role: this.role};\n",
    "    const json = JSON.stringify(obj);  // json/string is useful when passing data on internet\n",
    "    return json;\n",
    "}\n",
    "\n",
    "// make a new Person and assign to variable sponsor\n",
    "var sponsor = new Person(\"Mr. M\", \"Stayin' Alive\", \"Bee Gees\", 1977);  // object type is easy to work with in JavaScript\n",
    "printType(sponsor);  // before role\n",
    "printType(sponsor.toJSON());  // ok to do this even though role is not yet defined\n",
    "\n",
    "// output of Object and JSON/string associated with sponsor\n",
    "sponsor.setRole(\"Sponsor\");   // set the role\n",
    "printType(sponsor); \n",
    "printType(sponsor.toJSON());"
   ]
  },
  {
   "cell_type": "code",
   "execution_count": 34,
   "metadata": {},
   "outputs": [
    {
     "name": "stdout",
     "output_type": "stream",
     "text": [
      "string: {\"name\":\"Mr. M\",\"song\":\"Stayin' Alive\",\"artist\":\"Bee Gees\",\"releaseYear\":1977,\"role\":\"\"}\n",
      "string: {\"name\":\"Mr. M\",\"song\":\"Stayin' Alive\",\"artist\":\"Bee Gees\",\"releaseYear\":1977,\"role\":\"Sponsor\"}\n"
     ]
    },
    {
     "data": {
      "text/html": [
       "<div style=''><table><tr><th><strong>Name</strong></th><th><strong>Age</strong></th><th><strong>Artist</strong></th><th><strong>Release Year</strong></th><th><strong>Role</strong></th></tr><tr><td>Mr. M</td><td>Stayin' Alive</td><td>Bee Gees</td><td>1977</td><td>Sponsor</td><tr><tr><td>Rithwikh</td><td>Drop It Like It's Hot</td><td>Snoop Dogg</td><td>2004</td><td>Teammate</td><tr><tr><td>Aidan</td><td>Ms. Jackson</td><td>OutKast</td><td>2000</td><td>Teammate</td><tr><tr><td>Jun</td><td>Ignition</td><td>R. Kelly</td><td>2002</td><td>Teammate</td><tr><tr><td>Yash</td><td>In Da Club</td><td>50 Cent</td><td>2003</td><td>Teammate</td><tr></table></div>"
      ]
     },
     "execution_count": 34,
     "metadata": {},
     "output_type": "execute_result"
    }
   ],
   "source": [
    "// define a function to hold data for a Person\n",
    "function Person(name, song, artist, releaseYear) {\n",
    "    this.name = name;\n",
    "    this.song = song;\n",
    "    this.artist = artist;\n",
    "    this.releaseYear = releaseYear;\n",
    "    this.role = \"\";\n",
    "}\n",
    "\n",
    "// define a setter for role in Person data\n",
    "Person.prototype.setRole = function(role) {\n",
    "    this.role = role;\n",
    "}\n",
    "\n",
    "// define a JSON conversion \"method\" associated with Person\n",
    "Person.prototype.toJSON = function() {\n",
    "    const obj = {name: this.name, song: this.song, artist: this.artist, releaseYear: this.releaseYear, role: this.role};\n",
    "    const json = JSON.stringify(obj);  // json/string is useful when passing data on internet\n",
    "    return json;\n",
    "}\n",
    "\n",
    "// make a new Person and assign to variable sponsor\n",
    "var sponsor = new Person(\"Mr. M\", \"Stayin' Alive\", \"Bee Gees\", 1977);  // object type is easy to work with in JavaScript\n",
    "printType(sponsor.toJSON());  // ok to do this even though role is not yet defined\n",
    "\n",
    "// output of Object and JSON/string associated with sponsor\n",
    "sponsor.setRole(\"Sponsor\");   // set the role\n",
    "printType(sponsor.toJSON());\n",
    "\n",
    "// define a student Array of Person(s)\n",
    "var teammate = [ \n",
    "    new Person(\"Rithwikh\", \"Drop It Like It's Hot\", \"Snoop Dogg\", 2004),\n",
    "    new Person(\"Aidan\", \"Ms. Jackson\", \"OutKast\", 2000),\n",
    "    new Person(\"Jun\", \"Ignition\", \"R. Kelly\", 2002),\n",
    "    new Person(\"Yash\", \"In Da Club\", \"50 Cent\", 2003)\n",
    "];\n",
    "\n",
    "// define a classroom and build Classroom objects and json\n",
    "function Classroom(sponsor, teammate){ // 1 sponsor, many student\n",
    "    // start Classroom with sponsor\n",
    "    sponsor.setRole(\"Sponsor\");\n",
    "    this.sponsor = sponsor;\n",
    "    this.classroom = [sponsor];\n",
    "    // add each Student to Classroom\n",
    "    this.teammate = teammate;\n",
    "    this.teammate.forEach(teammate => { teammate.setRole(\"Teammate\"); this.classroom.push(teammate); });\n",
    "    // build json/string format of Classroom\n",
    "    this.json = [];\n",
    "    this.classroom.forEach(person => this.json.push(person.toJSON()));\n",
    "}\n",
    "\n",
    "// make a CompSci classroom from formerly defined sponsor and students\n",
    "compsci = new Classroom(sponsor, teammate);\n",
    "\n",
    "// define an HTML conversion \"method\" associated with Classroom\n",
    "Classroom.prototype._toHtml = function() {\n",
    "    // HTML Style is build using inline structure\n",
    "/*        \n",
    "    var style = (\n",
    "      \"display:inline-block;\" +\n",
    "      \"border: 2px solid grey;\" +\n",
    "      \"box-shadow: 0.8em 0.4em 0.4em grey;\"\n",
    "    );\n",
    "*/  \n",
    "    // HTML Body of Table is build as a series of concatenations (+=)\n",
    "    var body = \"\";\n",
    "    // Heading for Array Columns\n",
    "    body += \"<tr>\";\n",
    "    body += \"<th><strong>\" + \"Name\" + \"</strong></th>\";\n",
    "    body += \"<th><strong>\" + \"Age\" + \"</strong></th>\";\n",
    "    body += \"<th><strong>\" + \"Artist\" + \"</strong></th>\";\n",
    "    body += \"<th><strong>\" + \"Release Year\" + \"</strong></th>\";\n",
    "    body += \"<th><strong>\" + \"Role\" + \"</strong></th>\";\n",
    "    body += \"</tr>\";\n",
    "    // Data of Array, iterate through each row of compsci.classroom \n",
    "    for (var row in compsci.classroom) {\n",
    "      // tr for each row, a new line\n",
    "      body += \"<tr>\";\n",
    "      // td for each column of data\n",
    "      body += \"<td>\" + compsci.classroom[row].name + \"</td>\";\n",
    "      body += \"<td>\" + compsci.classroom[row].song + \"</td>\";\n",
    "      body += \"<td>\" + compsci.classroom[row].artist + \"</td>\";\n",
    "      body += \"<td>\" + compsci.classroom[row].releaseYear + \"</td>\";\n",
    "      body += \"<td>\" + compsci.classroom[row].role + \"</td>\";\n",
    "      // tr to end line\n",
    "      body += \"<tr>\";\n",
    "    }\n",
    "\n",
    "    // Build and HTML fragment of div, table, table body\n",
    "    return (\"<div style='\" + \"'>\" + \"<table>\" + body + \"</table>\" + \"</div>\");\n",
    "  \n",
    "  };\n",
    "  \n",
    "  // IJavaScript HTML processor receive parameter of defined HTML fragment\n",
    "  $$.html(compsci._toHtml());"
   ]
  }
 ],
 "metadata": {
  "kernelspec": {
   "display_name": "JavaScript (Node.js)",
   "language": "javascript",
   "name": "javascript"
  },
  "language_info": {
   "file_extension": ".js",
   "mimetype": "application/javascript",
   "name": "javascript",
   "version": "10.13.0"
  },
  "orig_nbformat": 4,
  "vscode": {
   "interpreter": {
    "hash": "aee8b7b246df8f9039afb4144a1f6fd8d2ca17a180786b69acc140d282b71a49"
   }
  }
 },
 "nbformat": 4,
 "nbformat_minor": 2
}
