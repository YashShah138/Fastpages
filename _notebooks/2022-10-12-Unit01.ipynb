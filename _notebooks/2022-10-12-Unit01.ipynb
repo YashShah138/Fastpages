{
 "cells": [
  {
   "cell_type": "markdown",
   "metadata": {},
   "source": [
    "# Unit 01 Wed - Primitive Types\n",
    "> Homework\n",
    "\n",
    "- title: Unit 01 Wed - Primitive Types\n",
    "- toc: false\n",
    "- badges: false\n",
    "- comments: false\n",
    "- categories: [Week-8]\n",
    "- image: images/TestPrep.png"
   ]
  },
  {
   "cell_type": "markdown",
   "metadata": {},
   "source": [
    "## Notes"
   ]
  },
  {
   "cell_type": "markdown",
   "metadata": {},
   "source": [
    "### Declaring Variables\n",
    "- Variables defined within a method are local variables\n",
    "- Int holds wh ole numbers\n",
    "- You need an initial value in order to change it or increment it (usually set to 0)"
   ]
  },
  {
   "cell_type": "code",
   "execution_count": 2,
   "metadata": {},
   "outputs": [
    {
     "name": "stdout",
     "output_type": "stream",
     "text": [
      "The variable x = 6\n"
     ]
    }
   ],
   "source": [
    "public class Variables {\n",
    "    public static void main(String[] args) {\n",
    "        int x;\n",
    "        x = 90;\n",
    "        x = 5;\n",
    "        x = x + 1;\n",
    "\n",
    "        System.out.println(\"The variable x = \" + x);\n",
    "    }\n",
    "}\n",
    "Variables.main(null)"
   ]
  },
  {
   "cell_type": "markdown",
   "metadata": {},
   "source": [
    "### Primitive Data Types\n",
    "1. Byte: minimum value of -128 and maximum value of 127 (inclusive). It is useful for saving memory in large arrays\n",
    "2. Short: Minimum value of -32,768 and maximum value of 32,767. Same purpose as Byte\n",
    "3. Int: Any integer or whole number\n",
    "4. Long: Greater range than int\n",
    "5. Float: floating point numbers that tend to have decimals\n",
    "6. Double: not good for precise data\n",
    "7. Boolean: logic that evaluates whether a condition is true or false\n",
    "8. Char: data type that is used to store a single character (must be in 'single quotes')"
   ]
  },
  {
   "cell_type": "code",
   "execution_count": 4,
   "metadata": {},
   "outputs": [
    {
     "name": "stdout",
     "output_type": "stream",
     "text": [
      "5\n",
      "false\n",
      "D\n"
     ]
    }
   ],
   "source": [
    "public class PrimitiveDataTypes {\n",
    "    public static void main(String[] args) {\n",
    "        int a = 5;\n",
    "        double b = 5.0;\n",
    "        b = 3; // only works for double\n",
    "        a = (int) 5.999; // casting cuts off everything after the decimal\n",
    "        System.out.println(a);\n",
    "\n",
    "        boolean c = true;\n",
    "        c = false;\n",
    "        System.out.println(c);\n",
    "\n",
    "        char d = 'D';\n",
    "        System.out.println(d);\n",
    "    }\n",
    "}\n",
    "PrimitiveDataTypes.main(null)"
   ]
  },
  {
   "cell_type": "markdown",
   "metadata": {},
   "source": [
    "## Homework"
   ]
  },
  {
   "cell_type": "markdown",
   "metadata": {},
   "source": [
    "### 2006 FRQ 2A"
   ]
  },
  {
   "cell_type": "code",
   "execution_count": null,
   "metadata": {},
   "outputs": [],
   "source": [
    "public double purchasePrice () {\n",
    "    double taxTotal = getListPrice() * taxRate;\n",
    "    return taxTotal + getListPrice();\n",
    "}"
   ]
  },
  {
   "cell_type": "markdown",
   "metadata": {},
   "source": [
    "### 2006 FRQ 3A"
   ]
  },
  {
   "cell_type": "code",
   "execution_count": null,
   "metadata": {},
   "outputs": [],
   "source": [
    "public int compareCustomer (Customer other) {\n",
    "    int c = getName().compareTo(other.getName());\n",
    "\n",
    "    if (c != 0) {\n",
    "        return c;\n",
    "    }\n",
    "    else {\n",
    "        int rd = other.getID();\n",
    "        \n",
    "        if (getID() = rd) {\n",
    "            return 1;\n",
    "        }\n",
    "        else if (getID() < rd) {\n",
    "            return -1;\n",
    "        }\n",
    "        else {\n",
    "            return 0;\n",
    "        }\n",
    "    }\n",
    "}"
   ]
  }
 ],
 "metadata": {
  "kernelspec": {
   "display_name": "Java",
   "language": "java",
   "name": "java"
  },
  "language_info": {
   "codemirror_mode": "java",
   "file_extension": ".jshell",
   "mimetype": "text/x-java-source",
   "name": "java",
   "pygments_lexer": "java",
   "version": "11.0.12+8-LTS-237"
  },
  "orig_nbformat": 4,
  "vscode": {
   "interpreter": {
    "hash": "aee8b7b246df8f9039afb4144a1f6fd8d2ca17a180786b69acc140d282b71a49"
   }
  }
 },
 "nbformat": 4,
 "nbformat_minor": 2
}
