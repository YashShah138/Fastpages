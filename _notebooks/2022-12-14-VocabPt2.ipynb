{
 "cells": [
  {
   "attachments": {},
   "cell_type": "markdown",
   "metadata": {},
   "source": [
    "# College Board Vocab Units 06-10\n",
    "\n",
    "- title: College Board Vocab Units 06-10\n",
    "- toc: false\n",
    "- badges: false\n",
    "- comments: false\n",
    "- categories: [Week-16]"
   ]
  },
  {
   "attachments": {},
   "cell_type": "markdown",
   "metadata": {},
   "source": [
    "### Inheritance, Extends"
   ]
  },
  {
   "cell_type": "code",
   "execution_count": 2,
   "metadata": {},
   "outputs": [
    {
     "name": "stdout",
     "output_type": "stream",
     "text": [
      "My name is Max\n",
      "I can eat\n"
     ]
    }
   ],
   "source": [
    "class Animal {\n",
    "    // field and method of the parent class\n",
    "    String name;\n",
    "    public void eat() {\n",
    "        System.out.println(\"I can eat\");\n",
    "    }\n",
    "}\n",
    "  \n",
    "// inherit from Animal\n",
    "class Dog extends Animal {\n",
    "    // new method in subclass\n",
    "    public void display() {\n",
    "        System.out.println(\"My name is \" + name);\n",
    "    }\n",
    "}\n",
    "  \n",
    "class Main {\n",
    "    public static void main(String[] args) {\n",
    "  \n",
    "        // create an object of the subclass\n",
    "        Dog gs = new Dog();\n",
    "  \n",
    "        // access field of superclass\n",
    "        gs.name = \"Max\";\n",
    "        gs.display();\n",
    "  \n",
    "        // call method of superclass\n",
    "        // using object of subclass\n",
    "        gs.eat();\n",
    "  \n",
    "    }\n",
    "}\n",
    "\n",
    "Main.main(null);"
   ]
  },
  {
   "attachments": {},
   "cell_type": "markdown",
   "metadata": {},
   "source": [
    "### Subclass constructor, super Keyword\n",
    "- **Uses of super keyword**\n",
    "    - To call methods of the superclass that is overridden in the subclass.\n",
    "    - To access attributes (fields) of the superclass if both superclass and subclass have attributes with the same name.\n",
    "    - To explicitly call superclass no-arg (default) or parameterized constructor from the subclass constructor."
   ]
  },
  {
   "cell_type": "code",
   "execution_count": 4,
   "metadata": {},
   "outputs": [
    {
     "name": "stdout",
     "output_type": "stream",
     "text": [
      "I am a dog\n",
      "I am an animal\n"
     ]
    }
   ],
   "source": [
    "/**\n",
    " * super to Call Superclass Method\n",
    " */\n",
    "\n",
    "class Animal {\n",
    "\n",
    "    // overridden method\n",
    "    public void display(){\n",
    "        System.out.println(\"I am an animal\");\n",
    "    }\n",
    "}\n",
    "  \n",
    "  class Dog extends Animal {\n",
    "  \n",
    "    // overriding method\n",
    "    @Override\n",
    "    public void display(){\n",
    "        System.out.println(\"I am a dog\");\n",
    "    }\n",
    "  \n",
    "    public void printMessage(){\n",
    "        // this calls overriding method\n",
    "        display();\n",
    "\n",
    "        // this calls overridden method\n",
    "        super.display();\n",
    "    }\n",
    "}\n",
    "  \n",
    "  class Main {\n",
    "    public static void main(String[] args) {\n",
    "        Dog dog1 = new Dog();\n",
    "        dog1.printMessage();\n",
    "    }\n",
    "}\n",
    "\n",
    "Main.main(null);"
   ]
  },
  {
   "cell_type": "code",
   "execution_count": 6,
   "metadata": {},
   "outputs": [
    {
     "name": "stdout",
     "output_type": "stream",
     "text": [
      "I am a mammal\n",
      "I am an animal\n"
     ]
    }
   ],
   "source": [
    "/**\n",
    " * Access superclass attribute\n",
    " */\n",
    "\n",
    "class Animal {\n",
    "    protected String type=\"animal\";\n",
    "}\n",
    "  \n",
    "  class Dog extends Animal {\n",
    "    public String type=\"mammal\";\n",
    "  \n",
    "    public void printType() {\n",
    "        System.out.println(\"I am a \" + type);\n",
    "        System.out.println(\"I am an \" + super.type);\n",
    "    }\n",
    "}\n",
    "  \n",
    "  class Main {\n",
    "    public static void main(String[] args) {\n",
    "        Dog dog1 = new Dog();\n",
    "        dog1.printType();\n",
    "    }\n",
    "}\n",
    "\n",
    "Main.main(null);"
   ]
  },
  {
   "attachments": {},
   "cell_type": "markdown",
   "metadata": {},
   "source": [
    "### Overloading a method, same name different parameters"
   ]
  },
  {
   "cell_type": "code",
   "execution_count": 2,
   "metadata": {},
   "outputs": [
    {
     "name": "stdout",
     "output_type": "stream",
     "text": [
      "Got Integer data.\n",
      "Got String object.\n"
     ]
    }
   ],
   "source": [
    "class MethodOverloading {\n",
    "\n",
    "    // this method accepts int object\n",
    "    private static void display(int a){\n",
    "        System.out.println(\"Got Integer data.\");\n",
    "    }\n",
    "\n",
    "    // this method accepts String object\n",
    "    private static void display(String a){\n",
    "        System.out.println(\"Got String object.\");\n",
    "    }\n",
    "\n",
    "    public static void main(String[] args) {\n",
    "        display(1);\n",
    "        display(\"Hello\");\n",
    "    }\n",
    "}\n",
    "\n",
    "MethodOverloading.main(null);"
   ]
  },
  {
   "attachments": {},
   "cell_type": "markdown",
   "metadata": {},
   "source": [
    "### Overriding a method, same signature of a method"
   ]
  },
  {
   "cell_type": "code",
   "execution_count": 3,
   "metadata": {},
   "outputs": [
    {
     "name": "stdout",
     "output_type": "stream",
     "text": [
      "I am a dog\n"
     ]
    }
   ],
   "source": [
    "/**\n",
    " * Method Overriding\n",
    " */\n",
    "\n",
    "class Animal {\n",
    "\n",
    "    // overridden method\n",
    "    public void display(){\n",
    "        System.out.println(\"I am an animal\");\n",
    "    }\n",
    "}\n",
    "\n",
    "class Dog extends Animal {\n",
    "  \n",
    "    // overriding method\n",
    "    @Override\n",
    "    public void display(){\n",
    "        System.out.println(\"I am a dog\");\n",
    "    }\n",
    "  \n",
    "    public void printMessage(){\n",
    "        display();\n",
    "    }\n",
    "}\n",
    "  \n",
    "class Main {\n",
    "    public static void main(String[] args) {\n",
    "        Dog dog1 = new Dog();\n",
    "        dog1.printMessage();\n",
    "    }\n",
    "}\n",
    "\n",
    "Main.main(null);"
   ]
  },
  {
   "attachments": {},
   "cell_type": "markdown",
   "metadata": {},
   "source": [
    "### Abstract Class, Abstract Method\n",
    "- **Data abstraction** is the process of hiding certain details and showing only essential information to the user\n",
    "- Abstraction can be achieved with either abstract classes or interfaces"
   ]
  },
  {
   "cell_type": "code",
   "execution_count": 4,
   "metadata": {},
   "outputs": [
    {
     "name": "stdout",
     "output_type": "stream",
     "text": [
      "The pig says: wee wee\n",
      "Zzz\n"
     ]
    }
   ],
   "source": [
    "// Abstract class\n",
    "abstract class Animal {\n",
    "    // Abstract method (does not have a body)\n",
    "    public abstract void animalSound();\n",
    "    // Regular method\n",
    "    public void sleep() {\n",
    "        System.out.println(\"Zzz\");\n",
    "    }\n",
    "}\n",
    "  \n",
    "// Subclass (inherit from Animal)\n",
    "class Pig extends Animal {\n",
    "    public void animalSound() {\n",
    "      // The body of animalSound() is provided here\n",
    "      System.out.println(\"The pig says: wee wee\");\n",
    "    }\n",
    "}\n",
    "  \n",
    "class Main {\n",
    "    public static void main(String[] args) {\n",
    "        Pig myPig = new Pig(); // Create a Pig object\n",
    "        myPig.animalSound();\n",
    "        myPig.sleep();\n",
    "    }\n",
    "}\n",
    "\n",
    "Main.main(null);"
   ]
  },
  {
   "attachments": {},
   "cell_type": "markdown",
   "metadata": {},
   "source": [
    "### Standard methods: toString(), equals(), hashCode()\n",
    "- Mainly used with objects, arrays, and arraylists"
   ]
  },
  {
   "cell_type": "code",
   "execution_count": 6,
   "metadata": {},
   "outputs": [
    {
     "name": "stdout",
     "output_type": "stream",
     "text": [
      "[Hello, Howdy, Hey, Hi]\n",
      "2041636537\n"
     ]
    }
   ],
   "source": [
    "/**\n",
    " * hashCode()\n",
    " */\n",
    "\n",
    "ArrayList<String> arrli = new ArrayList<String>();\n",
    "arrli.add(\"Hello\");\n",
    "arrli.add(\"Howdy\");\n",
    "arrli.add(\"Hey\");\n",
    "arrli.add(\"Hi\");\n",
    "\n",
    "System.out.println(arrli);\n",
    "System.out.println(arrli.hashCode());"
   ]
  },
  {
   "cell_type": "code",
   "execution_count": 29,
   "metadata": {},
   "outputs": [
    {
     "name": "stdout",
     "output_type": "stream",
     "text": [
      "905115276\n",
      "Yash Shah, 17, 12\n"
     ]
    }
   ],
   "source": [
    "/**\n",
    " * toString()\n",
    " */\n",
    "\n",
    "class Friend {\n",
    " \n",
    "    // Member attributes of this class\n",
    "    String name;\n",
    "    int age;\n",
    "    int grade;\n",
    " \n",
    "    // Constructor of this class\n",
    "    Friend(String name, int age, int grade)\n",
    "    {\n",
    "        // This variable refers to current instance itself\n",
    "        this.name = name;\n",
    "        this.age = age;\n",
    "        this.grade = grade;\n",
    "    }\n",
    " \n",
    "    public String toString() {\n",
    "        return name + \", \" + age + \", \" + grade;\n",
    "    }\n",
    "\n",
    "    // Method of this class\n",
    "    // Main driver method\n",
    "    public static void main(String[] args)\n",
    "    {\n",
    " \n",
    "        // Creating an object of this class\n",
    "        // Custom attributes been passed as in arguments\n",
    "        Friend b = new Friend(\"Yash Shah\", 17, 12);\n",
    " \n",
    "        // Print and display commands to illustrate\n",
    "        // toString() method as both will print the same\n",
    "        // Print the object\n",
    "        System.out.println(b.hashCode());\n",
    "        // Print the object but implicitly using toString()\n",
    "        // method\n",
    "        System.out.println(b.toString());\n",
    "    }\n",
    "}\n",
    "\n",
    "Best_Friend.main(null);"
   ]
  },
  {
   "cell_type": "code",
   "execution_count": 17,
   "metadata": {},
   "outputs": [
    {
     "name": "stdout",
     "output_type": "stream",
     "text": [
      "true\n",
      "false\n",
      "false\n"
     ]
    }
   ],
   "source": [
    "/**\n",
    " * equals()\n",
    " */\n",
    "\n",
    "public class EqualsExample{\n",
    "    public static void main(String args[]){\n",
    "        String compare1 = \"java\";\n",
    "        String compare2 = \"java\";\n",
    "        String compare3 = \"JAVA\";\n",
    "        String compare4 = \"python\";\n",
    "        \n",
    "        //true because content and case is same\n",
    "        System.out.println(compare1.equals(compare2));\n",
    "        \n",
    "        //false because case is not same\n",
    "        System.out.println(compare1.equals(compare3));\n",
    "        \n",
    "        //false because content is not same\n",
    "        System.out.println(compare1.equals(compare4));\n",
    "    }\n",
    "}\n",
    "\n",
    "EqualsExample.main(null);"
   ]
  },
  {
   "attachments": {},
   "cell_type": "markdown",
   "metadata": {},
   "source": [
    "### Late binding of object, referencing superclass object\n",
    "```\n",
    "Animal a = new Chicken();\n",
    "Animal b = new Goat();\n",
    "```"
   ]
  },
  {
   "cell_type": "code",
   "execution_count": null,
   "metadata": {},
   "outputs": [],
   "source": []
  },
  {
   "attachments": {},
   "cell_type": "markdown",
   "metadata": {},
   "source": [
    "### Polymorphism: any of overloading, overriding, late binding\n",
    "- **Polymorphism** is the ability to have multiple methods with the same name but different parameters. This is useful when you want to have multiple methods that do the same thing but with different parameters. This is also useful when you want to have a method that can take multiple types of parameters.\n",
    "    - **Overloading** is when you have multiple methods with the same name but different parameters.\n",
    "    - **Overriding** is when you have a method with the same name and parameters as a method in a superclass but you want to modify the method in the subclass.\n",
    "    - **Late binding** is when you have allow the compiler to determine which method to use at runtime instead of compile time. **Abstract Class** - Objects cannot be created from an abstract class, they can only be extended. This is useful when you want to create a class that can be extended but not instantiated."
   ]
  },
  {
   "cell_type": "code",
   "execution_count": 2,
   "metadata": {},
   "outputs": [
    {
     "name": "stdout",
     "output_type": "stream",
     "text": [
      "Polymorphism Example:\n",
      "Integer: 5\n",
      "String: Hello\n",
      "Double: 5.5\n"
     ]
    }
   ],
   "source": [
    "public class PolymorphismExample {\n",
    "    public void testOutput(int x) {\n",
    "        System.out.println(\"Integer: \" + x);\n",
    "    }\n",
    "\n",
    "    public void testOutput(String x) {\n",
    "        System.out.println(\"String: \" + x);\n",
    "    }\n",
    "    \n",
    "    public void testOutput(double x) {\n",
    "        System.out.println(\"Double: \" + x);\n",
    "    }\n",
    "\n",
    "}\n",
    "\n",
    "PolymorphismExample pe = new PolymorphismExample();\n",
    "System.out.println(\"Polymorphism Example:\");\n",
    "pe.testOutput(5);\n",
    "pe.testOutput(\"Hello\");\n",
    "pe.testOutput(5.5);"
   ]
  },
  {
   "attachments": {},
   "cell_type": "markdown",
   "metadata": {},
   "source": [
    "| Complexity | Equation |\n",
    "| ---------- | -------- |\n",
    "| O(N!) | Factorial |\n",
    "| O(2^N) | Exponential |\n",
    "| O(N^3) | Cubic |\n",
    "| O(N^2) | Quadratic |\n",
    "| O(N Log N) | N * Log N |\n",
    "| O(N) | Linear |\n",
    "| O(Log N) | Logarithmic |\n",
    "| O(1) | Constant |"
   ]
  },
  {
   "cell_type": "code",
   "execution_count": 4,
   "metadata": {},
   "outputs": [
    {
     "name": "stdout",
     "output_type": "stream",
     "text": [
      "Value found at Index: 9\n"
     ]
    }
   ],
   "source": [
    "/**\n",
    " * Binary Search - O(Log N)\n",
    " */\n",
    "\n",
    "public class BinarySearch {\n",
    "\n",
    "    // Searching using Recursive approach\n",
    "    public static int Search(int arr[], int value, int start, int end) {\n",
    "        int center = (start + end) / 2;\n",
    "\n",
    "        if (start <= end) {\n",
    "            if (value == center) {\n",
    "                return center;\n",
    "            }\n",
    "\n",
    "            if (value < center) {\n",
    "                return Search(arr, value, start, center - 1);\n",
    "            }\n",
    "\n",
    "            if (value > center) {\n",
    "                return Search(arr, value, center + 1, end);\n",
    "            }\n",
    "        }\n",
    "\n",
    "        return -1;\n",
    "    }\n",
    "\n",
    "    public static void main(String[] args) {\n",
    "        int arr[] = new int[] { 1, 2, 3, 4, 5, 6, 7, 8, 9 };\n",
    "\n",
    "        int Index = Search(arr, 9, 0, arr.length);\n",
    "        if (Index == -1) {\n",
    "            System.out.println(\"Value Not Found\");\n",
    "        } else {\n",
    "            System.out.println(\"Value found at Index: \" + Index);\n",
    "        }\n",
    "    }\n",
    "}\n",
    "\n",
    "BinarySearch.main(null);"
   ]
  }
 ],
 "metadata": {
  "kernelspec": {
   "display_name": "Java",
   "language": "java",
   "name": "java"
  },
  "language_info": {
   "codemirror_mode": "java",
   "file_extension": ".jshell",
   "mimetype": "text/x-java-source",
   "name": "java",
   "pygments_lexer": "java",
   "version": "11.0.12+8-LTS-237"
  },
  "orig_nbformat": 4
 },
 "nbformat": 4,
 "nbformat_minor": 2
}
