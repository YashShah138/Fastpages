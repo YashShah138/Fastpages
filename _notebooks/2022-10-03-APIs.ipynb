{
 "cells": [
  {
   "cell_type": "markdown",
   "metadata": {},
   "source": [
    "# APIs\n",
    "> Displaying Data From an API\n",
    "\n",
    "- title: APIs\n",
    "- toc: false\n",
    "- comments: false\n",
    "- categories: [Week-6]\n",
    "- image: images/API.png"
   ]
  },
  {
   "cell_type": "code",
   "execution_count": 1,
   "metadata": {},
   "outputs": [
    {
     "name": "stdout",
     "output_type": "stream",
     "text": [
      "{\"results\":[{\"race_name\":\"Pre-Season Testing 2022\",\"race_date\":\"10 – 12 March 2022\",\"race_location\":\"Bahrain International Circuit, Bahrain\"},{\"race_name\":\"Bahrain Grand Prix 2022\",\"race_date\":\"18 – 20 March 2022\",\"race_location\":\"Bahrain International Circuit, Bahrain\"},{\"race_name\":\"Saudi Arabian Grand Prix 2022\",\"race_date\":\"25 – 27 March 2022\",\"race_location\":\"Jeddah Corniche Circuit, Saudi Arabia\"},{\"race_name\":\"Australian Grand Prix 2022\",\"race_date\":\"8 – 10 April 2022\",\"race_location\":\"Melbourne Grand Prix Circuit, Australia\"},{\"race_name\":\"Emilia Romagna Grand Prix 2022\",\"race_date\":\"22 – 24 April 2022\",\"race_location\":\"Autodromo Enzo e Dino Ferrari, Italy\"},{\"race_name\":\"Miami Grand Prix 2022\",\"race_date\":\"6 – 8 May 2022\",\"race_location\":\"Miami International Autodrome, United States\"},{\"race_name\":\"Spanish Grand Prix 2022\",\"race_date\":\"20 – 22 May 2022\",\"race_location\":\"Circuit de Barcelona-Catalunya, Spain\"},{\"race_name\":\"Monaco Grand Prix 2022\",\"race_date\":\"27 – 29 May 2022\",\"race_location\":\"Circuit de Monaco, Monaco\"},{\"race_name\":\"Azerbaijan Grand Prix 2022\",\"race_date\":\"10 – 12 June 2022\",\"race_location\":\"Baku City Circuit, Azerbaijan\"},{\"race_name\":\"Canadian Grand Prix 2022\",\"race_date\":\"17 – 19 June 2022\",\"race_location\":\"Circuit Gilles Villeneuve, Canada\"},{\"race_name\":\"British Grand Prix 2022\",\"race_date\":\"1 – 3 July 2022\",\"race_location\":\"Silverstone Circuit, United Kingdom\"},{\"race_name\":\"Austrian Grand Prix 2022\",\"race_date\":\"8 – 10 July 2022\",\"race_location\":\"Red Bull Ring, Austria\"},{\"race_name\":\"French Grand Prix 2022\",\"race_date\":\"22 – 24 July 2022\",\"race_location\":\"Circuit Paul Ricard, France\"},{\"race_name\":\"Hungarian Grand Prix 2022\",\"race_date\":\"29 – 31 July 2022\",\"race_location\":\"Hungaroring, Hungary\"},{\"race_name\":\"Belgian Grand Prix 2022\",\"race_date\":\"26 – 28 August 2022\",\"race_location\":\"Circuit de Spa-Francorchamps, Belgium\"},{\"race_name\":\"Dutch Grand Prix 2022\",\"race_date\":\"2 – 4 September 2022\",\"race_location\":\"Circuit Zandvoort, Netherlands\"},{\"race_name\":\"Italian Grand Prix 2022\",\"race_date\":\"9 – 11 September 2022\",\"race_location\":\"Autodromo Nazionale Monza, Italy\"},{\"race_name\":\"Singapore Grand Prix 2022\",\"race_date\":\"30 September – 2 October 2022\",\"race_location\":\"Marina Bay Street Circuit, Singapore\"},{\"race_name\":\"Japanese Grand Prix 2022\",\"race_date\":\"7 – 9 October 2022\",\"race_location\":\"Suzuka International Racing Course, Japan\"},{\"race_name\":\"United States Grand Prix 2022\",\"race_date\":\"21 – 23 October 2022\",\"race_location\":\"Circuit of the Americas, United States\"},{\"race_name\":\"Mexico City Grand Prix 2022\",\"race_date\":\"28 – 30 October 2022\",\"race_location\":\"Autodromo Hermanos Rodriguez, Mexico\"},{\"race_name\":\"São Paulo Grand Prix 2022\",\"race_date\":\"11 – 13 November 2022\",\"race_location\":\"Autódromo José Carlos Pace, Brazil\"},{\"race_name\":\"Abu Dhabi Grand Prix 2022\",\"race_date\":\"18 – 20 November 2022\",\"race_location\":\"Yas Marina Circuit, United Arab Emirates\"}]}\n"
     ]
    }
   ],
   "source": [
    "import java.net.URI;\n",
    "import java.net.http.HttpClient;\n",
    "import java.net.http.HttpRequest;\n",
    "import java.net.http.HttpResponse;\n",
    "\n",
    "// RapidAPI header  https://rapidapi.com/dariuxmx/api/formula-1-standings/\n",
    "HttpRequest request = HttpRequest.newBuilder()\n",
    "\t\t.uri(URI.create(\"https://formula-1-standings.p.rapidapi.com/races\"))\n",
    "\t\t.header(\"X-RapidAPI-Key\", \"80e73128e0mshda8c95123266391p176951jsnbc06ff234f92\")\n",
    "\t\t.header(\"X-RapidAPI-Host\", \"formula-1-standings.p.rapidapi.com\")\n",
    "\t\t.method(\"GET\", HttpRequest.BodyPublishers.noBody())\n",
    "\t\t.build();\n",
    "\n",
    "// RapidAPI request and response\n",
    "HttpResponse<String> response = HttpClient.newHttpClient().send(request, HttpResponse.BodyHandlers.ofString());\n",
    "\n",
    "// RapidAPI Body\n",
    "System.out.println(response.body());"
   ]
  }
 ],
 "metadata": {
  "kernelspec": {
   "display_name": "Java",
   "language": "java",
   "name": "java"
  },
  "language_info": {
   "codemirror_mode": "java",
   "file_extension": ".jshell",
   "mimetype": "text/x-java-source",
   "name": "java",
   "pygments_lexer": "java",
   "version": "11.0.12+8-LTS-237"
  },
  "orig_nbformat": 4
 },
 "nbformat": 4,
 "nbformat_minor": 2
}
