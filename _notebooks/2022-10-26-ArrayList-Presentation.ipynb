{
 "cells": [
  {
   "cell_type": "markdown",
   "metadata": {},
   "source": [
    "# ArrayLists - AP Test Prep\n",
    "\n",
    "- title: ArrayLists - AP Test Prep\n",
    "- toc: false\n",
    "- badges: false\n",
    "- comments: false\n",
    "- categories: [Week-10]"
   ]
  },
  {
   "cell_type": "markdown",
   "metadata": {},
   "source": [
    "<iframe src=\"https://docs.google.com/presentation/d/e/2PACX-1vQvLO9_DZfDE4Yp7CaQi8CNbFXsPJ_WcMq8_YA_mZnvhUa3L_fcTCSCa-x6lwvFmmXyDko60kw501l-/embed?start=false&loop=false&delayms=3000\" frameborder=\"0\" width=\"960\" height=\"569\" allowfullscreen=\"true\" mozallowfullscreen=\"true\" webkitallowfullscreen=\"true\"></iframe>"
   ]
  },
  {
   "cell_type": "code",
   "execution_count": 47,
   "metadata": {
    "vscode": {
     "languageId": "java"
    }
   },
   "outputs": [
    {
     "name": "stdout",
     "output_type": "stream",
     "text": [
      "[Shake It Off, In Da Club, Party In The USA, I Ain't Worried, One Dance, I Wanna Benz]\n"
     ]
    }
   ],
   "source": [
    "ArrayList<String> songs = new ArrayList<String>();\n",
    "songs.add(\"Shake It Off\");\n",
    "songs.add(\"In Da Club\");\n",
    "songs.add(\"Party In The USA\");\n",
    "songs.add(\"I Ain't Worried\");\n",
    "songs.add(\"One Dance\");\n",
    "songs.add(\"I Wanna Benz\");\n",
    "\n",
    "System.out.println(songs);"
   ]
  },
  {
   "cell_type": "code",
   "execution_count": 48,
   "metadata": {
    "vscode": {
     "languageId": "java"
    }
   },
   "outputs": [
    {
     "name": "stdout",
     "output_type": "stream",
     "text": [
      "- size()\n",
      "There are 6 terms in the ArrayList songs: [Shake It Off, In Da Club, Party In The USA, I Ain't Worried, One Dance, I Wanna Benz]\n"
     ]
    }
   ],
   "source": [
    "// size()\n",
    "System.out.println(\"- size()\");\n",
    "System.out.println(\"There are \" + songs.size() + \" terms in the ArrayList songs: \" + songs);"
   ]
  },
  {
   "cell_type": "code",
   "execution_count": 49,
   "metadata": {
    "vscode": {
     "languageId": "java"
    }
   },
   "outputs": [
    {
     "name": "stdout",
     "output_type": "stream",
     "text": [
      "- remove(int index)\n",
      "[Shake It Off, In Da Club, Party In The USA, One Dance, I Wanna Benz]\n"
     ]
    }
   ],
   "source": [
    "// Remove(int index or element\n",
    "songs.remove(3);\n",
    "System.out.println(\"- remove(int index)\");\n",
    "System.out.println(songs);"
   ]
  },
  {
   "cell_type": "code",
   "execution_count": 50,
   "metadata": {
    "vscode": {
     "languageId": "java"
    }
   },
   "outputs": [
    {
     "name": "stdout",
     "output_type": "stream",
     "text": [
      "- hashCode()\n",
      "-1832161442\n"
     ]
    }
   ],
   "source": [
    "// hashCode()\n",
    "System.out.println(\"- hashCode()\");\n",
    "System.out.println(songs.hashCode());"
   ]
  },
  {
   "cell_type": "code",
   "execution_count": 51,
   "metadata": {
    "vscode": {
     "languageId": "java"
    }
   },
   "outputs": [
    {
     "name": "stdout",
     "output_type": "stream",
     "text": [
      "- sort(Comparator comp)\n",
      "ArrayList before sort: [Shake It Off, In Da Club, Party In The USA, One Dance, I Wanna Benz]\n",
      "ArrayList after sort: [I Wanna Benz, In Da Club, One Dance, Party In The USA, Shake It Off]\n"
     ]
    }
   ],
   "source": [
    "// sort(Comparator comp)\n",
    "System.out.println(\"- sort(Comparator comp)\");\n",
    "System.out.println(\"ArrayList before sort: \" + songs);\n",
    "Collections.sort(songs);\n",
    "System.out.println(\"ArrayList after sort: \" + songs);"
   ]
  },
  {
   "cell_type": "code",
   "execution_count": 52,
   "metadata": {
    "vscode": {
     "languageId": "java"
    }
   },
   "outputs": [
    {
     "name": "stdout",
     "output_type": "stream",
     "text": [
      "Before Sorting: [1, 3, 2]\n",
      "After Sorting: [1, 2, 3]\n"
     ]
    }
   ],
   "source": [
    "public class AscendingOrder {\n",
    "    public static void main(String args[]) {\n",
    "        // creating object of ArrayList class\n",
    "        ArrayList<Integer> arrlist = new ArrayList<Integer>();\n",
    "        \n",
    "        // adding elements to the ArrayList\n",
    "        arrlist.add(1);\n",
    "        arrlist.add(3);\n",
    "        arrlist.add(2);\n",
    "        \n",
    "        // printing the unsorted ArrayList\n",
    "        System.out.println(\"Before Sorting: \"+ arrlist);\n",
    "        \n",
    "        // Sorting ArrayList in ascending Order\n",
    "        Collections.sort(arrlist);\n",
    "        \n",
    "        // printing the sorted ArrayList\n",
    "        System.out.println(\"After Sorting: \"+ arrlist);\n",
    "    }\n",
    "}\n",
    "\n",
    "AscendingOrder.main(null);"
   ]
  },
  {
   "cell_type": "markdown",
   "metadata": {},
   "source": [
    "## Homework\n",
    "\n",
    "- 2019 AP CSA FRQ 3\n",
    "\n",
    "- Create an ArrayList that includes 2 of the 4 factors listed below.\n",
    "    - Sort an ArrayList in descending order and swap the first and last elements\n",
    "    - Find and display the hashCode of an Arraylist before and after being sorted\n",
    "    - Return \"ascending\" if the list is sorted in ascending order, return \"descending\" if it is descending, and return \"neither\" if neither\n",
    "    - Replace 3 elements in an ArrayList with another ArrayList and reverse the order of the new list"
   ]
  }
 ],
 "metadata": {
  "kernelspec": {
   "display_name": "Java",
   "language": "java",
   "name": "java"
  },
  "language_info": {
   "codemirror_mode": "java",
   "file_extension": ".jshell",
   "mimetype": "text/x-java-source",
   "name": "Java",
   "pygments_lexer": "java",
   "version": "11.0.12+8-LTS-237"
  },
  "orig_nbformat": 4
 },
 "nbformat": 4,
 "nbformat_minor": 2
}
