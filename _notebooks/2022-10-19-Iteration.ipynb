{
 "cells": [
  {
   "cell_type": "markdown",
   "metadata": {},
   "source": [
    "# Unit 04 Wed - Iteration\n",
    "> Homework\n",
    "\n",
    "- title: Unit 04 Wed - Iteration\n",
    "- toc: false\n",
    "- badges: false\n",
    "- comments: false\n",
    "- categories: [Week-9]"
   ]
  },
  {
   "cell_type": "markdown",
   "metadata": {},
   "source": [
    "### Part 1 - Find on the bottom of the Jupyter Notebook linked on slide 2\n",
    "\n",
    "#### Choose ONE\n",
    "\n",
    "1. Write a program where the user inputs their monthly budget. The loop should then ask the user to input each of their monthly expenses. These expenses should be kept in a running total. The final output should display if the user is over or under their budget for the month, and by how much.\n",
    "\n",
    "2. Write a program where a random number is generated. Then the user tries to guess the number. If they guess too high display something to let them know, and same for if they guess a number that is too low. The loop must iterate until the number is guessed correctly."
   ]
  },
  {
   "cell_type": "code",
   "execution_count": 21,
   "metadata": {
    "vscode": {
     "languageId": "java"
    }
   },
   "outputs": [
    {
     "name": "stdout",
     "output_type": "stream",
     "text": [
      "Would you like to play the Number Guessing y / n\n",
      "Please pick a number between 1 and 100\n",
      "Number is too high, try something lower.\n",
      "\n",
      "Please pick a number between 1 and 100\n",
      "Number is too high, try something lower.\n",
      "\n",
      "Please pick a number between 1 and 100\n",
      "Number is too low, try something higher.\n",
      "\n",
      "Please pick a number between 1 and 100\n",
      "Number is too high, try something lower.\n",
      "\n",
      "Please pick a number between 1 and 100\n",
      "Number is too high, try something lower.\n",
      "\n",
      "Please pick a number between 1 and 100\n",
      "Number is too low, try something higher.\n",
      "\n",
      "Please pick a number between 1 and 100\n",
      "17 number is correct!\n",
      "Thank you for playing!\n",
      "Please pick a number between 1 and 100\n"
     ]
    },
    {
     "ename": "EvalException",
     "evalue": "null",
     "output_type": "error",
     "traceback": [
      "\u001b[1m\u001b[31m---------------------------------------------------------------------------\u001b[0m",
      "\u001b[1m\u001b[31mjava.util.InputMismatchException: null\u001b[0m",
      "\u001b[1m\u001b[31m\tat java.base/java.util.Scanner.throwFor(Scanner.java:939)\u001b[0m",
      "\u001b[1m\u001b[31m\tat java.base/java.util.Scanner.next(Scanner.java:1594)\u001b[0m",
      "\u001b[1m\u001b[31m\tat java.base/java.util.Scanner.nextInt(Scanner.java:2258)\u001b[0m",
      "\u001b[1m\u001b[31m\tat java.base/java.util.Scanner.nextInt(Scanner.java:2212)\u001b[0m",
      "\u001b[1m\u001b[31m\tat NumberGuessingGame.main(#18:1)\u001b[0m",
      "\u001b[1m\u001b[31m\tat .(#32:1)\u001b[0m"
     ]
    }
   ],
   "source": [
    "import java.util.Scanner;\n",
    "import java.util.Random;\n",
    "\n",
    "public class NumberGuessingGame {\n",
    "\n",
    "    public static void main(String[] args) {\n",
    "        int randomNumber, userNumber = 0;\n",
    "        final int MAX = 100;\n",
    "        char playGame = 'y';\n",
    "\n",
    "        Random generator = new Random();\n",
    "\n",
    "        // ask user if they wish to play\n",
    "        System.out.println(\"Would you like to play the Number Guessing y / n\");\n",
    "        Scanner scan = new Scanner(System.in);\n",
    "\n",
    "        playGame = scan.next().charAt(0);\n",
    "\n",
    "        \n",
    "\t\t//The loop controlling the game   \n",
    "\t\twhile (playGame == 'y') {\n",
    "\t\t\tif (playGame != 'y')\n",
    "\t\t\t\tbreak;\n",
    "\n",
    "\t\t\trandomNumber = generator.nextInt(MAX) + 1;\n",
    "\t\t\t//Creating a flag to control the inner loop\n",
    "\t\t\tint correct = 0;\n",
    "\n",
    "\t\t\t//The loop to control the round.\n",
    "\t\t\twhile (correct == 0){\n",
    "\t\t\t\tSystem.out.println(\"Please pick a number between 1 and 100\");\n",
    "\t\t\t\tuserNumber = scan.nextInt();\n",
    "\n",
    "\t\t\t\t// high and low sugguestion\n",
    "\t\t\t\tif (userNumber > randomNumber)\n",
    "\t\t\t\t\tSystem.out.println(\"Number is too high, try something lower.\\n\");\n",
    "\t\t\t\tif (userNumber < randomNumber)\n",
    "\t\t\t\t\tSystem.out.println(\"Number is too low, try something higher.\\n\");\n",
    "\t\t\t\tif (userNumber == randomNumber) {\n",
    "\t\t\t\t\tSystem.out.println(randomNumber + \" number is correct!\");\n",
    "\t\t\t\t\tSystem.out.println(\"Thank you for playing!\");\n",
    "\t\t\t\t\tcorrect = 1;\n",
    "\t\t\t\t}            \n",
    "\n",
    "\t\t\t}\n",
    "\n",
    "\t\t}\n",
    "\n",
    "\t}\n",
    "\n",
    "}\n",
    "\n",
    "NumberGuessingGame.main(null);"
   ]
  },
  {
   "cell_type": "markdown",
   "metadata": {},
   "source": [
    "### Part 2 - Complete this Homework Quiz"
   ]
  },
  {
   "cell_type": "markdown",
   "metadata": {},
   "source": [
    "-image: images/Iteration-score.png\n"
   ]
  }
 ],
 "metadata": {
  "kernelspec": {
   "display_name": "Java",
   "language": "java",
   "name": "java"
  },
  "language_info": {
   "codemirror_mode": "java",
   "file_extension": ".jshell",
   "mimetype": "text/x-java-source",
   "name": "Java",
   "pygments_lexer": "java",
   "version": "11.0.12+8-LTS-237"
  },
  "orig_nbformat": 4
 },
 "nbformat": 4,
 "nbformat_minor": 2
}
