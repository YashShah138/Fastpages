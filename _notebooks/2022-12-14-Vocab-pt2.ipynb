{
 "cells": [
  {
   "attachments": {},
   "cell_type": "markdown",
   "metadata": {},
   "source": [
    "# College Board Vocab Units 06-10\n",
    "\n",
    "- title: College Board Vocab Units 06-10\n",
    "- toc: false\n",
    "- badges: false\n",
    "- comments: false\n",
    "- categories: [Week-16]"
   ]
  },
  {
   "attachments": {},
   "cell_type": "markdown",
   "metadata": {},
   "source": [
    "### Inheritance, Extends"
   ]
  },
  {
   "cell_type": "code",
   "execution_count": 2,
   "metadata": {
    "vscode": {
     "languageId": "java"
    }
   },
   "outputs": [
    {
     "name": "stdout",
     "output_type": "stream",
     "text": [
      "My name is Max\n",
      "I can eat\n"
     ]
    }
   ],
   "source": [
    "class Animal {\n",
    "    // field and method of the parent class\n",
    "    String name;\n",
    "    public void eat() {\n",
    "        System.out.println(\"I can eat\");\n",
    "    }\n",
    "}\n",
    "  \n",
    "// inherit from Animal\n",
    "class Dog extends Animal {\n",
    "    // new method in subclass\n",
    "    public void display() {\n",
    "        System.out.println(\"My name is \" + name);\n",
    "    }\n",
    "}\n",
    "  \n",
    "class Main {\n",
    "    public static void main(String[] args) {\n",
    "  \n",
    "        // create an object of the subclass\n",
    "        Dog gs = new Dog();\n",
    "  \n",
    "        // access field of superclass\n",
    "        gs.name = \"Max\";\n",
    "        gs.display();\n",
    "  \n",
    "        // call method of superclass\n",
    "        // using object of subclass\n",
    "        gs.eat();\n",
    "  \n",
    "    }\n",
    "}\n",
    "\n",
    "Main.main(null);"
   ]
  },
  {
   "attachments": {},
   "cell_type": "markdown",
   "metadata": {},
   "source": [
    "### Subclass constructor, super Keyword\n",
    "- Uses of super keyword\n",
    "    - To call methods of the superclass that is overridden in the subclass.\n",
    "    - To access attributes (fields) of the superclass if both superclass and subclass have attributes with the same name.\n",
    "    - To explicitly call superclass no-arg (default) or parameterized constructor from the subclass constructor."
   ]
  },
  {
   "cell_type": "code",
   "execution_count": 3,
   "metadata": {
    "vscode": {
     "languageId": "java"
    }
   },
   "outputs": [
    {
     "name": "stdout",
     "output_type": "stream",
     "text": [
      "I am a dog\n"
     ]
    }
   ],
   "source": [
    "/**\n",
    " * Method Overriding\n",
    " */\n",
    "\n",
    "class Animal {\n",
    "\n",
    "    // overridden method\n",
    "    public void display(){\n",
    "        System.out.println(\"I am an animal\");\n",
    "    }\n",
    "}\n",
    "\n",
    "  class Dog extends Animal {\n",
    "  \n",
    "    // overriding method\n",
    "    @Override\n",
    "    public void display(){\n",
    "        System.out.println(\"I am a dog\");\n",
    "    }\n",
    "  \n",
    "    public void printMessage(){\n",
    "        display();\n",
    "    }\n",
    "}\n",
    "  \n",
    "  class Main {\n",
    "    public static void main(String[] args) {\n",
    "        Dog dog1 = new Dog();\n",
    "        dog1.printMessage();\n",
    "    }\n",
    "}\n",
    "\n",
    "Main.main(null);"
   ]
  },
  {
   "cell_type": "code",
   "execution_count": 4,
   "metadata": {
    "vscode": {
     "languageId": "java"
    }
   },
   "outputs": [
    {
     "name": "stdout",
     "output_type": "stream",
     "text": [
      "I am a dog\n",
      "I am an animal\n"
     ]
    }
   ],
   "source": [
    "/**\n",
    " * super to Call Superclass Method\n",
    " */\n",
    "\n",
    "class Animal {\n",
    "\n",
    "    // overridden method\n",
    "    public void display(){\n",
    "        System.out.println(\"I am an animal\");\n",
    "    }\n",
    "}\n",
    "  \n",
    "  class Dog extends Animal {\n",
    "  \n",
    "    // overriding method\n",
    "    @Override\n",
    "    public void display(){\n",
    "        System.out.println(\"I am a dog\");\n",
    "    }\n",
    "  \n",
    "    public void printMessage(){\n",
    "        // this calls overriding method\n",
    "        display();\n",
    "\n",
    "        // this calls overridden method\n",
    "        super.display();\n",
    "    }\n",
    "}\n",
    "  \n",
    "  class Main {\n",
    "    public static void main(String[] args) {\n",
    "        Dog dog1 = new Dog();\n",
    "        dog1.printMessage();\n",
    "    }\n",
    "}\n",
    "\n",
    "Main.main(null);"
   ]
  },
  {
   "cell_type": "code",
   "execution_count": 6,
   "metadata": {
    "vscode": {
     "languageId": "java"
    }
   },
   "outputs": [
    {
     "name": "stdout",
     "output_type": "stream",
     "text": [
      "I am a mammal\n",
      "I am an animal\n"
     ]
    }
   ],
   "source": [
    "/**\n",
    " * Access superclass attribute\n",
    " */\n",
    "\n",
    "class Animal {\n",
    "    protected String type=\"animal\";\n",
    "}\n",
    "  \n",
    "  class Dog extends Animal {\n",
    "    public String type=\"mammal\";\n",
    "  \n",
    "    public void printType() {\n",
    "        System.out.println(\"I am a \" + type);\n",
    "        System.out.println(\"I am an \" + super.type);\n",
    "    }\n",
    "}\n",
    "  \n",
    "  class Main {\n",
    "    public static void main(String[] args) {\n",
    "        Dog dog1 = new Dog();\n",
    "        dog1.printType();\n",
    "    }\n",
    "}\n",
    "\n",
    "Main.main(null);"
   ]
  },
  {
   "attachments": {},
   "cell_type": "markdown",
   "metadata": {},
   "source": [
    "### Overloading a method, same name different parameters"
   ]
  },
  {
   "cell_type": "code",
   "execution_count": null,
   "metadata": {
    "vscode": {
     "languageId": "java"
    }
   },
   "outputs": [],
   "source": []
  },
  {
   "attachments": {},
   "cell_type": "markdown",
   "metadata": {},
   "source": [
    "### Overriding a method, same signature of a method"
   ]
  },
  {
   "cell_type": "code",
   "execution_count": null,
   "metadata": {
    "vscode": {
     "languageId": "java"
    }
   },
   "outputs": [],
   "source": []
  },
  {
   "attachments": {},
   "cell_type": "markdown",
   "metadata": {},
   "source": [
    "### Abstract Class, Abstract Method"
   ]
  },
  {
   "cell_type": "code",
   "execution_count": null,
   "metadata": {
    "vscode": {
     "languageId": "java"
    }
   },
   "outputs": [],
   "source": []
  },
  {
   "attachments": {},
   "cell_type": "markdown",
   "metadata": {},
   "source": [
    "### Standard methods: toString(), equals(), hashCode()"
   ]
  },
  {
   "cell_type": "code",
   "execution_count": null,
   "metadata": {
    "vscode": {
     "languageId": "java"
    }
   },
   "outputs": [],
   "source": []
  },
  {
   "attachments": {},
   "cell_type": "markdown",
   "metadata": {},
   "source": [
    "### Late binding of object, referencing superclass object\n",
    "```\n",
    "Animal a = new Chicken();\n",
    "Animal b = new Goat();\n",
    "```"
   ]
  },
  {
   "cell_type": "code",
   "execution_count": null,
   "metadata": {
    "vscode": {
     "languageId": "java"
    }
   },
   "outputs": [],
   "source": []
  },
  {
   "attachments": {},
   "cell_type": "markdown",
   "metadata": {},
   "source": [
    "### Polymorphism: any of overloading, overriding, late binding"
   ]
  },
  {
   "cell_type": "code",
   "execution_count": null,
   "metadata": {
    "vscode": {
     "languageId": "java"
    }
   },
   "outputs": [],
   "source": []
  },
  {
   "attachments": {},
   "cell_type": "markdown",
   "metadata": {},
   "source": [
    "### Big O notation for Hash map, Binary Search, Single loop, Nested Loop"
   ]
  },
  {
   "cell_type": "code",
   "execution_count": null,
   "metadata": {
    "vscode": {
     "languageId": "java"
    }
   },
   "outputs": [],
   "source": []
  }
 ],
 "metadata": {
  "kernelspec": {
   "display_name": "Java",
   "language": "java",
   "name": "java"
  },
  "language_info": {
   "codemirror_mode": "java",
   "file_extension": ".jshell",
   "mimetype": "text/x-java-source",
   "name": "Java",
   "pygments_lexer": "java",
   "version": "11.0.12+8-LTS-237"
  },
  "orig_nbformat": 4
 },
 "nbformat": 4,
 "nbformat_minor": 2
}
