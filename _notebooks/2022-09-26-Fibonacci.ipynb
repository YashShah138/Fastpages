{
 "cells": [
  {
   "cell_type": "markdown",
   "metadata": {},
   "source": [
    "# Fibonacci, Extends and Data Modeling\n",
    "> Fibonacci, Extends and Data Modeling\n",
    "\n",
    "- title: Fibonacci, Extends and Data Modeling\n",
    "- toc: true\n",
    "- comments: true\n",
    "- categories: [Week-5]\n",
    "- image: images/Fib.png"
   ]
  },
  {
   "cell_type": "markdown",
   "metadata": {},
   "source": [
    "## Produce the Fibonacci sequence in multiple ways"
   ]
  },
  {
   "cell_type": "markdown",
   "metadata": {},
   "source": [
    "### Fibonacci Using For Loop"
   ]
  },
  {
   "cell_type": "code",
   "execution_count": 7,
   "metadata": {
    "vscode": {
     "languageId": "java"
    }
   },
   "outputs": [
    {
     "name": "stdout",
     "output_type": "stream",
     "text": [
      "Fibonacci Series for the first 27 terms:\n",
      "0 1 1 2 3 5 8 13 21 34 55 89 144 233 377 610 987 1597 2584 4181 6765 10946 17711 28657 46368 75025 121393 "
     ]
    }
   ],
   "source": [
    "import java.util.Scanner;\n",
    "\n",
    "public class FLoop {\n",
    "    public static void main(String[] args) {\n",
    "\n",
    "        Scanner in = new Scanner(System.in);\n",
    "\n",
    "        int n = in.nextInt();\n",
    "\n",
    "        int firstTerm = 0, secondTerm = 1;\n",
    "\n",
    "\n",
    "        System.out.println(\"Fibonacci Series for the first \" + n + \" terms:\");\n",
    "\n",
    "        for (int i = 1; i <= n; i++) {\n",
    "            System.out.print(firstTerm + \" \");\n",
    "\n",
    "            int nextTerm = firstTerm + secondTerm;\n",
    "            firstTerm = secondTerm;\n",
    "            secondTerm = nextTerm;\n",
    "        }\n",
    "\n",
    "    }\n",
    "}\n",
    "FLoop.main(null);"
   ]
  },
  {
   "cell_type": "markdown",
   "metadata": {},
   "source": [
    "### Fibonacci Using While Loop"
   ]
  },
  {
   "cell_type": "code",
   "execution_count": 9,
   "metadata": {
    "vscode": {
     "languageId": "java"
    }
   },
   "outputs": [
    {
     "name": "stdout",
     "output_type": "stream",
     "text": [
      "Fibonacci Series for the first 27 terms:\n",
      "0 1 1 2 3 5 8 13 21 34 55 89 144 233 377 610 987 1597 2584 4181 6765 10946 17711 28657 46368 75025 121393 "
     ]
    }
   ],
   "source": [
    "import java.util.Scanner;\n",
    "\n",
    "public class WLoop {\n",
    "    public static void main(String[] args) {\n",
    "\n",
    "        Scanner in = new Scanner(System.in);\n",
    "        int n = in.nextInt();\n",
    "\n",
    "        int firstTerm = 0, secondTerm = 1, i = 1;\n",
    "\n",
    "        System.out.println(\"Fibonacci Series for the first \" + n + \" terms:\");\n",
    "\n",
    "        while (i <= n) {\n",
    "            System.out.print(firstTerm + \" \");\n",
    "      \n",
    "            int nextTerm = firstTerm + secondTerm;\n",
    "            firstTerm = secondTerm;\n",
    "            secondTerm = nextTerm;\n",
    "      \n",
    "            i++;\n",
    "        }\n",
    "\n",
    "    }\n",
    "}\n",
    "WLoop.main(null);"
   ]
  },
  {
   "cell_type": "markdown",
   "metadata": {},
   "source": [
    "### Fibonacci Using Recursion"
   ]
  },
  {
   "cell_type": "code",
   "execution_count": 20,
   "metadata": {
    "vscode": {
     "languageId": "java"
    }
   },
   "outputs": [
    {
     "name": "stdout",
     "output_type": "stream",
     "text": [
      "How many terms do you want in the Fibonacci Sequence? 27\n",
      "Fibonacci Sequence with 27 terms.\n",
      "0 1 1 2 3 5 8 13 21 34 55 89 144 233 377 610 987 1597 2584 4181 6765 10946 17711 28657 46368 75025 121393 "
     ]
    }
   ],
   "source": [
    "public class Recursion {\n",
    "    public static void main(String[] args) {\n",
    "        int lastTerm = 0, nextTerm = 1;\n",
    "\n",
    "        Scanner sc = new Scanner(System.in);\n",
    "        int maxTermLength = sc.nextInt();\n",
    "        System.out.println(\"How many terms do you want in the Fibonacci Sequence? \" + maxTermLength);\n",
    "        System.out.println(\"Fibonacci Sequence with \" + maxTermLength + \" terms.\");\n",
    "\n",
    "        for (int i = 1; i <= maxTermLength; ++i) {\n",
    "            System.out.print(lastTerm+\" \");\n",
    "            int sum = lastTerm + nextTerm;\n",
    "            lastTerm = nextTerm;\n",
    "            nextTerm = sum;\n",
    "        }\n",
    "\n",
    "    }\n",
    "}\n",
    "Recursion.main(null);"
   ]
  },
  {
   "cell_type": "markdown",
   "metadata": {},
   "source": [
    "## How Does This Assignment Fulfill the Following Standards From College Board\n",
    "\n",
    "- Skill 1.B:Determine code that would be used to complete code segments (ie For, While, Recursion)- Skill 4.C: Determine if two or more code segments yield equivalent results (be sure to Discuss how you know results are the same)\n",
    "\n",
    "- Skill 5.A: Describe the behavior of a given segment of program code (describe the difference in recursion versus for & while loops, perhaps add timing to determine speed)"
   ]
  },
  {
   "cell_type": "markdown",
   "metadata": {},
   "source": [
    "### Skill 1.B\n"
   ]
  },
  {
   "cell_type": "markdown",
   "metadata": {},
   "source": [
    "### Skill 5.A\n"
   ]
  }
 ],
 "metadata": {
  "kernelspec": {
   "display_name": "Java",
   "language": "java",
   "name": "java"
  },
  "language_info": {
   "codemirror_mode": "java",
   "file_extension": ".jshell",
   "mimetype": "text/x-java-source",
   "name": "Java",
   "pygments_lexer": "java",
   "version": "11.0.12+8-LTS-237"
  },
  "orig_nbformat": 4
 },
 "nbformat": 4,
 "nbformat_minor": 2
}
