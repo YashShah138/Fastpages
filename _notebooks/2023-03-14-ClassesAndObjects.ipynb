{
 "cells": [
  {
   "attachments": {},
   "cell_type": "markdown",
   "metadata": {},
   "source": [
    "# Notes On Classes And Objects\n",
    "> Notes On CB Video \"Review Session 2: Classes and Objects\"\n",
    "\n",
    "- title: Classes And Objects Notes\n",
    "- toc: true\n",
    "- comments: false\n",
    "- Categories: [Week-26]"
   ]
  },
  {
   "attachments": {},
   "cell_type": "markdown",
   "metadata": {},
   "source": [
    "## The ```Public``` Interface of a Class"
   ]
  },
  {
   "cell_type": "code",
   "execution_count": null,
   "metadata": {},
   "outputs": [],
   "source": [
    "public class Person {\n",
    "    public Person(String name, int age, String location) { // Constructor header w/ parameters\n",
    "        // pass\n",
    "    }\n",
    "\n",
    "    public String getName(String name, int age, String location) { // Accessor Method, will return value\n",
    "        // pass\n",
    "    }\n",
    "\n",
    "    public int getAge() { // Accessor Method, will return value\n",
    "        // pass\n",
    "    }\n",
    "\n",
    "    public String getLocation() { // Accessor Method, will return value\n",
    "        // pass\n",
    "    }\n",
    "\n",
    "    public void changeLocation(String newLocation) { // Mutator Method, change the state of an object\n",
    "        // pass\n",
    "    }\n",
    "\n",
    "    public void haveABirthday() { // Mutator Method, change the state of an object\n",
    "        // pass\n",
    "    }\n",
    "}\n",
    "\n",
    "public static void main(String[] args) {\n",
    "    // Person = class\n",
    "    // teacher = Object name\n",
    "    // \"Mr. Mort\", 21, \"San Diego\" = Actual parameters\n",
    "    Person teacher = new Person(\"Mr. Mort\", 21, \"San Diego\");\n",
    "    Person student = new Person(\"Yash\", 18, \"San Diego\");\n",
    "\n",
    "    String location = teacher.getLocation();\n",
    "    System.out.println(location); // prints San Diego\n",
    "\n",
    "    student.haveABirthday();\n",
    "\n",
    "    System.out.println(student.getName()); // prints Yash\n",
    "    System.out.println(student.getAge()); // prints 18\n",
    "\n",
    "    teacher.changeLocation(\"Washington\");\n",
    "    System.out.println(teacher.getName()); // prints Mr. Mort\n",
    "    System.out.println(teacher.getLocation()); // prints Washington\n",
    "}\n"
   ]
  },
  {
   "attachments": {},
   "cell_type": "markdown",
   "metadata": {},
   "source": [
    "## The ```Math``` Class\n",
    "- Provides static methods that can be utilized through class.method() convention"
   ]
  },
  {
   "attachments": {},
   "cell_type": "markdown",
   "metadata": {},
   "source": [
    "\n",
    "| Method | What It Does |\n",
    "| ------ | ------------ |\n",
    "| ```static int abs(int x)``` | Returns absolute value of ```int``` x |\n",
    "| ```static double abs(double x)``` | Returns the absolute value of ```double``` x |\n",
    "| ```static double pow(double base, double exponent)``` | Returns first parameter to the power of the second parameter |\n",
    "| ```static double sqrt(double x)``` | Returns the positive square root of ```double``` x |\n",
    "| ```static double random()``` | Returns a ```double``` value greater than or equal to 0.0 and less than 1.0 |"
   ]
  },
  {
   "cell_type": "code",
   "execution_count": 5,
   "metadata": {},
   "outputs": [
    {
     "name": "stdout",
     "output_type": "stream",
     "text": [
      "abs(int x):\n",
      "45\n",
      "\n",
      "abs(double x):\n",
      "12.5\n",
      "\n",
      "pow(x, y):\n",
      "9.0\n",
      "\n",
      "sqrt(16):\n",
      "4.0\n",
      "\n",
      "random():\n",
      "70.86644341962915\n"
     ]
    }
   ],
   "source": [
    "System.out.println(\"abs(int x):\");\n",
    "System.out.println(Math.abs(-45));\n",
    "\n",
    "System.out.println(\"\\nabs(double x):\");\n",
    "System.out.println(Math.abs(-12.5));\n",
    "\n",
    "System.out.println(\"\\npow(double x, double y):\");\n",
    "System.out.println(Math.pow(3, 2));\n",
    "\n",
    "System.out.println(\"\\nsqrt(double x):\");\n",
    "System.out.println(Math.sqrt(16.0));\n",
    "\n",
    "System.out.println(\"\\nrandom():\");\n",
    "System.out.println(Math.random() * 100);"
   ]
  },
  {
   "attachments": {},
   "cell_type": "markdown",
   "metadata": {},
   "source": [
    "## Using ```String``` Class Objects\n",
    "```String word = \"theater\";```"
   ]
  },
  {
   "attachments": {},
   "cell_type": "markdown",
   "metadata": {},
   "source": [
    "| Method | What Does It Do |\n",
    "| ------ | --------------- |\n",
    "| ```String(String str)``` | Constructs new ```String``` object that represents the same sequence of characters |\n",
    "| ```int length()``` | Returns the number of characters in a ```String``` object |\n",
    "| ```String substring(int from, int to)``` | Returns the substring beginning at index ```from``` and ending at index ```to``` - 1 |\n",
    "| ```String substring(int from)``` | Returns ```substring(from,length())``` |\n",
    "| ```int indexOf(String str)``` | Returns the index of the first occurrence of ```str```; returns -1 if not found |\n",
    "| ```boolean equals(String other)``` | Returns ```true``` if this is equal to ```other```; returns ```false``` otherwise |\n",
    "| ```int compareTo(String other)``` | Returns a value < 0 if ```this``` is less than ```other```; returns 0 if this is equal to ```other```; returns a value > 0 if ```this``` is greater than ```other``` |"
   ]
  },
  {
   "cell_type": "code",
   "execution_count": 13,
   "metadata": {},
   "outputs": [
    {
     "name": "stdout",
     "output_type": "stream",
     "text": [
      "\u001b[0;1mTHEATER\u001b[0;0m\n",
      "\n",
      "length():\n",
      "7\n",
      "\n",
      "substring(int x, int y):\n",
      "HEAT\n",
      "\n",
      "substring(int x):\n",
      "EATER\n",
      "\n",
      "indexOf(String str):\n",
      "-1\n",
      "\n",
      "equals(String other):\n",
      "true\n",
      "\n",
      "equals(String other):\n",
      "false\n",
      "\n",
      "compareTo(String other):\n",
      "7\n"
     ]
    }
   ],
   "source": [
    "String word = \"THEATER\";\n",
    "System.out.println(\"\\033[0;1m\" + word + \"\\033[0;0m\");\n",
    "\n",
    "System.out.println(\"\\nlength():\");\n",
    "System.out.println(word.length());\n",
    "\n",
    "System.out.println(\"\\nsubstring(int x, int y):\");\n",
    "System.out.println(word.substring(1,5));\n",
    "\n",
    "System.out.println(\"\\nsubstring(int x):\");\n",
    "System.out.println(word.substring(2));\n",
    "\n",
    "System.out.println(\"\\nindexOf(String str):\");\n",
    "System.out.println(word.indexOf(\"ate\"));\n",
    "\n",
    "System.out.println(\"\\nequals(String other):\");\n",
    "System.out.println(word.equals(\"THEATER\"));\n",
    "\n",
    "System.out.println(\"\\nequals(String other):\");\n",
    "System.out.println(word.equals(\"MOVIE\"));\n",
    "\n",
    "System.out.println(\"\\ncompareTo(String other):\");\n",
    "System.out.println(word.compareTo(\"MOVIE THEATER\"));"
   ]
  },
  {
   "attachments": {},
   "cell_type": "markdown",
   "metadata": {},
   "source": [
    "## 2021 FRQ 2 - combinedTable - Canonical Solution"
   ]
  },
  {
   "cell_type": "code",
   "execution_count": null,
   "metadata": {},
   "outputs": [],
   "source": [
    "public class combinedTable { // Class header\n",
    "    \n",
    "    private SingleTable table1; // Declare private instance variables\n",
    "    private SingleTable table2; // Declare private instance variables\n",
    "\n",
    "\n",
    "    public CombinedTable(SingleTable t1, SingleTable t2 /* Constructor header w/ parameters */) {\n",
    "        table1 = t1; // Initialize instance variable\n",
    "        table2 = t2; // Initialize instance variable\n",
    "    }\n",
    "\n",
    "    \n",
    "    public boolean canSeat(int n) { // Method header w/ parameter\n",
    "        if (table1.getNumSeats() + table2.getNumSeats()-2 >= n) {\n",
    "            return true;\n",
    "        } else {\n",
    "            return false;\n",
    "        }\n",
    "    }\n",
    "\n",
    "    \n",
    "    public double getDesirability() { //Method header w/o parameter\n",
    "        if (table1.getHeight() == table2.getHeight()) {\n",
    "            return (table1.getViewQuality() + table2.getViewQuality()) / 2;\n",
    "        } else {\n",
    "            return (table1.getViewQuality() + table2.getViewQuality()) / 2 - 10;\n",
    "        }\n",
    "    }\n",
    "}"
   ]
  }
 ],
 "metadata": {
  "kernelspec": {
   "display_name": "Java",
   "language": "java",
   "name": "java"
  },
  "language_info": {
   "codemirror_mode": "java",
   "file_extension": ".jshell",
   "mimetype": "text/x-java-source",
   "name": "java",
   "pygments_lexer": "java",
   "version": "11.0.12+8-LTS-237"
  },
  "orig_nbformat": 4
 },
 "nbformat": 4,
 "nbformat_minor": 2
}
