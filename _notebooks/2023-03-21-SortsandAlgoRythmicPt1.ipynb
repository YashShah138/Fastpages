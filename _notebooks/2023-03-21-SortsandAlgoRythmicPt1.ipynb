{
 "cells": [
  {
   "attachments": {},
   "cell_type": "markdown",
   "metadata": {},
   "source": [
    "# Sorts and Algo Rhythmic Part 1\n",
    "> Sorts and Algo Rhythmic Part 1\n",
    "- title: Sorts and Algo Rhythmic\n",
    "- toc: true\n",
    "- comments: false\n",
    "- Categories: [Week-27]"
   ]
  },
  {
   "attachments": {},
   "cell_type": "markdown",
   "metadata": {},
   "source": [
    "## Bubble Sort"
   ]
  },
  {
   "cell_type": "code",
   "execution_count": 34,
   "metadata": {
    "vscode": {
     "languageId": "java"
    }
   },
   "outputs": [
    {
     "name": "stdout",
     "output_type": "stream",
     "text": [
      "Before sorting: [5, 1, 4, 2, 8]\n",
      "[1, 4, 2, 5, 8]\n",
      "[1, 2, 4, 5, 8]\n",
      "[1, 2, 4, 5, 8]\n",
      "After sorting: [1, 2, 4, 5, 8]\n"
     ]
    }
   ],
   "source": [
    "public class BubbleSort {\n",
    "    public static void bubbleSort(Comparable[] arr) {\n",
    "        int n = arr.length;\n",
    "        boolean swapped;\n",
    "        do {\n",
    "            swapped = false;\n",
    "            for (int i = 1; i < n; i++) {\n",
    "                if (arr[i-1].compareTo(arr[i]) > 0) {\n",
    "                    Comparable temp = arr[i-1];\n",
    "                    arr[i-1] = arr[i];\n",
    "                    arr[i] = temp;\n",
    "                    swapped = true;\n",
    "                }\n",
    "            }\n",
    "            n--;\n",
    "            System.out.println(Arrays.toString(arr));\n",
    "        } while (swapped);\n",
    "    }\n",
    "    \n",
    "    public static void main(String[] args) {\n",
    "        Integer[] arr = { 5, 1, 4, 2, 8 };\n",
    "        System.out.println(\"Before sorting: \" + Arrays.toString(arr));\n",
    "        bubbleSort(arr);\n",
    "        System.out.println(\"After sorting: \" + Arrays.toString(arr)); // [1, 2, 4, 5, 8]\n",
    "    }\n",
    "}\n",
    "\n",
    "BubbleSort.main(null);"
   ]
  },
  {
   "attachments": {},
   "cell_type": "markdown",
   "metadata": {},
   "source": [
    "## Selection Sort"
   ]
  },
  {
   "cell_type": "code",
   "execution_count": 20,
   "metadata": {
    "vscode": {
     "languageId": "java"
    }
   },
   "outputs": [
    {
     "name": "stdout",
     "output_type": "stream",
     "text": [
      "Before sorting: [5, 1, 4, 2, 8]\n",
      "[5, 1, 4, 2, 8]\n",
      "[5, 1, 4, 2, 8]\n",
      "[5, 1, 4, 2, 8]\n",
      "[5, 1, 4, 2, 8]\n",
      "[1, 5, 4, 2, 8]\n",
      "[1, 5, 4, 2, 8]\n",
      "[1, 5, 4, 2, 8]\n",
      "[1, 2, 4, 5, 8]\n",
      "[1, 2, 4, 5, 8]\n",
      "[1, 2, 4, 5, 8]\n",
      "After sorting: [1, 2, 4, 5, 8]\n"
     ]
    }
   ],
   "source": [
    "public class SelectionSort {\n",
    "    public static void selectionSort(Comparable[] arr) {\n",
    "        int n = arr.length;\n",
    "        for (int i = 0; i < n-1; i++) {\n",
    "            int minIdx = i;\n",
    "            for (int j = i+1; j < n; j++) {\n",
    "                if (arr[j].compareTo(arr[minIdx]) < 0) {\n",
    "                    minIdx = j;\n",
    "                }\n",
    "                System.out.println(Arrays.toString(arr));\n",
    "            }\n",
    "            if (minIdx != i) {\n",
    "                Comparable temp = arr[i];\n",
    "                arr[i] = arr[minIdx];\n",
    "                arr[minIdx] = temp;\n",
    "            }\n",
    "        }\n",
    "    }\n",
    "    \n",
    "    public static void main(String[] args) {\n",
    "        Integer[] arr = { 5, 1, 4, 2, 8 };\n",
    "        System.out.println(\"Before sorting: \" + Arrays.toString(arr));\n",
    "        selectionSort(arr);\n",
    "        System.out.println(\"After sorting: \" + Arrays.toString(arr)); // [1, 2, 4, 5, 8]\n",
    "    }\n",
    "}\n",
    "\n",
    "SelectionSort.main(null);"
   ]
  },
  {
   "attachments": {},
   "cell_type": "markdown",
   "metadata": {},
   "source": [
    "## Insertion Sort"
   ]
  },
  {
   "cell_type": "code",
   "execution_count": 14,
   "metadata": {
    "vscode": {
     "languageId": "java"
    }
   },
   "outputs": [
    {
     "name": "stdout",
     "output_type": "stream",
     "text": [
      "Before sorting: [5, 1, 4, 2, 8]\n",
      "[5, 5, 4, 2, 8]\n",
      "[1, 5, 4, 2, 8]\n",
      "[1, 5, 5, 2, 8]\n",
      "[1, 4, 5, 2, 8]\n",
      "[1, 4, 5, 5, 8]\n",
      "[1, 4, 4, 5, 8]\n",
      "[1, 2, 4, 5, 8]\n",
      "[1, 2, 4, 5, 8]\n",
      "After sorting: [1, 2, 4, 5, 8]\n"
     ]
    }
   ],
   "source": [
    "public class InsertionSort {\n",
    "    public static void insertionSort(Comparable[] arr) {\n",
    "        int n = arr.length;\n",
    "        for (int i = 1; i < n; i++) {\n",
    "            Comparable key = arr[i];\n",
    "            int j = i - 1;\n",
    "            while (j >= 0 && arr[j].compareTo(key) > 0) {\n",
    "                arr[j+1] = arr[j];\n",
    "                j--;\n",
    "                System.out.println(Arrays.toString(arr));\n",
    "            }\n",
    "            arr[j+1] = key;\n",
    "            System.out.println(Arrays.toString(arr));\n",
    "        }\n",
    "    }\n",
    "    \n",
    "    public static void main(String[] args) {\n",
    "        Integer[] arr = { 5, 1, 4, 2, 8 };\n",
    "        System.out.println(\"Before sorting: \" + Arrays.toString(arr));\n",
    "        insertionSort(arr);\n",
    "        System.out.println(\"After sorting: \" + Arrays.toString(arr)); // [1, 2, 4, 5, 8]\n",
    "    }\n",
    "}\n",
    "\n",
    "InsertionSort.main(null);"
   ]
  },
  {
   "attachments": {},
   "cell_type": "markdown",
   "metadata": {},
   "source": [
    "## Merge Sort"
   ]
  },
  {
   "cell_type": "code",
   "execution_count": 33,
   "metadata": {
    "vscode": {
     "languageId": "java"
    }
   },
   "outputs": [
    {
     "name": "stdout",
     "output_type": "stream",
     "text": [
      "Before sorting: [5, 2, 8, 3, 1, 6]\n",
      "[2, 2, 8, 3, 1, 6]\n",
      "[2, 5, 8, 3, 1, 6]\n",
      "[2, 5, 8, 3, 1, 6]\n",
      "[2, 5, 8, 3, 1, 6]\n",
      "[2, 5, 8, 3, 1, 6]\n",
      "[2, 5, 8, 3, 1, 6]\n",
      "[2, 5, 8, 1, 1, 6]\n",
      "[2, 5, 8, 1, 3, 6]\n",
      "[2, 5, 8, 1, 3, 6]\n",
      "[2, 5, 8, 1, 3, 6]\n",
      "[2, 5, 8, 1, 3, 6]\n",
      "[2, 5, 8, 1, 3, 6]\n",
      "[1, 2, 3, 5, 6, 6]\n",
      "[1, 2, 3, 5, 6, 8]\n",
      "[1, 2, 3, 5, 6, 8]\n",
      "After sorting: [1, 2, 3, 5, 6, 8]\n"
     ]
    }
   ],
   "source": [
    "public class MergeSort {\n",
    "\n",
    "    public static void mergeSort(Comparable[] arr, int l, int r) {\n",
    "        if (l < r) {\n",
    "            int m = (l + r) / 2;\n",
    "            mergeSort(arr, l, m);\n",
    "            mergeSort(arr, m+1, r);\n",
    "            merge(arr, l, m, r);\n",
    "        }\n",
    "    }\n",
    "\n",
    "    public static void merge(Comparable[] arr, int l, int m, int r) {\n",
    "        int n1 = m - l + 1;\n",
    "        int n2 = r - m;\n",
    "        Comparable[] L = new Comparable[n1];\n",
    "        Comparable[] R = new Comparable[n2];\n",
    "        for (int i = 0; i < n1; i++) {\n",
    "            L[i] = arr[l+i];\n",
    "        }\n",
    "        for (int j = 0; j < n2; j++) {\n",
    "            R[j] = arr[m+1+j];\n",
    "        }\n",
    "        int i = 0, j = 0;\n",
    "        int k = l;\n",
    "        while (i < n1 && j < n2) {\n",
    "            if (L[i].compareTo(R[j]) <= 0) {\n",
    "                arr[k] = L[i];\n",
    "                i++;\n",
    "            } else {\n",
    "                arr[k] = R[j];\n",
    "                j++;\n",
    "            }\n",
    "            k++;\n",
    "        }\n",
    "        System.out.println(Arrays.toString(arr));\n",
    "        while (i < n1) {\n",
    "            arr[k] = L[i];\n",
    "            i++;\n",
    "            k++;\n",
    "        }\n",
    "        System.out.println(Arrays.toString(arr));\n",
    "        while (j < n2) {\n",
    "            arr[k] = R[j];\n",
    "            j++;\n",
    "            k++;\n",
    "        }\n",
    "        System.out.println(Arrays.toString(arr));\n",
    "    }\n",
    "\n",
    "    public static void main(String[] args) {\n",
    "        Integer[] arr = {5, 2, 8, 3, 1, 6};\n",
    "        System.out.println(\"Before sorting: \" + Arrays.toString(arr));\n",
    "        mergeSort(arr, 0, arr.length - 1);\n",
    "        System.out.println(\"After sorting: \" + Arrays.toString(arr));\n",
    "    }\n",
    "    \n",
    "}\n",
    "\n",
    "MergeSort.main(null);"
   ]
  }
 ],
 "metadata": {
  "kernelspec": {
   "display_name": "Java",
   "language": "java",
   "name": "java"
  },
  "language_info": {
   "codemirror_mode": "java",
   "file_extension": ".jshell",
   "mimetype": "text/x-java-source",
   "name": "Java",
   "pygments_lexer": "java",
   "version": "11.0.12+8-LTS-237"
  },
  "orig_nbformat": 4
 },
 "nbformat": 4,
 "nbformat_minor": 2
}
