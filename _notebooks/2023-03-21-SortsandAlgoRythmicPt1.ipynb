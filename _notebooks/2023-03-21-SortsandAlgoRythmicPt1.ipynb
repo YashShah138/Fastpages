{
 "cells": [
  {
   "attachments": {},
   "cell_type": "markdown",
   "metadata": {},
   "source": [
    "# Sorts and Algo Rhythmic Part 1\n",
    "> Sorts and Algo Rhythmic Part 1\n",
    "- title: Sorts and Algo Rhythmic\n",
    "- toc: true\n",
    "- comments: false\n",
    "- Categories: [Week-27]"
   ]
  },
  {
   "attachments": {},
   "cell_type": "markdown",
   "metadata": {},
   "source": [
    "## Bubble Sort"
   ]
  },
  {
   "cell_type": "code",
   "execution_count": 5,
   "metadata": {
    "vscode": {
     "languageId": "java"
    }
   },
   "outputs": [
    {
     "name": "stdout",
     "output_type": "stream",
     "text": [
      "Original array:\n",
      "64 34 25 12 22 11 90 \n",
      "\n",
      "Sorting steps:\n",
      "34 64 25 12 22 11 90 \n",
      "34 25 64 12 22 11 90 \n",
      "34 25 12 64 22 11 90 \n",
      "34 25 12 22 64 11 90 \n",
      "34 25 12 22 11 64 90 \n",
      "34 25 12 22 11 64 90 \n",
      "25 34 12 22 11 64 90 \n",
      "25 12 34 22 11 64 90 \n",
      "25 12 22 34 11 64 90 \n",
      "25 12 22 11 34 64 90 \n",
      "25 12 22 11 34 64 90 \n",
      "12 25 22 11 34 64 90 \n",
      "12 22 25 11 34 64 90 \n",
      "12 22 11 25 34 64 90 \n",
      "12 22 11 25 34 64 90 \n",
      "12 22 11 25 34 64 90 \n",
      "12 11 22 25 34 64 90 \n",
      "12 11 22 25 34 64 90 \n",
      "11 12 22 25 34 64 90 \n",
      "11 12 22 25 34 64 90 \n",
      "11 12 22 25 34 64 90 \n",
      "\n",
      "Sorted array:\n",
      "11 12 22 25 34 64 90 \n"
     ]
    }
   ],
   "source": [
    "public class BubbleSort {\n",
    "    public static void sort(int[] arr) {\n",
    "        int n = arr.length;\n",
    "        for (int i = 0; i < n - 1; i++) {\n",
    "            for (int j = 0; j < n - i - 1; j++) {\n",
    "                if (arr[j] > arr[j + 1]) {\n",
    "                    // swap arr[j] and arr[j+1]\n",
    "                    int temp = arr[j];\n",
    "                    arr[j] = arr[j + 1];\n",
    "                    arr[j + 1] = temp;\n",
    "                }\n",
    "                printArray(arr);\n",
    "            }\n",
    "        }\n",
    "    }\n",
    "\n",
    "    private static void printArray(int[] arr) {\n",
    "        for (int num : arr) {\n",
    "            System.out.print(num + \" \");\n",
    "        }\n",
    "        System.out.println();\n",
    "    }\n",
    "    \n",
    "    // Tester method\n",
    "    public static void main(String[] args) {\n",
    "        int[] arr = {64, 34, 25, 12, 22, 11, 90};\n",
    "        System.out.println(\"Original array:\");\n",
    "        printArray(arr);\n",
    "        System.out.println(\"\\nSorting steps:\");\n",
    "        sort(arr);\n",
    "        System.out.println(\"\\nSorted array:\");\n",
    "        printArray(arr);\n",
    "    }\n",
    "}\n",
    "\n",
    "BubbleSort.main(null);"
   ]
  },
  {
   "attachments": {},
   "cell_type": "markdown",
   "metadata": {},
   "source": [
    "## Selection Sort"
   ]
  },
  {
   "cell_type": "code",
   "execution_count": 4,
   "metadata": {
    "vscode": {
     "languageId": "java"
    }
   },
   "outputs": [
    {
     "name": "stdout",
     "output_type": "stream",
     "text": [
      "Original array:\n",
      "64 34 25 12 22 11 90 \n",
      "\n",
      "Sorting steps:\n",
      "11 34 25 12 22 64 90 \n",
      "11 12 25 34 22 64 90 \n",
      "11 12 22 34 25 64 90 \n",
      "11 12 22 25 34 64 90 \n",
      "11 12 22 25 34 64 90 \n",
      "11 12 22 25 34 64 90 \n",
      "\n",
      "Sorted array:\n",
      "11 12 22 25 34 64 90 \n"
     ]
    }
   ],
   "source": [
    "public class SelectionSort {\n",
    "    public static void sort(int[] arr) {\n",
    "        int n = arr.length;\n",
    "        for (int i = 0; i < n - 1; i++) {\n",
    "            int minIndex = i;\n",
    "            for (int j = i + 1; j < n; j++) {\n",
    "                if (arr[j] < arr[minIndex]) {\n",
    "                    minIndex = j;\n",
    "                }\n",
    "            }\n",
    "            // swap arr[i] and arr[minIndex]\n",
    "            int temp = arr[i];\n",
    "            arr[i] = arr[minIndex];\n",
    "            arr[minIndex] = temp;\n",
    "            printArray(arr);\n",
    "        }\n",
    "    }\n",
    "\n",
    "    private static void printArray(int[] arr) {\n",
    "        for (int num : arr) {\n",
    "            System.out.print(num + \" \");\n",
    "        }\n",
    "        System.out.println();\n",
    "    }\n",
    "    \n",
    "    // Tester method\n",
    "    public static void main(String[] args) {\n",
    "        int[] arr = {64, 34, 25, 12, 22, 11, 90};\n",
    "        System.out.println(\"Original array:\");\n",
    "        printArray(arr);\n",
    "        System.out.println(\"\\nSorting steps:\");\n",
    "        sort(arr);\n",
    "        System.out.println(\"\\nSorted array:\");\n",
    "        printArray(arr);\n",
    "    }\n",
    "}\n",
    "\n",
    "SelectionSort.main(null);"
   ]
  },
  {
   "attachments": {},
   "cell_type": "markdown",
   "metadata": {},
   "source": [
    "## Insertion Sort"
   ]
  },
  {
   "cell_type": "code",
   "execution_count": 7,
   "metadata": {
    "vscode": {
     "languageId": "java"
    }
   },
   "outputs": [
    {
     "name": "stdout",
     "output_type": "stream",
     "text": [
      "Original array:\n",
      "12 11 13 5 6 \n",
      "\n",
      "Sorting steps:\n",
      "11 12 13 5 6 \n",
      "11 12 13 5 6 \n",
      "5 11 12 13 6 \n",
      "5 6 11 12 13 \n",
      "\n",
      "Sorted array:\n",
      "5 6 11 12 13 \n"
     ]
    }
   ],
   "source": [
    "public class InsertionSort {\n",
    "    public static void sort(int[] arr) {\n",
    "        int n = arr.length;\n",
    "        for (int i = 1; i < n; ++i) {\n",
    "            int key = arr[i];\n",
    "            int j = i - 1;\n",
    "\n",
    "            while (j >= 0 && arr[j] > key) {\n",
    "                arr[j + 1] = arr[j];\n",
    "                j = j - 1;\n",
    "            }\n",
    "            arr[j + 1] = key;\n",
    "            printArray(arr);\n",
    "        }\n",
    "    }\n",
    "\n",
    "    public static void printArray(int[] arr) {\n",
    "        for (int i : arr) {\n",
    "            System.out.print(i + \" \");\n",
    "        }\n",
    "        System.out.println();\n",
    "    }\n",
    "\n",
    "    public static void main(String[] args) {\n",
    "        int[] arr = {12, 11, 13, 5, 6};\n",
    "        System.out.println(\"Original array:\");\n",
    "        printArray(arr);\n",
    "        System.out.println(\"\\nSorting steps:\");\n",
    "        sort(arr);\n",
    "        System.out.println(\"\\nSorted array:\");\n",
    "        printArray(arr);\n",
    "    }\n",
    "}\n",
    "\n",
    "InsertionSort.main(null);"
   ]
  },
  {
   "attachments": {},
   "cell_type": "markdown",
   "metadata": {},
   "source": [
    "## Merge Sort"
   ]
  },
  {
   "cell_type": "code",
   "execution_count": 8,
   "metadata": {
    "vscode": {
     "languageId": "java"
    }
   },
   "outputs": [
    {
     "name": "stdout",
     "output_type": "stream",
     "text": [
      "Original array:\n",
      "12 11 13 5 6 7 \n",
      "\n",
      "Sorting steps:\n",
      "11 12 13 5 6 7 \n",
      "11 12 13 5 6 7 \n",
      "11 12 13 5 6 7 \n",
      "11 12 13 5 6 7 \n",
      "5 6 7 11 12 13 \n",
      "\n",
      "Sorted array:\n",
      "5 6 7 11 12 13 \n"
     ]
    }
   ],
   "source": [
    "public class MergeSort {\n",
    "    public static void sort(int[] arr, int l, int r) {\n",
    "        if (l < r) {\n",
    "            int m = (l + r) / 2;\n",
    "\n",
    "            sort(arr, l, m);\n",
    "            sort(arr, m + 1, r);\n",
    "\n",
    "            merge(arr, l, m, r);\n",
    "            printArray(arr);\n",
    "        }\n",
    "    }\n",
    "\n",
    "    public static void merge(int[] arr, int l, int m, int r) {\n",
    "        int n1 = m - l + 1;\n",
    "        int n2 = r - m;\n",
    "\n",
    "        int[] L = new int[n1];\n",
    "        int[] R = new int[n2];\n",
    "\n",
    "        for (int i = 0; i < n1; ++i) {\n",
    "            L[i] = arr[l + i];\n",
    "        }\n",
    "        for (int j = 0; j < n2; ++j) {\n",
    "            R[j] = arr[m + 1 + j];\n",
    "        }\n",
    "\n",
    "        int i = 0, j = 0;\n",
    "        int k = l;\n",
    "        while (i < n1 && j < n2) {\n",
    "            if (L[i] <= R[j]) {\n",
    "                arr[k] = L[i];\n",
    "                i++;\n",
    "            }\n",
    "            else {\n",
    "                arr[k] = R[j];\n",
    "                j++;\n",
    "            }\n",
    "            k++;\n",
    "        }\n",
    "\n",
    "        while (i < n1) {\n",
    "            arr[k] = L[i];\n",
    "            i++;\n",
    "            k++;\n",
    "        }\n",
    "\n",
    "        while (j < n2) {\n",
    "            arr[k] = R[j];\n",
    "            j++;\n",
    "            k++;\n",
    "        }\n",
    "    }\n",
    "\n",
    "    public static void printArray(int[] arr) {\n",
    "        for (int i : arr) {\n",
    "            System.out.print(i + \" \");\n",
    "        }\n",
    "        System.out.println();\n",
    "    }\n",
    "\n",
    "    public static void main(String[] args) {\n",
    "        int[] arr = {12, 11, 13, 5, 6, 7};\n",
    "        System.out.println(\"Original array:\");\n",
    "        printArray(arr);\n",
    "        System.out.println(\"\\nSorting steps:\");\n",
    "        int n = arr.length;\n",
    "        sort(arr, 0, n - 1);\n",
    "        System.out.println(\"\\nSorted array:\");\n",
    "        printArray(arr);\n",
    "    }\n",
    "}\n",
    "\n",
    "MergeSort.main(null);"
   ]
  }
 ],
 "metadata": {
  "kernelspec": {
   "display_name": "Java",
   "language": "java",
   "name": "java"
  },
  "language_info": {
   "codemirror_mode": "java",
   "file_extension": ".jshell",
   "mimetype": "text/x-java-source",
   "name": "Java",
   "pygments_lexer": "java",
   "version": "11.0.12+8-LTS-237"
  },
  "orig_nbformat": 4
 },
 "nbformat": 4,
 "nbformat_minor": 2
}
