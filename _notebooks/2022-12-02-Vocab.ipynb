{
 "cells": [
  {
   "cell_type": "markdown",
   "metadata": {},
   "source": [
    "# College Board Vocab\n",
    "\n",
    "- title: College Board Vocab and Implementation\n",
    "- toc: false\n",
    "- badges: false\n",
    "- comments: false\n",
    "- categories: [Week-14]"
   ]
  },
  {
   "cell_type": "markdown",
   "metadata": {},
   "source": [
    "### This page will be used to display the learnings from College Board and its requirements\n",
    "\n",
    "#### Table of Contents (ToC)\n",
    "\n",
    "- [Unit 1 - Primitive Types](https://yashshah138.github.io/Fastpages/week-14/2022/12/02/Vocab.html#Unit-1:-Primitives)\n",
    "- [Unit 2 - Using Objects](https://yashshah138.github.io/Fastpages/week-14/2022/12/02/Vocab.html#Unit-2:-Using-Objects)\n",
    "- [Unit 3 - Boolean Expressions and if Statements](https://yashshah138.github.io/Fastpages/week-14/2022/12/02/Vocab.html#Unit-3:-Booleans-and-If-Statements)\n",
    "- [Unit 4 - Iteration](https://yashshah138.github.io/Fastpages/week-14/2022/12/02/Vocab.html#Unit-4:-Iteration)\n",
    "- [Unit 5 - Writing Classes](https://yashshah138.github.io/Fastpages/week-14/2022/12/02/Vocab.html#Unit-5:-Writing-Classes)\n",
    "- [Unit 6 - Array](https://yashshah138.github.io/Fastpages/week-14/2022/12/02/Vocab.html)\n",
    "- [Unit 7 - ArrayList](https://yashshah138.github.io/Fastpages/week-14/2022/12/02/Vocab.html)\n",
    "- [Unit 8 - 2D Array](https://yashshah138.github.io/Fastpages/week-14/2022/12/02/Vocab.html)\n",
    "- [Unit 9 - Inheritance](https://yashshah138.github.io/Fastpages/week-14/2022/12/02/Vocab.html)\n",
    "- [Unit 10 - Recursion](https://yashshah138.github.io/Fastpages/week-14/2022/12/02/Vocab.html)"
   ]
  },
  {
   "cell_type": "markdown",
   "metadata": {},
   "source": [
    "## Unit 1: Primitives\n",
    "\n",
    "- Two main types of data in java\n",
    "    - primitives\n",
    "        - int\n",
    "        - boolean\n",
    "        - char\n",
    "        - double\n",
    "    - objects\n",
    "        - strings\n",
    "        - other classes\n",
    "- Primitives do not have methods and properties while these are present in classes (ie. String length() method)\n",
    "- [Homework from student presentation](https://yashshah138.github.io/Fastpages/week-8/2022/10/12/Unit-01.html)"
   ]
  },
  {
   "cell_type": "markdown",
   "metadata": {},
   "source": [
    "### Casting\n",
    "- Casting assigns a different type to a variable when executing code (int to double/float in division to get exact numbers)\n",
    "- When going from float/double to int, the number is truncated (takes the numbers to the left of the decimal point as the answer)"
   ]
  },
  {
   "cell_type": "code",
   "execution_count": 11,
   "metadata": {},
   "outputs": [
    {
     "name": "stdout",
     "output_type": "stream",
     "text": [
      "3\n",
      "3.5\n",
      "3.7\n",
      "3\n"
     ]
    }
   ],
   "source": [
    "// Set numbers to variables\n",
    "int x = 7;\n",
    "int y = 2;\n",
    "\n",
    "// Print division of x and y w/o casting (will do floor division)\n",
    "System.out.println(x/y);\n",
    "\n",
    "// Print division of x and y w/ casting (will give exact answer)\n",
    "System.out.println((float)x/(float)y);\n",
    "\n",
    "// Can also work in the reverse order\n",
    "float z = 3.7f;\n",
    "\n",
    "// Printing \"z\" w/o casting\n",
    "System.out.println(z);\n",
    "\n",
    "// Printing \"z\" w/ casting as int\n",
    "System.out.println((int)z); \n"
   ]
  },
  {
   "cell_type": "markdown",
   "metadata": {},
   "source": [
    "### Wrapper Class\n",
    "- Used to convert primitive data types to be used in things like ArrayLists"
   ]
  },
  {
   "cell_type": "code",
   "execution_count": 15,
   "metadata": {},
   "outputs": [
    {
     "name": "stdout",
     "output_type": "stream",
     "text": [
      "[5]\n"
     ]
    }
   ],
   "source": [
    "// assign value to variable\n",
    "int x = 5;\n",
    "\n",
    "// instantiate arraylist of ints\n",
    "ArrayList<Integer> intList = new ArrayList<Integer>();\n",
    "\n",
    "// create integer from int for wrapper\n",
    "Integer a_wrapper = new Integer(x);\n",
    "intList.add(x);\n",
    "\n",
    "System.out.println(intList);"
   ]
  },
  {
   "cell_type": "markdown",
   "metadata": {},
   "source": [
    "## Unit 2: Using Objects\n",
    "- Objects are just an instance created out of a class created w/ a constructor (which takes in parameters describing the object\n",
    "- Methods in objects can be void (returns nothing) or have a return type specified\n",
    "- Static methods and properties are tied to class rather than object (ie. same value for all objects)\n",
    "- Methods can be overloaded (have different sets of parameters) as long as order of types differs between method definitions even with same name\n",
    "- [Homework from student presentation](https://yashshah138.github.io/Fastpages/week-8/2022/10/13/Unit-02.html)"
   ]
  },
  {
   "cell_type": "markdown",
   "metadata": {},
   "source": [
    "### Concatenation\n",
    "- Combine strings using \"+\"\n",
    "- Use toString() for non string types"
   ]
  },
  {
   "cell_type": "code",
   "execution_count": 19,
   "metadata": {},
   "outputs": [
    {
     "name": "stdout",
     "output_type": "stream",
     "text": [
      "Hello Hi Howdy! \n",
      "Howdy! 15\n"
     ]
    }
   ],
   "source": [
    "// assignment of variables\n",
    "String x = \"Hello \";\n",
    "String y = \"Hi \";\n",
    "String z = \"Howdy! \";\n",
    "int a = 15;\n",
    "\n",
    "// Concatenate all the strings together\n",
    "System.out.println(x + y + z);\n",
    "\n",
    "// When we concatenate int a to string z, it converts a to a string\n",
    "System.out.println(z + a);"
   ]
  },
  {
   "cell_type": "markdown",
   "metadata": {},
   "source": [
    "### Math Class\n",
    "- Can use for generating random number\n",
    "- Use for conducting more complex calculations than \"+, -, *, /, %, or //\""
   ]
  },
  {
   "cell_type": "code",
   "execution_count": 32,
   "metadata": {},
   "outputs": [
    {
     "name": "stdout",
     "output_type": "stream",
     "text": [
      "9\n",
      "1\n",
      "5\n"
     ]
    }
   ],
   "source": [
    "int x = 10;\n",
    "\n",
    "for (int n = 0; n < 3; n++) {\n",
    "    int ran_num = (int)(Math.random() * x + 1);\n",
    "    System.out.println(ran_num);\n",
    "}"
   ]
  },
  {
   "cell_type": "markdown",
   "metadata": {},
   "source": [
    "### Comparing Numbers, Strings, and Objects\n",
    "- Numbers compared using ==\n",
    "- Objects compared using .equals()"
   ]
  },
  {
   "cell_type": "code",
   "execution_count": 33,
   "metadata": {},
   "outputs": [
    {
     "name": "stdout",
     "output_type": "stream",
     "text": [
      "true\n",
      "false\n",
      "true\n",
      "false\n"
     ]
    }
   ],
   "source": [
    "int a = 1;\n",
    "int b = 1;\n",
    "int c = 2;\n",
    "String x = \"Howdy\";\n",
    "String y = \"Howdy\";\n",
    "String z = \"Hello\";\n",
    "\n",
    "System.out.println(a == b);\n",
    "System.out.println(a == c);\n",
    "System.out.println(x.equals(y));\n",
    "System.out.println(x.equals(z));"
   ]
  },
  {
   "cell_type": "markdown",
   "metadata": {},
   "source": [
    "## Unit 3: Booleans and If Statements\n",
    "- Boolean = true or false\n",
    "    - Created when using comparison\n",
    "        - ==\n",
    "        - <\n",
    "        - >\n",
    "    - If statements used to check conditions\n",
    "- [Homework from student presentation](https://yashshah138.github.io/Fastpages/week-9/2022/10/18/Unit-03.html)"
   ]
  },
  {
   "cell_type": "markdown",
   "metadata": {},
   "source": [
    "### Compound Boolean Expression\n",
    "- Compound boolean expressions = made up of many boolean expressions"
   ]
  },
  {
   "cell_type": "code",
   "execution_count": 34,
   "metadata": {},
   "outputs": [
    {
     "name": "stdout",
     "output_type": "stream",
     "text": [
      "true\n"
     ]
    }
   ],
   "source": [
    "boolean x = true;\n",
    "boolean y = false;\n",
    "\n",
    "// compound boolean expressions\n",
    "boolean compound_boolean = !(x && y) || (x || y) && !(x || y);\n",
    "\n",
    "// result\n",
    "System.out.println(compound_boolean);"
   ]
  },
  {
   "cell_type": "markdown",
   "metadata": {},
   "source": [
    "### De Morgan's Law\n",
    "- ```!(a && b) = !a || !b``` and ```!(a || b) = !a && !b```"
   ]
  },
  {
   "cell_type": "code",
   "execution_count": 40,
   "metadata": {},
   "outputs": [
    {
     "name": "stdout",
     "output_type": "stream",
     "text": [
      "false false false\n"
     ]
    }
   ],
   "source": [
    "boolean a = false;\n",
    "boolean b = true;\n",
    "boolean c = false;\n",
    "boolean d = true;\n",
    "\n",
    "// complicated boolean expression\n",
    "boolean complicated = !((!(a && b)) || (!(a || b)));\n",
    "\n",
    "// De Morgan's Law one\n",
    "boolean simplified_one = !((!a || !b) || (!a && !b));\n",
    "\n",
    "// De Morgan's Law two\n",
    "boolean simplified_two = !(!a || !b) && !(!a && !b);\n",
    "\n",
    "// print result (should all be same)\n",
    "System.out.println(complicated + \" \" + simplified_one + \" \" + simplified_two);"
   ]
  },
  {
   "cell_type": "markdown",
   "metadata": {},
   "source": [
    "## Unit 4: Iteration\n",
    "- While loop = while condition met\n",
    "- For loop = for temp var in condition\n",
    "- loops can be nested\n",
    "- [Homework from student presentation](https://yashshah138.github.io/Fastpages/week-9/2022/10/19/Unit-04.html)"
   ]
  },
  {
   "cell_type": "markdown",
   "metadata": {},
   "source": [
    "### For loop"
   ]
  },
  {
   "cell_type": "code",
   "execution_count": 55,
   "metadata": {},
   "outputs": [
    {
     "name": "stdout",
     "output_type": "stream",
     "text": [
      "Loop of even numbers through ten\n",
      "02468\n",
      "Looping through array\n",
      "12345\n",
      "Looping through array using enhanced loop\n",
      "12345"
     ]
    }
   ],
   "source": [
    "int[] array = {1, 2, 3, 4, 5};\n",
    "\n",
    "// looping through even numbers\n",
    "System.out.println(\"Loop of even numbers through ten\");\n",
    "for (int i = 0; i<10; i+=2) {\n",
    "    System.out.print(i);\n",
    "}\n",
    "\n",
    "System.out.println(\"\\nLooping through array\");\n",
    "// looping through array with for loop\n",
    "for (int i = 0; i<array.length; i++) {\n",
    "    System.out.print(array[i]);\n",
    "}\n",
    "\n",
    "System.out.println(\"\\nLooping through array using enhanced loop\");\n",
    "\n",
    "// looping through array with enhanced for loop\n",
    "for (int i : array) {\n",
    "    System.out.print(i);\n",
    "}"
   ]
  },
  {
   "cell_type": "markdown",
   "metadata": {},
   "source": [
    "### While Loop vs Do While Loop\n",
    "- While loops run while a condition is true, the condition is checked before each iteration of the code is run\n",
    "- Do while loops also run while a condition is true, but the condition is checked AFTER each iteration of the code is run\n",
    "    - This means that no matter what the do block runs at least once before the condition is checked\n"
   ]
  },
  {
   "cell_type": "code",
   "execution_count": 56,
   "metadata": {},
   "outputs": [
    {
     "name": "stdout",
     "output_type": "stream",
     "text": [
      "0\n",
      "2\n",
      "4\n",
      "6\n",
      "8\n",
      "do-while loop\n"
     ]
    }
   ],
   "source": [
    "int i = 0;\n",
    "boolean falseBool = false;\n",
    "\n",
    "// printing even numbers with while loop\n",
    "while (i < 10) {\n",
    "  System.out.println(i);\n",
    "  i += 2;\n",
    "}\n",
    "\n",
    "// if condition is false while loop does not run at all\n",
    "while (falseBool) {\n",
    "  System.out.println(\"while loop\");\n",
    "}\n",
    "\n",
    "// if condition is false in do while, the loop runs once\n",
    "do {\n",
    "  System.out.println(\"do-while loop\");\n",
    "} while (falseBool);"
   ]
  },
  {
   "cell_type": "markdown",
   "metadata": {},
   "source": [
    "### Nested Loops\n",
    "- Loops can be used inside each other for better iteration\n",
    "- Especially useful for 2D arrays"
   ]
  },
  {
   "cell_type": "code",
   "execution_count": 61,
   "metadata": {},
   "outputs": [
    {
     "name": "stdout",
     "output_type": "stream",
     "text": [
      "1 2 3 \n",
      "4 5 6 \n",
      "7 8 9 \n"
     ]
    }
   ],
   "source": [
    "int[][] arr = {\n",
    "    {1, 2, 3},\n",
    "    {4, 5, 6},\n",
    "    {7, 8, 9}\n",
    "};\n",
    "  \n",
    "// using nested for loops for 2D array\n",
    "for (int i = 0; i<arr.length; i++) {\n",
    "    for (int j = 0; j<arr[i].length; j++) {\n",
    "        System.out.print(arr[i][j] + \" \");\n",
    "    }\n",
    "    System.out.println();\n",
    "}"
   ]
  },
  {
   "cell_type": "markdown",
   "metadata": {},
   "source": [
    "## Unit 5: Writing Classes\n",
    "- Classes can be used for creating objects and have two main things: properties and methods\n",
    "- Properties are used to store information about each object of a class (can be made private/public which determines accessibility outside of class)\n",
    "- Methods are used to modify the object & do things\n",
    "- Getter and Setter Methods can be used to modify properties of a class which are made private\n",
    "- [Homework from student presentation](https://yashshah138.github.io/Fastpages/week-9/2022/10/20/Unit-05.html)"
   ]
  },
  {
   "cell_type": "markdown",
   "metadata": {},
   "source": [
    "### Creating a Class\n",
    "- Defined with camelCase"
   ]
  },
  {
   "cell_type": "code",
   "execution_count": null,
   "metadata": {},
   "outputs": [],
   "source": [
    "// create a class\n",
    "class HelloWorld {\n",
    "    // code\n",
    "}"
   ]
  },
  {
   "cell_type": "markdown",
   "metadata": {},
   "source": [
    "### Main Method\n",
    "- Used as tester method"
   ]
  },
  {
   "cell_type": "code",
   "execution_count": null,
   "metadata": {},
   "outputs": [],
   "source": [
    "class HelloWorld {\n",
    "    public static void main (String[] args) {\n",
    "        HelloWorld object = new HelloWorld();\n",
    "    }\n",
    "}\n",
    "\n",
    "HelloWorld.main(null);"
   ]
  },
  {
   "cell_type": "markdown",
   "metadata": {},
   "source": [
    "### This\n",
    "- The \"this\" keyword allows you to access properties of the class\n",
    "- See constructor example to see use of this keyword"
   ]
  },
  {
   "cell_type": "markdown",
   "metadata": {},
   "source": [
    "### Constructor\n",
    "- Constructor is called whenver the object is created, usually initializes fields\n",
    "- Does not return anything because the object is automatically given to the user when constructor is called"
   ]
  },
  {
   "cell_type": "code",
   "execution_count": 1,
   "metadata": {},
   "outputs": [],
   "source": [
    "class HelloWorld {\n",
    "    int prop1;\n",
    "    int prop2;\n",
    "\n",
    "// Constructor here\n",
    "    public HelloWorld (int prop1input, int prop2input) {\n",
    "        // setting properties using this to reference prop1 & prop2 of the object\n",
    "        this.prop1 = prop1input;\n",
    "        this.prop2 = prop2input;\n",
    "    }\n",
    "\n",
    "    // tester method\n",
    "    public static void main (String[] args) {\n",
    "        HelloWorld object = new HelloWorld(50, 75);\n",
    "    }\n",
    "}\n",
    "\n",
    "HelloWorld.main(null);"
   ]
  },
  {
   "cell_type": "markdown",
   "metadata": {},
   "source": [
    "### Getter Methods\n",
    "- Used to get properties of an object from the outside the class definition\n",
    "- Getters can be applied on only the properties which should be accessed outside the class"
   ]
  },
  {
   "cell_type": "code",
   "execution_count": 65,
   "metadata": {},
   "outputs": [
    {
     "name": "stdout",
     "output_type": "stream",
     "text": [
      "50\n"
     ]
    }
   ],
   "source": [
    "class HelloWorld {\n",
    "    int prop1;\n",
    "    int prop2;\n",
    "  \n",
    "    // Constructor here\n",
    "    public HelloWorld (int prop1input, int prop2input) {\n",
    "      // setting properties using this to reference prop1 & prop2 of the object\n",
    "      this.prop1 = prop1input;\n",
    "      this.prop2 = prop2input;\n",
    "    }\n",
    "  \n",
    "    // getter allows outside class to access prop1\n",
    "    public int getProp1() {\n",
    "      return this.prop1;\n",
    "    }\n",
    "    \n",
    "    // tester method\n",
    "    public static void main (String[] args) {\n",
    "      HelloWorld object = new HelloWorld(50, 75);\n",
    "  \n",
    "      // using getter to access prop1\n",
    "      System.out.println(object.getProp1());\n",
    "    }\n",
    "  }\n",
    "  \n",
    "  HelloWorld.main(null);"
   ]
  },
  {
   "cell_type": "markdown",
   "metadata": {},
   "source": [
    "### Setter Methods\n",
    "- These methods allow the properties which should be modifiable to be changed outside the class definition\n",
    "- These methods have a \"void\" return type since they don't need to return anything, since they are only setting values"
   ]
  },
  {
   "cell_type": "code",
   "execution_count": 66,
   "metadata": {},
   "outputs": [
    {
     "name": "stdout",
     "output_type": "stream",
     "text": [
      "50\n",
      "10\n"
     ]
    }
   ],
   "source": [
    "class HelloWorld {\n",
    "  int prop1;\n",
    "  int prop2;\n",
    "  \n",
    "    // Constructor here\n",
    "    public HelloWorld (int prop1input, int prop2input) {\n",
    "      // setting properties using this to reference prop1 & prop2 of the object\n",
    "      this.prop1 = prop1input;\n",
    "      this.prop2 = prop2input;\n",
    "    }\n",
    "  \n",
    "    // getter allows outside class to access prop1\n",
    "    public int getProp1() {\n",
    "      return this.prop1;\n",
    "    }\n",
    "  \n",
    "    // setter allows outside class to set prop1\n",
    "    public void setProp1 (int propVal) {\n",
    "      this.prop1 = propVal;\n",
    "    }\n",
    "  \n",
    "    public static void main (String[] args) {\n",
    "        HelloWorld object = new HelloWorld(50, 75);\n",
    "  \n",
    "      // using getter to access prop1\n",
    "      System.out.println(object.getProp1());\n",
    "  \n",
    "      // changing value of prop1\n",
    "      object.setProp1(10);\n",
    "  \n",
    "      // using getter to access new value of prop1\n",
    "      System.out.println(object.getProp1());\n",
    "    }\n",
    "}\n",
    "  \n",
    "  HelloWorld.main(null);"
   ]
  },
  {
   "cell_type": "markdown",
   "metadata": {},
   "source": [
    "### Access Modifiers\n",
    "- Access modifiers control whether properties and methods can be accessed outside the class\n",
    "- The public means the property/method is accessible outside while if it is private it is not accessible"
   ]
  },
  {
   "cell_type": "code",
   "execution_count": 67,
   "metadata": {},
   "outputs": [
    {
     "name": "stdout",
     "output_type": "stream",
     "text": [
      "100\n"
     ]
    }
   ],
   "source": [
    "class HelloWorld {\n",
    "    // prop1 cannot be directly accessed\n",
    "    private int prop1;\n",
    "  \n",
    "    // prop2 can be directly accessed\n",
    "    public int prop2;\n",
    "  \n",
    "    // Constructor here\n",
    "    public HelloWorld (int prop1input, int prop2input) {\n",
    "        // setting properties using this to reference prop1 & prop2 of the object\n",
    "        this.prop1 = prop1input;\n",
    "        this.prop2 = prop2input;\n",
    "    }\n",
    "  \n",
    "    // getter allows outside class to access prop1\n",
    "    public int getProp1() {\n",
    "        return this.prop1;\n",
    "    }\n",
    "  \n",
    "    // setter allows outside class to set prop1\n",
    "    public void setProp1 (int propVal) {\n",
    "        this.prop1 = propVal;\n",
    "    }\n",
    "  \n",
    "    public static void main (String[] args) {\n",
    "        HelloWorld object = new HelloWorld(50, 75);\n",
    "  \n",
    "        // would throw error\n",
    "        // object.prop1 = 10;\n",
    "\n",
    "        // works (because public)\n",
    "        object.prop2 = 100;\n",
    "        System.out.println(object.prop2);\n",
    "    }\n",
    "}\n",
    "  \n",
    "  HelloWorld.main(null);"
   ]
  },
  {
   "cell_type": "markdown",
   "metadata": {},
   "source": [
    "### Static Methods\n",
    "- Static properties and methods are part of the class rather than each object\n",
    "- Static methods do not require an object, and static properties only have one instance that is the same for all objects"
   ]
  },
  {
   "cell_type": "code",
   "execution_count": 69,
   "metadata": {},
   "outputs": [
    {
     "name": "stdout",
     "output_type": "stream",
     "text": [
      "method awesome\n",
      "17\n"
     ]
    }
   ],
   "source": [
    "class HelloWorld {\n",
    "    // static method\n",
    "    static String awesomeMethod (String a) {\n",
    "        return a + \" awesome\";\n",
    "    }\n",
    "  \n",
    "    // static property\n",
    "    static int staticProp = 17;\n",
    "  \n",
    "    public static void main(String[] args) {\n",
    "        // no object needed for any of this\n",
    "        System.out.println(HelloWorld.awesomeMethod(\"method\"));\n",
    "        System.out.println(HelloWorld.staticProp);\n",
    "    }\n",
    "}\n",
    "  \n",
    "HelloWorld.main(null);"
   ]
  }
 ],
 "metadata": {
  "kernelspec": {
   "display_name": "Java",
   "language": "java",
   "name": "java"
  },
  "language_info": {
   "codemirror_mode": "java",
   "file_extension": ".jshell",
   "mimetype": "text/x-java-source",
   "name": "java",
   "pygments_lexer": "java",
   "version": "11.0.12+8-LTS-237"
  },
  "orig_nbformat": 4,
  "vscode": {
   "interpreter": {
    "hash": "aee8b7b246df8f9039afb4144a1f6fd8d2ca17a180786b69acc140d282b71a49"
   }
  }
 },
 "nbformat": 4,
 "nbformat_minor": 2
}
