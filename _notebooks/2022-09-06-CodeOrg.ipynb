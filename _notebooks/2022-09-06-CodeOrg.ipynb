{
 "cells": [
  {
   "cell_type": "markdown",
   "metadata": {},
   "source": [
    "# code.org Unit 1\n",
    "> Takeaways from Code.org Unit 1\n",
    "\n",
    "- title: code.org Unit 1\n",
    "- toc: true\n",
    "- comments: true\n",
    "- categories: [Week-2]\n",
    "- image: images/download.jpeg"
   ]
  },
  {
   "cell_type": "code",
   "execution_count": null,
   "metadata": {},
   "outputs": [],
   "source": [
    "// Creating a class\n",
    "public class MyNeighborhood {\n",
    "    public static void main(String[] args) {\n",
    "  \n",
    "      // Creating an Object\n",
    "      Painter myPainter = new Painter();\n",
    "\n",
    "      // calling a method using dot notation\n",
    "      myPainter.move();\n",
    "      myPainter.turnLeft();\n",
    "      \n",
    "    }\n",
    "  }"
   ]
  },
  {
   "cell_type": "code",
   "execution_count": null,
   "metadata": {},
   "outputs": [],
   "source": [
    "// Extend a superclass to the subclass\n",
    "// A.K.A. Inheritance\n",
    "public class PainterPlus extends Painter {\n",
    "\n",
    "    public PainterPlus() {\n",
    "      super();\n",
    "    }\n",
    "\n",
    "  }"
   ]
  },
  {
   "cell_type": "markdown",
   "metadata": {},
   "source": [
    "## Inheritance\n",
    "- Inheritance allows us to \"inherit\" the methods and attributes of the superclass to the subclass\n"
   ]
  },
  {
   "cell_type": "code",
   "execution_count": null,
   "metadata": {},
   "outputs": [],
   "source": [
    "// Formatting for inheritance\n",
    "public class subclass extends superclass {\n",
    "    // code here\n",
    "}"
   ]
  }
 ],
 "metadata": {
  "kernelspec": {
   "display_name": "Java",
   "language": "java",
   "name": "java"
  },
  "language_info": {
   "name": "java"
  },
  "orig_nbformat": 4
 },
 "nbformat": 4,
 "nbformat_minor": 2
}
