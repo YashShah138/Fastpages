{
 "cells": [
  {
   "attachments": {},
   "cell_type": "markdown",
   "metadata": {},
   "source": [
    "# Unit 09 Mon - Inheritance\n",
    "> Notes + Homework\n",
    "\n",
    "- title: Unit 09 Mon - Inheritance\n",
    "- toc: false\n",
    "- badges: false\n",
    "- comments: false\n",
    "- categories: [Week-16]\n",
    "- image: images/TestPrep.png"
   ]
  },
  {
   "attachments": {},
   "cell_type": "markdown",
   "metadata": {},
   "source": [
    "## Notes"
   ]
  },
  {
   "attachments": {},
   "cell_type": "markdown",
   "metadata": {},
   "source": [
    "- constructor is a special method that is used to create and initialize an object\n",
    "- When creating a subclass, you typically want to reuse the constructor from the parent class (also known as the \"superclass\") and add some additional functionality"
   ]
  },
  {
   "cell_type": "code",
   "execution_count": null,
   "metadata": {},
   "outputs": [],
   "source": [
    "public class Animal {\n",
    "    // Constructor for the Animal class\n",
    "    public Animal() {\n",
    "        // Initialize the object\n",
    "    }\n",
    "}\n",
    "  \n",
    "  public class Dog extends Animal {\n",
    "    // Constructor for the Dog class\n",
    "    public Dog() {\n",
    "        // Call the constructor of the superclass\n",
    "        super();\n",
    "        \n",
    "        // Initialize the object\n",
    "    }\n",
    "}"
   ]
  },
  {
   "attachments": {},
   "cell_type": "markdown",
   "metadata": {},
   "source": [
    "- Possible to call a specific constructor of the superclass by specifying the parameters"
   ]
  },
  {
   "cell_type": "code",
   "execution_count": 1,
   "metadata": {},
   "outputs": [
    {
     "name": "stdout",
     "output_type": "stream",
     "text": [
      "Yash\n",
      "1\n"
     ]
    }
   ],
   "source": [
    "/**\n",
    " * In this example using inheritance allows us to inherit the salary of the programmer by extending the superclass of employee\n",
    " */\n",
    "\n",
    "class Person {\n",
    "   private String name;\n",
    "\n",
    "   public Person(String theName) {\n",
    "      this.name = theName;\n",
    "   }\n",
    "\n",
    "   public String getName() {\n",
    "      return name;\n",
    "   }\n",
    "\n",
    "   public boolean setName(String theNewName) {\n",
    "      if (theNewName != null) {\n",
    "         this.name = theNewName;\n",
    "         return true;\n",
    "      }\n",
    "      return false;\n",
    "   }\n",
    "}\n",
    "\n",
    "public class Employee extends Person {\n",
    "   private int id;\n",
    "   public static int nextId = 1;\n",
    "\n",
    "   public Employee(String theName) {\n",
    "      super(theName);\n",
    "      id = nextId;\n",
    "      nextId++;\n",
    "   }\n",
    "\n",
    "   public int getId() {\n",
    "      return id;\n",
    "   }\n",
    "\n",
    "   public static void main(String[] args) {\n",
    "      Employee emp = new Employee(\"Yash\");\n",
    "      System.out.println(emp.getName());\n",
    "      System.out.println(emp.getId());\n",
    "   }\n",
    "}\n",
    "\n",
    "Employee.main(null);"
   ]
  },
  {
   "cell_type": "code",
   "execution_count": 2,
   "metadata": {},
   "outputs": [
    {
     "name": "stdout",
     "output_type": "stream",
     "text": [
      "Physical activity\n",
      "Kick the ball\n",
      "Shoot the ball\n",
      "Hit a home run\n"
     ]
    }
   ],
   "source": [
    "/**\n",
    " * Example of polymorphism in Java\n",
    " */\n",
    "\n",
    "public class Sport {\n",
    "    // action() method instantiated\n",
    "\tpublic void action() {\n",
    "        System.out.println(\"Physical activity\");\n",
    "    }\n",
    "}\n",
    "\n",
    "// Subclass Soccer\n",
    "class Soccer extends Sport {\n",
    "    // Soccer implementation of the action() method\n",
    "    public void action() {\n",
    "        System.out.println(\"Kick the ball\");\n",
    "    }\n",
    "}\n",
    "\n",
    "// Subclass Basketball\n",
    "class Basketball extends Sport {\n",
    "    // Basketball implementation of the action() method\n",
    "    public void action() {\n",
    "        System.out.println(\"Shoot the ball\");\n",
    "    }\n",
    "}\n",
    "\n",
    "// Subclass Baseball\n",
    "class Baseball extends Sport {\n",
    "    // Baseball implementation of the action() method\n",
    "    public void action() {\n",
    "        System.out.println(\"Hit a home run\");\n",
    "    }\n",
    "}\n",
    "\n",
    "// Main class for running the code\n",
    "class Main {\n",
    "    public static void main(String[] args) {\n",
    "        // Creating objects with the same reference type but different object types. The classes above follow a class hierarchy.\n",
    "        Sport sport = new Sport();\n",
    "        Sport sport1 = new Soccer();\n",
    "        Sport sport2 = new Basketball();\n",
    "        Sport sport3 = new Baseball();\n",
    "        sport.action();\n",
    "        sport1.action();\n",
    "        sport2.action();\n",
    "        sport3.action();\n",
    "    }\n",
    "}\n",
    "\n",
    "Main.main(null);"
   ]
  },
  {
   "cell_type": "code",
   "execution_count": 3,
   "metadata": {},
   "outputs": [
    {
     "name": "stdout",
     "output_type": "stream",
     "text": [
      "Vehicle is running\n"
     ]
    }
   ],
   "source": [
    "/**\n",
    " * Overriding methods\n",
    " */\n",
    "\n",
    "class Vehicle {  \n",
    "    void run(){System.out.println(\"Vehicle is running\");}\n",
    "}\n",
    "\n",
    "//Creating a child class  \n",
    "class Bike extends Vehicle {  \n",
    "    public static void main(String args[]) {  \n",
    "        //creating an instance of child class  \n",
    "        Bike obj = new Bike();  \n",
    "        //calling the method with child class instance  \n",
    "        obj.run();  \n",
    "    }  \n",
    "}  \n",
    "\n",
    "Bike.main(null);"
   ]
  },
  {
   "attachments": {},
   "cell_type": "markdown",
   "metadata": {},
   "source": [
    "## Homework"
   ]
  },
  {
   "attachments": {},
   "cell_type": "markdown",
   "metadata": {},
   "source": [
    "### Part 1\n",
    "- Create a world cup superclass with properties of your choice and subclasses for five teams which inherits those properties\n",
    "- Write a constructor for one of those subclasses"
   ]
  },
  {
   "cell_type": "code",
   "execution_count": null,
   "metadata": {},
   "outputs": [],
   "source": [
    "public class WorldCup {\n",
    "    private String name;\n",
    "    private Int wins;\n",
    "    private Int losses;\n",
    "\n",
    "    public Team (String name, Int wins, Int losses) {\n",
    "        this.name = name;\n",
    "        this.wins = wins;\n",
    "        this. losses = losses;\n",
    "    }\n",
    "\n",
    "    public String getName() {\n",
    "        return name;\n",
    "    }\n",
    "\n",
    "    public Int getStats() {\n",
    "        return wins;\n",
    "        return losses;\n",
    "    }\n",
    "}\n",
    "\n",
    "public class Argentina extends Team {\n",
    "\n",
    "}\n",
    "\n",
    "public static void main(String[] args) {\n",
    "      Argentina Arg = new Argentina();\n",
    "      System.out.println(Arg.getName());\n",
    "      System.out.println(Arg.getId());\n",
    "    }"
   ]
  },
  {
   "attachments": {},
   "cell_type": "markdown",
   "metadata": {},
   "source": [
    "### Part 2\n",
    "\n",
    "- Add a getAge method in the Person super class\n",
    "- Create a new subclass Student with additional members of your choice to personalize the Student class\n",
    "- Create a new subclass Teacher with additional members of your choice\n",
    "- Override the toString method using the @Override to print a Student and teacher object with new members\n",
    "- Print the student and teacher."
   ]
  },
  {
   "cell_type": "code",
   "execution_count": null,
   "metadata": {},
   "outputs": [],
   "source": [
    "public class Person {\n",
    "    private String name;\n",
    "    private String birthday;\n",
    "    private Integer age;\n",
    " \n",
    "    public Person (String name, String birthday, Integer age){\n",
    "        this.name = name;\n",
    "        this.birthday = birthday;\n",
    "        this.age = age;\n",
    "    }\n",
    " \n",
    "    public String getName(){\n",
    "        return name;\n",
    "    }\n",
    "\n",
    "    public Integer getAge() {\n",
    "        return age;\n",
    "    }\n",
    "}\n",
    "\n",
    "\n",
    "public class Student extends Person {\n",
    "    private int grade;\n",
    "    private double gpa;\n",
    " \n",
    "    public Student (String name, String birthday, int grade, double gpa) {\n",
    "        super(name, birthday);\n",
    "        this.grade = grade;\n",
    "        this.gpa = gpa;\n",
    "    }\n",
    " \n",
    "    public int getGrade(){\n",
    "       return grade;\n",
    "    }\n",
    "}"
   ]
  }
 ],
 "metadata": {
  "kernelspec": {
   "display_name": "Java",
   "language": "java",
   "name": "java"
  },
  "language_info": {
   "codemirror_mode": "java",
   "file_extension": ".jshell",
   "mimetype": "text/x-java-source",
   "name": "java",
   "pygments_lexer": "java",
   "version": "11.0.12+8-LTS-237"
  },
  "orig_nbformat": 4,
  "vscode": {
   "interpreter": {
    "hash": "aee8b7b246df8f9039afb4144a1f6fd8d2ca17a180786b69acc140d282b71a49"
   }
  }
 },
 "nbformat": 4,
 "nbformat_minor": 2
}
