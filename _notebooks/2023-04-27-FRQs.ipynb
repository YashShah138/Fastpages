{
 "cells": [
  {
   "attachments": {},
   "cell_type": "markdown",
   "metadata": {},
   "source": [
    "# FRQs\n",
    "> 4 FRQs for 2 seed points\n",
    "\n",
    "- title: FRQs from CB 2019\n",
    "- toc: true\n",
    "- comments: false\n",
    "- categories: [Week-31]"
   ]
  },
  {
   "attachments": {},
   "cell_type": "markdown",
   "metadata": {},
   "source": [
    "## FRQs - Methods and Control Structures"
   ]
  },
  {
   "cell_type": "code",
   "execution_count": 1,
   "metadata": {
    "vscode": {
     "languageId": "java"
    }
   },
   "outputs": [],
   "source": [
    "////////////////////          Part A          \\\\\\\\\\\\\\\\\\\\\\\\\\\\\\\\\\\\\\\\\n",
    "public static int getCheck(int num) {\n",
    "    int sum = 0;\n",
    "    int numDigits = getNumberOfDigits(num);\n",
    "\n",
    "    for (int i = 1; i <= numDigits; i++) {\n",
    "        int factor = numDigits - i + 2;\n",
    "        sum += factor * getDigit(num, i);\n",
    "    }\n",
    "\n",
    "    int checkDigit = sum % 10;\n",
    "    return checkDigit;\n",
    "}\n",
    "\n",
    "////////////////////          Part B          \\\\\\\\\\\\\\\\\\\\\\\\\\\\\\\\\\\\\\\\\n",
    "public static boolean isValid(int numWithCheckDigit) {\n",
    "    int numDigits = getNumberOfDigits(numWithCheckDigit);\n",
    "    int checkDigit = getDigit(numWithCheckDigit, numDigits);\n",
    "    int number = numWithCheckDigit / 10; // remove check digit\n",
    "    int computedCheckDigit = getCheck(number);\n",
    "    return checkDigit == computedCheckDigit;\n",
    "}"
   ]
  },
  {
   "attachments": {},
   "cell_type": "markdown",
   "metadata": {},
   "source": [
    "## FRQs - Classes"
   ]
  },
  {
   "cell_type": "code",
   "execution_count": 2,
   "metadata": {
    "vscode": {
     "languageId": "java"
    }
   },
   "outputs": [],
   "source": [
    "public class AdditionPattern {\n",
    "    private int current;\n",
    "    private final int start;\n",
    "    private final int increment;\n",
    "\n",
    "    public AdditionPattern(int start, int increment) {\n",
    "        this.start = start;\n",
    "        this.increment = increment;\n",
    "        this.current = start;\n",
    "    }\n",
    "    \n",
    "    public int currentNumber() {\n",
    "        return current;\n",
    "    }\n",
    "    \n",
    "    public void next() {\n",
    "        current += increment;\n",
    "    }\n",
    "    \n",
    "    public void prev() {\n",
    "        if (current - increment >= start) {\n",
    "            current -= increment;\n",
    "        }\n",
    "    }\n",
    "}"
   ]
  },
  {
   "attachments": {},
   "cell_type": "markdown",
   "metadata": {},
   "source": [
    "## FRQs - Arrays and ArrayLists"
   ]
  },
  {
   "cell_type": "code",
   "execution_count": 3,
   "metadata": {
    "vscode": {
     "languageId": "java"
    }
   },
   "outputs": [],
   "source": [
    "////////////////////          Part A          \\\\\\\\\\\\\\\\\\\\\\\\\\\\\\\\\\\\\\\\\n",
    "public boolean addRepair(int m, int b) {\n",
    "    for (CarRepair repair : schedule) {\n",
    "        if (repair.getMechanicNum() == m || repair.getBayNum() == b) {\n",
    "            return false;\n",
    "        }\n",
    "    }\n",
    "    schedule.add(new CarRepair(m, b));\n",
    "    return true;\n",
    "}\n",
    "\n",
    "////////////////////          Part B          \\\\\\\\\\\\\\\\\\\\\\\\\\\\\\\\\\\\\\\\\n",
    "public ArrayList<Integer> availableMechanics() {\n",
    "    ArrayList<Integer> availableMechanics = new ArrayList<Integer>();\n",
    "    for (int i = 2; i <= 5; i++) { // iterate over all mechanic numbers\n",
    "        boolean isAvailable = true;\n",
    "        for (CarRepair repair : schedule) { // iterate over all repairs in schedule\n",
    "            if (repair.getMechanicNum() == i) { // if the mechanic is already assigned to a repair\n",
    "                isAvailable = false;\n",
    "                break; // exit inner loop as soon as a mechanic is found to be busy\n",
    "            }\n",
    "        }\n",
    "        if (isAvailable) {\n",
    "            availableMechanics.add(i); // add the available mechanic to the list\n",
    "        }\n",
    "    }\n",
    "    return availableMechanics; // return the list of available mechanics\n",
    "}"
   ]
  },
  {
   "attachments": {},
   "cell_type": "markdown",
   "metadata": {},
   "source": [
    "## FRQs - 2D Arrays"
   ]
  },
  {
   "cell_type": "code",
   "execution_count": 4,
   "metadata": {
    "vscode": {
     "languageId": "java"
    }
   },
   "outputs": [],
   "source": [
    "////////////////////          Part A          \\\\\\\\\\\\\\\\\\\\\\\\\\\\\\\\\\\\\\\\\n",
    "public static boolean isNonZeroRow(int[][] array2D, int r) {\n",
    "    for (int col = 0; col < array2D[r].length; col++) {\n",
    "        if (array2D[r][col] == 0) {\n",
    "            return false;\n",
    "        }\n",
    "    }\n",
    "    return true;\n",
    "}\n",
    "\n",
    "////////////////////          Part B          \\\\\\\\\\\\\\\\\\\\\\\\\\\\\\\\\\\\\\\\\n",
    "public static int[][] resize(int[][] array2D) {\n",
    "    // count the number of non-zero rows in the original array\n",
    "    int numNonZeroRows = numNonZeroRows(array2D);\n",
    "    \n",
    "    // create a new 2D array with the same number of columns as the original array\n",
    "    // and the number of rows equal to the count of non-zero rows\n",
    "    int[][] resizedArray = new int[numNonZeroRows][array2D[0].length];\n",
    "    \n",
    "    // iterate over each row in the original array\n",
    "    // if it is a non-zero row, copy it to the new array\n",
    "    int row = 0;\n",
    "    for (int i = 0; i < array2D.length; i++) {\n",
    "        if (isNonZeroRow(array2D, i)) {\n",
    "            for (int j = 0; j < array2D[0].length; j++) {\n",
    "                resizedArray[row][j] = array2D[i][j];\n",
    "            }\n",
    "            row++;\n",
    "        }\n",
    "    }\n",
    "    \n",
    "    // return the new array\n",
    "    return resizedArray;\n",
    "}"
   ]
  }
 ],
 "metadata": {
  "kernelspec": {
   "display_name": "Java",
   "language": "java",
   "name": "java"
  },
  "language_info": {
   "codemirror_mode": "java",
   "file_extension": ".jshell",
   "mimetype": "text/x-java-source",
   "name": "Java",
   "pygments_lexer": "java",
   "version": "11.0.12+8-LTS-237"
  },
  "orig_nbformat": 4
 },
 "nbformat": 4,
 "nbformat_minor": 2
}
