{
 "cells": [
  {
   "cell_type": "markdown",
   "metadata": {},
   "source": [
    "# Unit 08 Tues - 2D Arrays\n",
    "> Notes + Homework\n",
    "\n",
    "- title: Unit 08 Tues - 2D Array\n",
    "- toc: false\n",
    "- badges: false\n",
    "- comments: false\n",
    "- categories: [Week-15]\n",
    "- image: images/TestPrep.png"
   ]
  },
  {
   "cell_type": "markdown",
   "metadata": {},
   "source": [
    "## Notes"
   ]
  },
  {
   "cell_type": "markdown",
   "metadata": {},
   "source": [
    "### Initializing A 2D Array\n",
    "- Initialize by giving each slot a value\n",
    "- Initialize by giving each slot a size\n",
    "- ```int[][] nums = new int[rows][columns]```"
   ]
  },
  {
   "cell_type": "code",
   "execution_count": null,
   "metadata": {
    "vscode": {
     "languageId": "java"
    }
   },
   "outputs": [],
   "source": [
    "// Method 1 (value):\n",
    "    int[][] numbers1 = {{1,2,3,4}, \n",
    "                        {5,6,7,8},\n",
    "                        {9,10,11,12},\n",
    "                        {13,14,15,16}};\n",
    "\n",
    "    String[][] names1 = {{\"John\",\"James\",\"Jay\"},\n",
    "                        {\"Melissa\",\"May\",\"Maggie\"},\n",
    "                        {\"Bob\",\"Burt\",\"Billy\"}};\n",
    "\n",
    "    char[][] letters1 = {{'a','b','c'},\n",
    "                        {'d','e','f','g','h'}};\n",
    "\n",
    "// Method 2 (size):\n",
    "    // Array with four rows and 3 columns\n",
    "    int[][] numbers2 = new int[4][3];\n",
    "\n",
    "    // Array with 2 rows and 2 columns\n",
    "    String[][] names2 = new String[2][2];\n",
    "    \n",
    "    // Array with 2 rows and 3 columns\n",
    "    char[][] letters2 = new char[2][3];"
   ]
  },
  {
   "cell_type": "markdown",
   "metadata": {},
   "source": [
    "### Accessing and Changing Elements of 2D Array\n",
    "- Access elements using index of element"
   ]
  },
  {
   "cell_type": "code",
   "execution_count": 1,
   "metadata": {
    "vscode": {
     "languageId": "java"
    }
   },
   "outputs": [
    {
     "name": "stdout",
     "output_type": "stream",
     "text": [
      "1 4  \n",
      "9 16  \n"
     ]
    }
   ],
   "source": [
    "// 2D Array w/ 2 rows and 2 columns\n",
    "int[][] numbers = new int[2][2];\n",
    "\n",
    "// Setting elements in 2D Array\n",
    "numbers[0][0] = 1;\n",
    "numbers[0][1] = 4;\n",
    "numbers[1][0] = 9;\n",
    "numbers[1][1] = 16;\n",
    "\n",
    "//  Looping through the array to print each element\n",
    "for(int i = 0;i<numbers.length;i++) {\n",
    "    for(int j = 0; j < numbers[i].length;j++) { //nested for loops\n",
    "        System.out.print(numbers[i][j]+\" \");\n",
    "    }\n",
    "    System.out.println(\" \");\n",
    "}"
   ]
  },
  {
   "cell_type": "markdown",
   "metadata": {},
   "source": [
    "## Homework\n",
    "- Create a class for 2D array learning.\n",
    "- Create a method too initialize a 2D array with arbitrary values\n",
    "- Create a method to reverse the 2D array and print out the values\n",
    "- Create a method that asks for the input of a position and it returns the corresponding value\n",
    "- Create a method that multiplies each value in a row and then adds all the products together\n",
    "- Create a new object to test out each method in the main function"
   ]
  },
  {
   "cell_type": "code",
   "execution_count": 14,
   "metadata": {
    "vscode": {
     "languageId": "java"
    }
   },
   "outputs": [
    {
     "name": "stdout",
     "output_type": "stream",
     "text": [
      "\n",
      "Original array:\n",
      "7 7 0 \n",
      "3 5 0 \n",
      "1 8 5 \n",
      "2 5 4 \n",
      "\n",
      "Reversed array:\n",
      "4 5 2 \n",
      "5 8 1 \n",
      "0 5 3 \n",
      "0 7 7 \n",
      "Value of [2][2] before reversal: 5\n",
      "Sum of products of rows: 80\n",
      "\n",
      "Original array:\n",
      "7 4 4 \n",
      "1 3 9 \n",
      "2 6 8 \n",
      "7 3 0 \n",
      "\n",
      "Reversed array:\n",
      "0 3 7 \n",
      "8 6 2 \n",
      "9 3 1 \n",
      "4 4 7 \n",
      "Value of [2][2] after reversal: 6\n",
      "Sum of products of rows: 235\n"
     ]
    }
   ],
   "source": [
    "import java.util.*;\n",
    "import java.lang.Math.*;\n",
    "\n",
    "public class Learning {\n",
    "\n",
    "    private int[][] arr = new int[4][3];\n",
    "    private int[][] reversed_arr = new int[4][3];\n",
    "    \n",
    "    \n",
    "    public void origArr() {\n",
    "        \n",
    "        System.out.println(\"\\nOriginal array:\");\n",
    "        // Assign a random value to the 2D array and print it\n",
    "        for (int i = 0; i < arr.length; i++) {\n",
    "            for (int j = 0; j < arr[i].length; j++) {\n",
    "                // Assign a random value to the 2D array using math.random()\n",
    "                arr[i][j] = (int) (Math.random() * 10);\n",
    "                System.out.print(arr[i][j] + \" \");\n",
    "            }\n",
    "            System.out.println();\n",
    "        }\n",
    "    }\n",
    "\n",
    "    public void reversedArray() {\n",
    "        \n",
    "        System.out.println(\"\\nReversed array:\");\n",
    "        \n",
    "        // Reverse the 2D array and print it\n",
    "        for (int i = 0; i < arr.length; i++) {\n",
    "            for (int j = 0; j < arr[i].length; j++) {\n",
    "                // Reverses array by going backwards through the original array\n",
    "                reversed_arr[i][j] = arr[arr.length - 1 - i][arr[i].length - 1 - j];\n",
    "                System.out.print(reversed_arr[i][j] + \" \");\n",
    "            }\n",
    "            System.out.println();\n",
    "        }\n",
    "    }\n",
    "    \n",
    "    public int productSum() {\n",
    "        int product = 1;\n",
    "        int sum = 0;\n",
    "        for (int i = 0; i < arr.length; i++) {\n",
    "            for (int j = 0; j < arr[i].length; j++) {\n",
    "                // multiply product by value at this array index\n",
    "                product *= arr[i][j];\n",
    "            }\n",
    "            // add product to sum after all in row were multiplied, then reset product back to 1\n",
    "            sum += product;\n",
    "            product = 1;\n",
    "        }\n",
    "        return sum;\n",
    "    }\n",
    "\n",
    "    public int valueOf(int a, int b) {\n",
    "        // try to get array value, return exception if can't\n",
    "        try {\n",
    "            return arr[a][b];\n",
    "        }\n",
    "        catch (Exception e) {\n",
    "            System.out.println(\"Error: \" + e);\n",
    "            return -1;\n",
    "        }\n",
    "    }\n",
    "    \n",
    "    public static void main(String[] args) {\n",
    "        Learning l = new Learning();\n",
    "        l.origArr(); l.reversedArray(); \n",
    "        System.out.println(\"Value of [2][2] before reversal: \" + l.valueOf(1, 1));\n",
    "        System.out.println(\"Sum of products of rows: \" + l.productSum());\n",
    "    \n",
    "        Learning w = new Learning();\n",
    "        w.origArr(); w.reversedArray();\n",
    "        System.out.println(\"Value of [2][2] after reversal: \" + w.valueOf(2, 1)); \n",
    "        System.out.println(\"Sum of products of rows: \" + w.productSum());\n",
    "    }\n",
    "    \n",
    "}\n",
    "\n",
    "Learning.main(null);"
   ]
  }
 ],
 "metadata": {
  "kernelspec": {
   "display_name": "Java",
   "language": "java",
   "name": "java"
  },
  "language_info": {
   "codemirror_mode": "java",
   "file_extension": ".jshell",
   "mimetype": "text/x-java-source",
   "name": "Java",
   "pygments_lexer": "java",
   "version": "11.0.12+8-LTS-237"
  },
  "orig_nbformat": 4,
  "vscode": {
   "interpreter": {
    "hash": "aee8b7b246df8f9039afb4144a1f6fd8d2ca17a180786b69acc140d282b71a49"
   }
  }
 },
 "nbformat": 4,
 "nbformat_minor": 2
}
