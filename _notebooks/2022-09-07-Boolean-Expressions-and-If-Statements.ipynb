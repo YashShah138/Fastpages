{
 "cells": [
  {
   "cell_type": "markdown",
   "metadata": {},
   "source": [
    "# Boolean Expressions and If/Else Statements\n",
    "> Expression, Assignments, and Conditional Statements\n",
    "\n",
    "- title: Boolean Expressions and If/Else Statements\n",
    "- toc: true\n",
    "- comments: true\n",
    "- Categories: [Week 3]\n",
    "- image: images/if-else.png"
   ]
  },
  {
   "cell_type": "markdown",
   "metadata": {},
   "source": [
    "## Boolean Expressions\n",
    "\n",
    "- Booleans are either one of two instances. True/False or On/Off\n",
    "- A boolean type is declared with the boolean keyword and can only take the values true or false"
   ]
  },
  {
   "cell_type": "code",
   "execution_count": 14,
   "metadata": {
    "vscode": {
     "languageId": "java"
    }
   },
   "outputs": [
    {
     "name": "stdout",
     "output_type": "stream",
     "text": [
      "True code block\n",
      "True and Not False code block\n",
      "True or False code block\n",
      "Confusing code block\n",
      "De Morgan's law in my head of confusing code block\n"
     ]
    }
   ],
   "source": [
    "if (true) {\n",
    "    System.out.println(\"True code block\");\n",
    "}\n",
    "\n",
    "if (true && !false) {\n",
    "    System.out.println(\"True and Not False code block\");\n",
    "}\n",
    "\n",
    "if (true || false) {\n",
    "    System.out.println(\"True or False code block\");\n",
    "}\n",
    "\n",
    "if ((true && !false) && (true || false)) {\n",
    "    System.out.println(\"Confusing code block\");\n",
    "}\n",
    "\n",
    "if (!((false || !true) || (false && true))) {\n",
    "    System.out.println(\"De Morgan's law in my head of confusing code block\");\n",
    "}"
   ]
  },
  {
   "cell_type": "markdown",
   "metadata": {},
   "source": [
    "### If/Elseif/Else Statements\n",
    "- If statement to specify a block of Java code to be executed if a condition is true\n",
    "- Else statement to specify a block of code to be executed if the condition is false\n",
    "- Else if statement to specify a new condition if the first condition is false."
   ]
  },
  {
   "cell_type": "code",
   "execution_count": 1,
   "metadata": {
    "vscode": {
     "languageId": "java"
    }
   },
   "outputs": [
    {
     "name": "stdout",
     "output_type": "stream",
     "text": [
      "Good evening.\n"
     ]
    }
   ],
   "source": [
    "int time = 22;\n",
    "// if statement\n",
    "if (time < 10) {\n",
    "  System.out.println(\"Good morning.\");\n",
    "} \n",
    "// else if statement\n",
    "else if (time < 20) {\n",
    "  System.out.println(\"Good day.\");\n",
    "}\n",
    "// else statement\n",
    "else {\n",
    "  System.out.println(\"Good evening.\");\n",
    "}"
   ]
  },
  {
   "cell_type": "markdown",
   "metadata": {},
   "source": [
    "### De Morgan's Law\n",
    "- Two definitions\n",
    "    - De Morgan's Law of Union: The complement of the union of the two sets A and B will be equal to the intersection of A' (complement of A) and B' (complement of B). This is also known as De Morgan's Law of Union. It can be represented as (A ∪ B)' = A' ∩ B'.\n",
    "    - Laws that define how we can negate an AND statement and how we can negate an OR statement. De Morgan's Laws simply state: !( a && b) is equivalent to !a || !\n"
   ]
  },
  {
   "cell_type": "code",
   "execution_count": 4,
   "metadata": {
    "vscode": {
     "languageId": "java"
    }
   },
   "outputs": [
    {
     "name": "stdout",
     "output_type": "stream",
     "text": [
      "De Morgan's Law hurts my head!\n"
     ]
    }
   ],
   "source": [
    "if (!(!false && !true) || (!(!false || false))) {\n",
    "    System.out.println(\"De Morgan's Law hurts my head!\");\n",
    "}"
   ]
  },
  {
   "cell_type": "markdown",
   "metadata": {},
   "source": [
    "## Hack 2 - Add to lesson switch-case"
   ]
  }
 ],
 "metadata": {
  "kernelspec": {
   "display_name": "Java",
   "language": "java",
   "name": "java"
  },
  "language_info": {
   "codemirror_mode": "java",
   "file_extension": ".jshell",
   "mimetype": "text/x-java-source",
   "name": "Java",
   "pygments_lexer": "java",
   "version": "11.0.12+8-LTS-237"
  },
  "orig_nbformat": 4
 },
 "nbformat": 4,
 "nbformat_minor": 2
}
