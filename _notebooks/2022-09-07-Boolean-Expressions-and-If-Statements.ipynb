{
 "cells": [
  {
   "cell_type": "markdown",
   "metadata": {},
   "source": [
    "# Boolean Expressions and If/Else Statements\n",
    "> Expression, Assignments, and Conditional Statements\n",
    "\n",
    "- title: Boolean Expressions and If/Else Statements\n",
    "- toc: true\n",
    "- comments: true\n",
    "- Categories: [Week-3]\n",
    "- image: images/if-else.png"
   ]
  },
  {
   "cell_type": "markdown",
   "metadata": {},
   "source": [
    "## Boolean Expressions\n",
    "\n",
    "- Booleans are either one of two instances. True/False or On/Off\n",
    "- A boolean type is declared with the boolean keyword and can only take the values true or false"
   ]
  },
  {
   "cell_type": "code",
   "execution_count": 14,
   "metadata": {
    "vscode": {
     "languageId": "java"
    }
   },
   "outputs": [
    {
     "name": "stdout",
     "output_type": "stream",
     "text": [
      "True code block\n",
      "True and Not False code block\n",
      "True or False code block\n",
      "Confusing code block\n",
      "De Morgan's law in my head of confusing code block\n"
     ]
    }
   ],
   "source": [
    "if (true) {\n",
    "    System.out.println(\"True code block\");\n",
    "}\n",
    "\n",
    "if (true && !false) {\n",
    "    System.out.println(\"True and Not False code block\");\n",
    "}\n",
    "\n",
    "if (true || false) {\n",
    "    System.out.println(\"True or False code block\");\n",
    "}\n",
    "\n",
    "if ((true && !false) && (true || false)) {\n",
    "    System.out.println(\"Confusing code block\");\n",
    "}\n",
    "\n",
    "if (!((false || !true) || (false && true))) {\n",
    "    System.out.println(\"De Morgan's law in my head of confusing code block\");\n",
    "}"
   ]
  },
  {
   "cell_type": "markdown",
   "metadata": {},
   "source": [
    "### If/Elseif/Else Statements\n",
    "- If statement to specify a block of Java code to be executed if a condition is true\n",
    "- Else statement to specify a block of code to be executed if the condition is false\n",
    "- Else if statement to specify a new condition if the first condition is false."
   ]
  },
  {
   "cell_type": "code",
   "execution_count": 1,
   "metadata": {
    "vscode": {
     "languageId": "java"
    }
   },
   "outputs": [
    {
     "name": "stdout",
     "output_type": "stream",
     "text": [
      "Good evening.\n"
     ]
    }
   ],
   "source": [
    "int time = 22;\n",
    "// if statement\n",
    "if (time < 10) {\n",
    "  System.out.println(\"Good morning.\");\n",
    "} \n",
    "// else if statement\n",
    "else if (time < 20) {\n",
    "  System.out.println(\"Good day.\");\n",
    "}\n",
    "// else statement\n",
    "else {\n",
    "  System.out.println(\"Good evening.\");\n",
    "}"
   ]
  },
  {
   "cell_type": "markdown",
   "metadata": {},
   "source": [
    "### De Morgan's Law\n",
    "- Two definitions\n",
    "    - De Morgan's Law of Union: The complement of the union of the two sets A and B will be equal to the intersection of A' (complement of A) and B' (complement of B). This is also known as De Morgan's Law of Union. It can be represented as (A ∪ B)' = A' ∩ B'.\n",
    "    - Laws that define how we can negate an AND statement and how we can negate an OR statement. De Morgan's Laws simply state: !( a && b) is equivalent to !a || !\n"
   ]
  },
  {
   "cell_type": "code",
   "execution_count": 4,
   "metadata": {
    "vscode": {
     "languageId": "java"
    }
   },
   "outputs": [
    {
     "name": "stdout",
     "output_type": "stream",
     "text": [
      "De Morgan's Law hurts my head!\n"
     ]
    }
   ],
   "source": [
    "if (!(!false && !true) || (!(!false || false))) {\n",
    "    System.out.println(\"De Morgan's Law hurts my head!\");\n",
    "}"
   ]
  },
  {
   "cell_type": "markdown",
   "metadata": {},
   "source": [
    "## Hack 2 - Add to lesson switch-case"
   ]
  },
  {
   "cell_type": "code",
   "execution_count": 6,
   "metadata": {
    "vscode": {
     "languageId": "java"
    }
   },
   "outputs": [
    {
     "name": "stdout",
     "output_type": "stream",
     "text": [
      "Pick a number: 26\n",
      "26 is less than 30\n"
     ]
    }
   ],
   "source": [
    "public class Main {\n",
    "    public static void main(String[] args) {\n",
    "        \n",
    "        Scanner sc = new Scanner(System.in);\n",
    "        \n",
    "        // sets the variable \"day\" as user input\n",
    "        int day = sc.nextInt();\n",
    "\n",
    "        System.out.println(\"Pick an number between 1 and 7 \" + day);\n",
    "        \n",
    "        // checks if the user inputted number is 1\n",
    "        // If not, it runs through the rest of the statements\n",
    "        if(num = 1){\n",
    "            System.out.println(\"The day is Monday\");\n",
    "        }\n",
    "        else if(num = 2){\n",
    "            System.out.println(\"The day is Tuesday\");\n",
    "        }\n",
    "        else if(num = 3){\n",
    "            System.out.println(\"The day is Wednesday\");\n",
    "        }\n",
    "        else if(num = 4){\n",
    "            System.out.println(\"The day is Thursday\");\n",
    "        }\n",
    "        else if(num = 5){\n",
    "            System.out.println(\"The day is Friday\");\n",
    "        }\n",
    "        else if(num = 6){\n",
    "            System.out.println(\"The day is Saturday\");\n",
    "        }\n",
    "        else if(num = 7){\n",
    "            System.out.println(\"The day is Sunday\");\n",
    "        }\n",
    "        else{\n",
    "            System.out.println(\"Not a valid entry\");\n",
    "        }\n",
    "\n",
    "    }\n",
    "}\n",
    "Main.main(null);"
   ]
  },
  {
   "cell_type": "markdown",
   "metadata": {},
   "source": [
    "### Converted to switch-case-case-case-case-otherwise"
   ]
  },
  {
   "cell_type": "code",
   "execution_count": 11,
   "metadata": {
    "vscode": {
     "languageId": "java"
    }
   },
   "outputs": [
    {
     "name": "stdout",
     "output_type": "stream",
     "text": [
      "Pick an number between 1 and 7: 3\n",
      "The third day is Wednesday\n"
     ]
    }
   ],
   "source": [
    "public class Switch {\n",
    "    public static void main(String[] args) {\n",
    "\n",
    "        Scanner sc = new Scanner(System.in);\n",
    "        \n",
    "        int day = sc.nextInt();\n",
    "\n",
    "        // Asks user for a number of their choice\n",
    "        System.out.println(\"Pick an number between 1 and 7: \" + day);\n",
    "\n",
    "        // the day is the conditional variable that is tested\n",
    "        switch (day) {\n",
    "\n",
    "// The switch case checks multiple conditions at once.\n",
    "// Switch is provided with an expression that can be a constant or literal expression that can be evaluated.\n",
    "// The value of the expression is matched with each test case till a match is found.\n",
    "// If there is no match then the \"default\" code runs.\n",
    "\n",
    "            case 1:\n",
    "                System.out.println(\"The first day is Monday\");\n",
    "                break;\n",
    "            case 2:\n",
    "                System.out.println(\"The second day is Tuesday\");\n",
    "                break;\n",
    "            case 3:\n",
    "                System.out.println(\"The third day is Wednesday\");\n",
    "                break;\n",
    "            case 4:\n",
    "                System.out.println(\"The fourth day is Thursday\");\n",
    "                break;\n",
    "            case 5:\n",
    "                System.out.println(\"The fifth day is Friday\");\n",
    "                break;\n",
    "            case 6:\n",
    "                System.out.println(\"The sixth day is Saturday\");\n",
    "                break;\n",
    "            case 7:\n",
    "                System.out.println(\"The seventh day is Sunday\");\n",
    "                break;\n",
    "            // Our last test is if the number is not between 1 and 7.\n",
    "            default:\n",
    "                System.out.println(\"Not a valid entry. Choose a number between 1 and 7.\");\n",
    "        }\n",
    "\n",
    "    }\n",
    "}\n",
    "Switch.main(null);"
   ]
  }
 ],
 "metadata": {
  "kernelspec": {
   "display_name": "Java",
   "language": "java",
   "name": "java"
  },
  "language_info": {
   "codemirror_mode": "java",
   "file_extension": ".jshell",
   "mimetype": "text/x-java-source",
   "name": "Java",
   "pygments_lexer": "java",
   "version": "11.0.12+8-LTS-237"
  },
  "orig_nbformat": 4
 },
 "nbformat": 4,
 "nbformat_minor": 2
}
