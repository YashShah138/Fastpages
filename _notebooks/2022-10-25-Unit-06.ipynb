{
 "cells": [
  {
   "cell_type": "markdown",
   "metadata": {},
   "source": [
    "# Unit 06 Tue - Arrays\n",
    "> Homework\n",
    "\n",
    "- title: Unit 06 Tue - Arrays\n",
    "- toc: false\n",
    "- badges: false\n",
    "- comments: false\n",
    "- categories: [Week-10]\n",
    "- image: images/TestPrep.png"
   ]
  },
  {
   "attachments": {},
   "cell_type": "markdown",
   "metadata": {},
   "source": [
    "## Write a class called ArrayMethods that contains two methods that utilize/manipulate an array."
   ]
  },
  {
   "cell_type": "code",
   "execution_count": 20,
   "metadata": {
    "vscode": {
     "languageId": "java"
    }
   },
   "outputs": [
    {
     "ename": "UnresolvedReferenceException",
     "evalue": "Attempt to use definition snippet with unresolved references in Snippet:ClassKey(ArrayMethods)#12-\n\npublic class ArrayMethods {\n    private int[] values;\n    public ArrayMethods(int[] array) {\n        this.values = array;\n    }\n    public int[] getArray() {\n        return this.values;\n    }\n    public String getString() {\n        return Arrays.toString(this.values);\n    }\n    public void swap() {\n        int temp = values[0];\n        values[0] = values[values.length - 1];\n        values[values.length - 1] = temp;\n    }\n    public void replaceAll() {\n        for (int i = 0; i < values.length; i++) {\n            values[i] = 0;\n        }\n    }\n    public boolean increasingOrder() {\n        for (int i = 0; i < this.values.length - 1; i++) {\n            if (values[i] > values[i+1]) {\n                return false;\n            }\n            return true;\n        }\n        return false;\n    }\n\n    public static void hasDuplicates(int[] values) {\n        // create a set to store the elements in the array\n        Set<Integer> set = new HashSet<>();\n        \n        // iterate over the elements in the array\n        for (int element : values) {\n            // if the set already contains the element, print a message and return\n            if (set.contains(element)) {\n                System.out.println(\"Array contains duplicate element: \" + element);\n                return;\n            }\n            // otherwise, add the element to the set\n            set.add(element);\n        }\n        \n        // if we reach this point, the array does not contain duplicate elements\n        System.out.println(\"Array does not contain duplicate elements\");\n    }\n\n    // Tester Method\n    public static void main() {\n        ArrayMethods method = new ArrayMethods(new int[]{1,2,3,3,4,5,5});\n        System.out.println(\"~~~ Array ~~~\");\n        System.out.println(method.getString());\n        System.out.println(\"~~~ Increasing Order ~~~\");\n        System.out.println(method.increasingOrder());\n        System.out.println(\"~~~ Swap First and Last ~~~\");\n        method.swap();\n        System.out.println(method.getString());\n        System.out.println(\"~~~ Replace All W/ 0 ~~~\");\n        method.replaceAll();\n        System.out.println(method.getString());\n        System.out.println(\"~~~ Duplicates ~~~\");\n        method.hasDuplicates();\n        System.out.println(method.getString());\n    }\n}",
     "output_type": "error",
     "traceback": []
    }
   ],
   "source": [
    "import java.util.*;\n",
    "import java.io.*;\n",
    "\n",
    "public class ArrayMethods {\n",
    "    private int[] values;\n",
    "    public ArrayMethods(int[] array) {\n",
    "        this.values = array;\n",
    "    }\n",
    "    public int[] getArray() {\n",
    "        return this.values;\n",
    "    }\n",
    "    public String getString() {\n",
    "        return Arrays.toString(this.values);\n",
    "    }\n",
    "    public void swap() {\n",
    "        int temp = values[0];\n",
    "        values[0] = values[values.length - 1];\n",
    "        values[values.length - 1] = temp;\n",
    "    }\n",
    "    public void replaceAll() {\n",
    "        for (int i = 0; i < values.length; i++) {\n",
    "            values[i] = 0;\n",
    "        }\n",
    "    }\n",
    "    public boolean increasingOrder() {\n",
    "        for (int i = 0; i < this.values.length - 1; i++) {\n",
    "            if (values[i] > values[i+1]) {\n",
    "                return false;\n",
    "            }\n",
    "            return true;\n",
    "        }\n",
    "        return false;\n",
    "    }\n",
    "\n",
    "    \n",
    "\n",
    "    // Tester Method\n",
    "    public static void main() {\n",
    "        ArrayMethods method = new ArrayMethods(new int[]{1,2,3,3,4,5,5});\n",
    "        System.out.println(\"~~~ Array ~~~\");\n",
    "        System.out.println(method.getString());\n",
    "        System.out.println(\"~~~ Increasing Order ~~~\");\n",
    "        System.out.println(method.increasingOrder());\n",
    "        System.out.println(\"~~~ Swap First and Last ~~~\");\n",
    "        method.swap();\n",
    "        System.out.println(method.getString());\n",
    "        System.out.println(\"~~~ Replace All W/ 0 ~~~\");\n",
    "        method.replaceAll();\n",
    "        System.out.println(method.getString());\n",
    "    }\n",
    "}\n",
    "ArrayMethods.main();"
   ]
  }
 ],
 "metadata": {
  "kernelspec": {
   "display_name": "Java",
   "language": "java",
   "name": "java"
  },
  "language_info": {
   "codemirror_mode": "java",
   "file_extension": ".jshell",
   "mimetype": "text/x-java-source",
   "name": "Java",
   "pygments_lexer": "java",
   "version": "11.0.12+8-LTS-237"
  },
  "orig_nbformat": 4,
  "vscode": {
   "interpreter": {
    "hash": "aee8b7b246df8f9039afb4144a1f6fd8d2ca17a180786b69acc140d282b71a49"
   }
  }
 },
 "nbformat": 4,
 "nbformat_minor": 2
}
