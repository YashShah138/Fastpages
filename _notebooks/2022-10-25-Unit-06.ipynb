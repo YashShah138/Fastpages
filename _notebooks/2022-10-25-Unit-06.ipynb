{
 "cells": [
  {
   "cell_type": "markdown",
   "metadata": {},
   "source": [
    "# Unit 06 Tue - Arrays\n",
    "> Homework\n",
    "\n",
    "- title: Unit 06 Tue - Arrays\n",
    "- toc: false\n",
    "- badges: false\n",
    "- comments: false\n",
    "- categories: [Week-10]\n",
    "- image: images/TestPrep.png"
   ]
  },
  {
   "cell_type": "markdown",
   "metadata": {},
   "source": [
    "## Write a class called ArrayMethods that contains two methods that utilize/manipulate an array."
   ]
  },
  {
   "cell_type": "markdown",
   "metadata": {},
   "source": [
    "### Swap the first and last element in the array"
   ]
  },
  {
   "cell_type": "code",
   "execution_count": 25,
   "metadata": {},
   "outputs": [
    {
     "name": "stdout",
     "output_type": "stream",
     "text": [
      "Original Array: [20, 30, 40]\n",
      "New array after swapping the first and last elements: [40, 30, 20]\n"
     ]
    }
   ],
   "source": [
    "public class SwapFirstAndLast {\n",
    "\n",
    "    public static void main(String[] args) {\n",
    "        int[] array_nums = {20, 30, 40};\n",
    "        System.out.println(\"Original Array: \" + Arrays.toString(array_nums));\n",
    "        int x = array_nums[0];\n",
    "        array_nums[0] = array_nums[array_nums.length-1];\n",
    "        array_nums[array_nums.length-1] = x;\n",
    "        System.out.println(\"New array after swapping the first and last elements: \" + Arrays.toString(array_nums));\n",
    "    }\n",
    "}\n",
    "\n",
    "SwapFirstAndLast.main(null);"
   ]
  },
  {
   "cell_type": "markdown",
   "metadata": {},
   "source": [
    "### Replace all even elements with 0"
   ]
  },
  {
   "cell_type": "code",
   "execution_count": 33,
   "metadata": {},
   "outputs": [
    {
     "name": "stdout",
     "output_type": "stream",
     "text": [
      "Original Array: [1, 2, 3, 4, 5, 6]\n",
      "New array after replacing all numbers in the array with 0: [0, 0, 0, 0, 0, 0]\n"
     ]
    }
   ],
   "source": [
    "public class ReplaceAll {\n",
    "    public static void main(String[] args) {\n",
    "        int arr[] = {1,2,3,4, 5, 6};\n",
    "        System.out.println(\"Original Array: \" + Arrays.toString(arr));\n",
    "\n",
    "        for (int i = 0; i < arr.length; i++) {\n",
    "            arr[i] = 0;\n",
    "        }\n",
    "\n",
    "        System.out.println(\"New array after replacing all numbers in the array with 0: \" + Arrays.toString(arr));\n",
    "    }\n",
    "}\n",
    "\n",
    "ReplaceAll.main(null);"
   ]
  },
  {
   "cell_type": "markdown",
   "metadata": {},
   "source": [
    "### Return true if the array is currently sorted in increasing order"
   ]
  },
  {
   "cell_type": "code",
   "execution_count": 55,
   "metadata": {},
   "outputs": [
    {
     "name": "stdout",
     "output_type": "stream",
     "text": [
      "[3, 5, 6, 7] is sorted? = true\n",
      "[2, 9, 4, 1] is sorted? = false\n"
     ]
    }
   ],
   "source": [
    "public class IncreasingOrder {\n",
    "\n",
    "    public static boolean isSorted(int[] a) {\n",
    "        for (int i = 0; i < a.length - 1; i++) {\n",
    "            if (a[i] > a[i + 1]) {\n",
    "                return false; // It is proven that the array is not sorted.\n",
    "            }\n",
    "        }\n",
    "    \n",
    "        return true;\n",
    "    }\n",
    "\n",
    "    public static void main(String[] args) {\n",
    "        int ar[] = {3,5,6,7};\n",
    "        System.out.print(Arrays.toString(ar) + \" is sorted? = \");\n",
    "        System.out.println(isSorted(ar));\n",
    "\n",
    "        int[] arr = {2, 9, 4, 1};\n",
    "        System.out.print(Arrays.toString(arr) + \" is sorted? = \");\n",
    "        System.out.println(isSorted(arr));\n",
    "    }\n",
    "}\n",
    "\n",
    "IncreasingOrder.main(null);"
   ]
  },
  {
   "cell_type": "markdown",
   "metadata": {},
   "source": [
    "### Return true if the array contains duplicate elements"
   ]
  }
 ],
 "metadata": {
  "kernelspec": {
   "display_name": "Java",
   "language": "java",
   "name": "java"
  },
  "language_info": {
   "codemirror_mode": "java",
   "file_extension": ".jshell",
   "mimetype": "text/x-java-source",
   "name": "java",
   "pygments_lexer": "java",
   "version": "11.0.12+8-LTS-237"
  },
  "orig_nbformat": 4,
  "vscode": {
   "interpreter": {
    "hash": "aee8b7b246df8f9039afb4144a1f6fd8d2ca17a180786b69acc140d282b71a49"
   }
  }
 },
 "nbformat": 4,
 "nbformat_minor": 2
}
