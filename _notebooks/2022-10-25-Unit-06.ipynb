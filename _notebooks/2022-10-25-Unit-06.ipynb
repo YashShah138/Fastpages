{
 "cells": [
  {
   "cell_type": "markdown",
   "metadata": {},
   "source": [
    "# Unit 06 Tue - Arrays\n",
    "> Homework\n",
    "\n",
    "- title: Unit 06 Tue - Arrays\n",
    "- toc: false\n",
    "- badges: false\n",
    "- comments: false\n",
    "- categories: [Week-10]\n",
    "- image: images/TestPrep.png"
   ]
  },
  {
   "attachments": {},
   "cell_type": "markdown",
   "metadata": {},
   "source": [
    "## Write a class called ArrayMethods that contains two methods that utilize/manipulate an array."
   ]
  },
  {
   "cell_type": "code",
   "execution_count": 28,
   "metadata": {
    "vscode": {
     "languageId": "java"
    }
   },
   "outputs": [
    {
     "name": "stdout",
     "output_type": "stream",
     "text": [
      "~~~ Array ~~~\n",
      "[1, 2, 3, 3, 4, 5, 5]\n",
      "~~~ Increasing Order ~~~\n",
      "true\n",
      "~~~ Swap First and Last ~~~\n",
      "[5, 2, 3, 3, 4, 5, 1]\n",
      "~~~ Replace All W/ 0 ~~~\n",
      "[0, 0, 0, 0, 0, 0, 0]\n",
      "~~~ Duplicates ~~~\n",
      "[1, 2, 3, 4, 5, 4, 3]\n",
      "3\n",
      "4\n"
     ]
    }
   ],
   "source": [
    "import java.util.*;\n",
    "import java.io.*;\n",
    "\n",
    "public class ArrayMethods {\n",
    "    private int[] values;\n",
    "    public ArrayMethods(int[] array) {\n",
    "        this.values = array;\n",
    "    }\n",
    "    public int[] getArray() {\n",
    "        return this.values;\n",
    "    }\n",
    "    public String getString() {\n",
    "        return Arrays.toString(this.values);\n",
    "    }\n",
    "    public void swap() {\n",
    "        int temp = values[0];\n",
    "        values[0] = values[values.length - 1];\n",
    "        values[values.length - 1] = temp;\n",
    "    }\n",
    "    public void replaceAll() {\n",
    "        for (int i = 0; i < values.length; i++) {\n",
    "            values[i] = 0;\n",
    "        }\n",
    "    }\n",
    "    public boolean increasingOrder() {\n",
    "        for (int i = 0; i < this.values.length - 1; i++) {\n",
    "            if (values[i] > values[i+1]) {\n",
    "                return false;\n",
    "            }\n",
    "            return true;\n",
    "        }\n",
    "        return false;\n",
    "    }\n",
    "\n",
    "    \n",
    "\n",
    "    // Tester Method\n",
    "    public static void main() {\n",
    "        ArrayMethods method = new ArrayMethods(new int[]{1,2,3,3,4,5,5});\n",
    "        System.out.println(\"~~~ Array ~~~\");\n",
    "        System.out.println(method.getString());\n",
    "        System.out.println(\"~~~ Increasing Order ~~~\");\n",
    "        System.out.println(method.increasingOrder());\n",
    "        System.out.println(\"~~~ Swap First and Last ~~~\");\n",
    "        method.swap();\n",
    "        System.out.println(method.getString());\n",
    "        System.out.println(\"~~~ Replace All W/ 0 ~~~\");\n",
    "        method.replaceAll();\n",
    "        System.out.println(method.getString());\n",
    "    }\n",
    "}\n",
    "ArrayMethods.main();\n",
    "\n",
    "\n",
    "public class Array {\n",
    "  public static void main(String[] args) \n",
    "    {\n",
    "        int[] array = {1, 2, 3, 4, 5, 4, 3};\n",
    "        System.out.println(\"~~~ Duplicates ~~~\");\n",
    "        System.out.println(Arrays.toString(array));\n",
    " \n",
    "        for (int i = 0; i < array.length-1; i++)\n",
    "        {\n",
    "            for (int j = i+1; j < array.length; j++)\n",
    "            {\n",
    "                if ((array[i] == array[j]) && (i != j))\n",
    "                {\n",
    "                    System.out.println(array[j]);\n",
    "                }\n",
    "            }\n",
    "        }\n",
    "    }    \n",
    "}\n",
    "Array.main(null);"
   ]
  }
 ],
 "metadata": {
  "kernelspec": {
   "display_name": "Java",
   "language": "java",
   "name": "java"
  },
  "language_info": {
   "codemirror_mode": "java",
   "file_extension": ".jshell",
   "mimetype": "text/x-java-source",
   "name": "Java",
   "pygments_lexer": "java",
   "version": "11.0.12+8-LTS-237"
  },
  "orig_nbformat": 4,
  "vscode": {
   "interpreter": {
    "hash": "aee8b7b246df8f9039afb4144a1f6fd8d2ca17a180786b69acc140d282b71a49"
   }
  }
 },
 "nbformat": 4,
 "nbformat_minor": 2
}
