{
 "cells": [
  {
   "attachments": {},
   "cell_type": "markdown",
   "metadata": {},
   "source": [
    "# Unit 10 Tues - Recursion\n",
    "> Notes + Homework\n",
    "\n",
    "- title: Unit 10 Tues - Recursion\n",
    "- toc: false\n",
    "- badges: false\n",
    "- comments: false\n",
    "- categories: [Week-16]\n",
    "- image: images/TestPrep.png"
   ]
  },
  {
   "attachments": {},
   "cell_type": "markdown",
   "metadata": {},
   "source": [
    "### Intro to Recursion\n",
    "- A recursive method is method that calls itself.\n",
    "- It contains at least one base case that halts recursion and once recursive call\n",
    "- Each recursive call has own local variables\n",
    "- Parameter values take progress of recursive process\n",
    "- A recursion can be replaced with an iterative and give the same result\n",
    "- Recursion can traverse String, array, and ArrayList objects\n",
    "- Can also be used with strings"
   ]
  },
  {
   "cell_type": "code",
   "execution_count": 1,
   "metadata": {},
   "outputs": [
    {
     "name": "stdout",
     "output_type": "stream",
     "text": [
      "4\n",
      "3\n",
      "2\n",
      "2\n",
      "3\n",
      "4\n"
     ]
    }
   ],
   "source": [
    "// Recursion method within itself\n",
    "\n",
    "public static void simplerRecur(int n) {\n",
    "    System.out.println(n);\n",
    "    \n",
    "    if (n > 2)\n",
    "        simplerRecur(n-1); \n",
    "    System.out.println(n);\n",
    "}\n",
    "simplerRecur(4);"
   ]
  },
  {
   "attachments": {},
   "cell_type": "markdown",
   "metadata": {},
   "source": [
    "### Binary Search w/ Equations\n",
    "\n",
    "1. Read the search element from the user.\n",
    "2. Find the middle element in the sorted list.\n",
    "3. Compare the search element with the middle element in the sorted list.\n",
    "4. If both are matched, then display \"Given element is found!!!\" and terminate the function.\n",
    "5. If both are not matched, then check whether the search element is smaller or larger than the middle element.\n",
    "6. If the search element is smaller than middle element, repeat steps 2, 3, 4 and 5 for the left sublist of the middle element.\n",
    "7. If the search element is larger than middle element, repeat steps 2, 3, 4 and 5 for the right sublist of the middle element.\n",
    "8. Repeat the same process until we find the search element in the list or until sublist contains only one element.\n",
    "9. If that element also doesn't match with the search element, then display \"Element is not found in the list!!!\" and terminate the function.\n",
    "\n",
    "![Binary Search Example](http://www.btechsmartclass.com/data_structures/ds_images/Binary%20Search.png)"
   ]
  },
  {
   "cell_type": "code",
   "execution_count": 2,
   "metadata": {},
   "outputs": [
    {
     "name": "stdout",
     "output_type": "stream",
     "text": [
      "index of target: 12\n"
     ]
    }
   ],
   "source": [
    "/**\n",
    " * Recursion in binary search\n",
    " */\n",
    "\n",
    "public class recursion{\n",
    "    public static int recursionBinarySearch(int[] array, int first, int last, int target){\n",
    "        int midpoint;\n",
    "\n",
    "        //if the first number is greater than the last, the target number is not in the list\n",
    "        if (first > last){\n",
    "            System.out.println(-1);\n",
    "            return -1;\n",
    "        } else {\n",
    "            midpoint = (first+last)/2;\n",
    "\n",
    "            //take the upper bound if number is greater than midpoint\n",
    "            if (array[midpoint] < target){\n",
    "                return recursionBinarySearch(array, midpoint+1, last, target);\n",
    "            }\n",
    "\n",
    "            // take the lower bound if the number is lesser than midpoint\n",
    "            if (array[midpoint] > target){\n",
    "                return recursionBinarySearch(array, first,midpoint-1, target);\n",
    "            }\n",
    "        System.out.println(\"index of target: \" + midpoint);\n",
    "        return midpoint;\n",
    "        }\n",
    "    }\n",
    "\n",
    "    public static void main(String[] args){\n",
    "        // test array in main\n",
    "        int[] test_array = new int[]{ 0,2,4,6,8,10,12,14,16,18,20,22,24,26,28,30,32,34,36,38,40 };\n",
    "        recursion.recursionBinarySearch(test_array, 0, test_array.length, 24);\n",
    "    }\n",
    "}\n",
    "\n",
    "recursion.main(null);"
   ]
  },
  {
   "attachments": {},
   "cell_type": "markdown",
   "metadata": {},
   "source": [
    "### Merge Sort\n",
    "- Merge Sort can be used to sort ArrayLists\n",
    "- Uses a Divide and Conquer algorithm to Sort ArrayList\n",
    "    - Divides the array into halves, and then calls itself for the two different halves in order to sort them\n",
    "    - Merges the two sorted halves into one lists\n",
    "- Merging Values into One Sorted Array\n",
    "    - copy the original elements into a temporary array\n",
    "    - work from left to right in each virtual array to compare element and return them to the correct order in the original array\n"
   ]
  },
  {
   "cell_type": "code",
   "execution_count": null,
   "metadata": {},
   "outputs": [],
   "source": [
    "mergeSort (myArray, low, high) {\n",
    "\n",
    "    if (low < high) {\n",
    "        middle = (low + high) / 2;\n",
    "        mergeSort(myArray, low, high);\n",
    "        mergeSort(myArray, middle + 1, high);\n",
    "        merge(myArray, low, middle, high);\n",
    "    }\n",
    "}"
   ]
  },
  {
   "attachments": {},
   "cell_type": "markdown",
   "metadata": {},
   "source": [
    "### Recursion Trees\n",
    "- Recursion trees are a method for visualizing each recursive case (everytime the method is called) until the base case is reached.\n",
    "- Recursive blocks call themselves. In order for them to finish, there must be some special case in which they don't call themselves. That is the base case, a simpler version of the block's script that doesn't call the block itself.\n",
    "- There is usually a conditional with two cases: a base case for the lowest level that stops the recursion from going on forever and a recursive case that calls the block itself at lower levels until it reaches the base case.\n",
    "- Note: If a block keeps recursively calling itself forever, the program is stuck in an infinite loop meaning that there isn't a base case or it is not accessible.\n",
    "\n",
    "![Recursion Trees](https://jz21324.github.io/Vcode/images/images/recursionimage.png)"
   ]
  },
  {
   "cell_type": "code",
   "execution_count": 3,
   "metadata": {},
   "outputs": [
    {
     "name": "stdout",
     "output_type": "stream",
     "text": [
      "8\n"
     ]
    }
   ],
   "source": [
    "public class example{\n",
    "    static int foo(int n) {\n",
    "\n",
    "        if (n < 0){\n",
    "            return 1;\n",
    "        }\n",
    "        else{\n",
    "            return foo(n-2) + foo(n-1);\n",
    "        }\n",
    "\n",
    "    }\n",
    "\n",
    "    public static void main(String args[]){\n",
    "        System.out.println(foo(3));\n",
    "    }\n",
    "}\n",
    "\n",
    "example.main(null);"
   ]
  },
  {
   "cell_type": "code",
   "execution_count": 4,
   "metadata": {},
   "outputs": [
    {
     "name": "stdout",
     "output_type": "stream",
     "text": [
      "3rd Fibonacci Sequence is: 2\n"
     ]
    }
   ],
   "source": [
    "/**\n",
    " * Fibonacci Series Using Recursion\n",
    " */\n",
    "\n",
    "class fibonacci {\n",
    "\tstatic int fib(int n)\n",
    "\t{\n",
    "\t\t// Handling base case\n",
    "\t\t// iIf value of n=1 or n=0, it returns 1\n",
    "\t\tif (n <= 1)\n",
    "\t\t\treturn n;\n",
    "\n",
    "\t\t// Generic case\n",
    "        // Otherwise we do n-1 + n-2!\t\n",
    "\t\treturn fib(n - 1) + fib(n - 2);\n",
    "\t}\n",
    "\n",
    "\tpublic static void main(String args[])\n",
    "\t{\n",
    "\t\t// Calling method 1 to compute fibonacci and\n",
    "        // storing the result into a variable\n",
    "\t\tint n = 3;\n",
    "\n",
    "\t\t// Print and display the fibonacci of number\n",
    "        // customly passed as an argument\n",
    "\t\tSystem.out.println(\"3rd Fibonacci Sequence is: \" + fib(n));\n",
    "\t}\n",
    "}\n",
    "\n",
    "fibonacci.main(null);"
   ]
  },
  {
   "cell_type": "code",
   "execution_count": null,
   "metadata": {},
   "outputs": [],
   "source": [
    "class factorial {\n",
    " \n",
    "    static int fact(int n) {\n",
    " \n",
    "        // Handling base case\n",
    "        // iIf value of n=1 or n=0, it returns 1\n",
    "        if (n == 0 || n == 1)\n",
    "            return 1;\n",
    " \n",
    "        // Generic case\n",
    "        // Otherwise we do n*(n-1)!\n",
    "        return n * fact(n - 1);\n",
    "    }\n",
    " \n",
    "    // Method 2\n",
    "    // main driver method\n",
    "    public static void main(String[] args) {\n",
    " \n",
    "        // Calling method 1 to compute factorial and\n",
    "        // storing the result into a variable\n",
    "        int n = 4;\n",
    "\n",
    "        // Print and display the factorial of number\n",
    "        // customly passed as an argument\n",
    "        System.out.println(\"Factorial of 4 is: \" + fact(n));\n",
    "    }\n",
    "}\n",
    "\n",
    "factorial.main(null);"
   ]
  }
 ],
 "metadata": {
  "kernelspec": {
   "display_name": "Java",
   "language": "java",
   "name": "java"
  },
  "language_info": {
   "codemirror_mode": "java",
   "file_extension": ".jshell",
   "mimetype": "text/x-java-source",
   "name": "java",
   "pygments_lexer": "java",
   "version": "11.0.12+8-LTS-237"
  },
  "orig_nbformat": 4
 },
 "nbformat": 4,
 "nbformat_minor": 2
}
