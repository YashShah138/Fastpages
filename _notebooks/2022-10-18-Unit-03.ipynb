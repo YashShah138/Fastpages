{
 "cells": [
  {
   "cell_type": "markdown",
   "metadata": {},
   "source": [
    "# Unit 03 Tue - Boolean Expressions and if Statements\n",
    "> Homework\n",
    "\n",
    "- title: Unit 03 Tue - Boolean Expressions and if Statements\n",
    "- toc: false\n",
    "- badges: false\n",
    "- comments: false\n",
    "- categories: [Week-9]"
   ]
  },
  {
   "cell_type": "markdown",
   "metadata": {},
   "source": [
    "## 2009 FRQ Q3B"
   ]
  },
  {
   "cell_type": "code",
   "execution_count": null,
   "metadata": {},
   "outputs": [],
   "source": [
    "public int getChargeStartTime (int chargeTime) {\n",
    "    int startHour = 0;\n",
    "    int lowPrice = 500_000;\n",
    "\n",
    "    for (int x = 0; x < 23; x++) {\n",
    "        if (lowPrice > getChargingCost(x, chargeTime)) {\n",
    "            lowPrice = getChargingCost(x, chargeTime);\n",
    "            startHour = x;\n",
    "        }\n",
    "    }\n",
    "    return startHour;\n",
    "}"
   ]
  },
  {
   "cell_type": "markdown",
   "metadata": {},
   "source": [
    "## 2017 FRQ Q1B"
   ]
  },
  {
   "cell_type": "code",
   "execution_count": null,
   "metadata": {},
   "outputs": [],
   "source": [
    "public boolean isStrictlyIncreasing () {\n",
    "    boolean increasing = true;\n",
    "\n",
    "    for (int i = 1; i < digitListSize(); i++) {\n",
    "        if (digitList.get(i-1) >= digitList.get(i)) {\n",
    "            increasing = false;\n",
    "        }\n",
    "    }\n",
    "    return increasing;\n",
    "}"
   ]
  },
  {
   "cell_type": "markdown",
   "metadata": {},
   "source": [
    "## 2019 FRQ Q3B"
   ]
  },
  {
   "cell_type": "code",
   "execution_count": null,
   "metadata": {},
   "outputs": [],
   "source": [
    "public boolean isBalanced(ArrayList<String> delimiters) {\n",
    "    int numOpen = 0, numClosed = 0;\n",
    "\n",
    "    for(String d : delimiters) {\n",
    "        if(d.equals(openDel))\n",
    "            numOpen++;\n",
    "\n",
    "        if(d.equals(closeDel))\n",
    "            numClosed++;\n",
    "                \n",
    "        if(numClosed > numOpen)\n",
    "            return false;\n",
    "    }\n",
    "    return numOpen == numClosed;\n",
    "}"
   ]
  }
 ],
 "metadata": {
  "kernelspec": {
   "display_name": "Java",
   "language": "java",
   "name": "java"
  },
  "language_info": {
   "name": "java"
  },
  "orig_nbformat": 4
 },
 "nbformat": 4,
 "nbformat_minor": 2
}
