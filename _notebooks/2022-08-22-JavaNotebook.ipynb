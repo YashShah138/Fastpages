{
 "cells": [
  {
   "cell_type": "markdown",
   "metadata": {},
   "source": [
    "# This is my Java Notebook\n",
    "> Testing of the Java kernel\n",
    "\n",
    "- title: Java Kernel Notebook\n",
    "- toc: true\n",
    "- comments: true\n",
    "- categories: [Week-0]\n",
    "- image: images/Java.png"
   ]
  },
  {
   "cell_type": "code",
   "execution_count": 1,
   "metadata": {},
   "outputs": [
    {
     "name": "stdout",
     "output_type": "stream",
     "text": [
      "Welcome to my Java Kernel Notebook!!\n"
     ]
    }
   ],
   "source": [
    "\n",
    "class HelloWorld\n",
    "{\n",
    "    public static void main(String args[])\n",
    "    {\n",
    "        System.out.println(\"Welcome to my Java Kernel Notebook!!\");\n",
    "    }\n",
    "}\n",
    "HelloWorld.main(null)"
   ]
  },
  {
   "cell_type": "code",
   "execution_count": 5,
   "metadata": {},
   "outputs": [
    {
     "name": "stdout",
     "output_type": "stream",
     "text": [
      "Welcome to my Java Kernel Notebook!!\n"
     ]
    }
   ],
   "source": [
    "System.out.println(\"Welcome to my Java Kernel Notebook!!\")"
   ]
  }
 ],
 "metadata": {
  "kernelspec": {
   "display_name": "Java",
   "language": "java",
   "name": "java"
  },
  "language_info": {
   "codemirror_mode": "java",
   "file_extension": ".jshell",
   "mimetype": "text/x-java-source",
   "name": "java",
   "pygments_lexer": "java",
   "version": "11.0.12+8-LTS-237"
  },
  "orig_nbformat": 4
 },
 "nbformat": 4,
 "nbformat_minor": 2
}
