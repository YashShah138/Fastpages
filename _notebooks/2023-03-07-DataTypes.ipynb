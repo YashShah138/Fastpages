{
 "cells": [
  {
   "attachments": {},
   "cell_type": "markdown",
   "metadata": {},
   "source": [
    "# Data Types\n",
    "> Data types and their Wrapper class equivalent\n",
    "\n",
    "- title: Data Types\n",
    "- toc: true\n",
    "- comments: true\n",
    "- Categories: [Week-25]"
   ]
  },
  {
   "attachments": {},
   "cell_type": "markdown",
   "metadata": {},
   "source": [
    "## Primitive types examples with arrays and methods\n",
    "- int, double, boolean, char"
   ]
  },
  {
   "attachments": {},
   "cell_type": "markdown",
   "metadata": {},
   "source": [
    "### int"
   ]
  },
  {
   "cell_type": "code",
   "execution_count": 2,
   "metadata": {},
   "outputs": [
    {
     "name": "stdout",
     "output_type": "stream",
     "text": [
      "[3, 5, 1, 4, 4]\n",
      "1\n"
     ]
    }
   ],
   "source": [
    "import java.util.Arrays;\n",
    "import java.util.Random;\n",
    "\n",
    "public class Main {\n",
    "    public static void main(String[] args) {\n",
    "        Random random = new Random();\n",
    "        int[] myArray = new int[5];\n",
    "        for (int i = 0; i < myArray.length; i++) {\n",
    "            myArray[i] = random.nextInt(10);\n",
    "        }\n",
    "        System.out.println(Arrays.toString(myArray));\n",
    "        System.out.println(myArray[2]);\n",
    "    }\n",
    "}\n",
    "\n",
    "Main.main(null);"
   ]
  },
  {
   "attachments": {},
   "cell_type": "markdown",
   "metadata": {},
   "source": [
    "### double"
   ]
  },
  {
   "cell_type": "code",
   "execution_count": 3,
   "metadata": {},
   "outputs": [
    {
     "name": "stdout",
     "output_type": "stream",
     "text": [
      "[0.1329644418262811, 0.33644353904885693, 0.890929664220187, 0.286205278961714, 0.38820678961125066]\n",
      "0.286205278961714\n"
     ]
    }
   ],
   "source": [
    "public class Main {\n",
    "    public static void main(String[] args) {\n",
    "        Random random = new Random();\n",
    "        double[] myArray = new double[5];\n",
    "        for (int i = 0; i < myArray.length; i++) {\n",
    "            myArray[i] = random.nextDouble();\n",
    "        }\n",
    "        System.out.println(Arrays.toString(myArray));\n",
    "        System.out.println(myArray[3]);\n",
    "    }\n",
    "}\n",
    "\n",
    "Main.main(null);"
   ]
  },
  {
   "attachments": {},
   "cell_type": "markdown",
   "metadata": {},
   "source": [
    "### boolean"
   ]
  },
  {
   "cell_type": "code",
   "execution_count": 4,
   "metadata": {},
   "outputs": [
    {
     "name": "stdout",
     "output_type": "stream",
     "text": [
      "[true, false, true]\n",
      "false\n"
     ]
    }
   ],
   "source": [
    "public class Main {\n",
    "    public static void main(String[] args) {\n",
    "        boolean[] myArray = {true, false, true};\n",
    "        System.out.println(Arrays.toString(myArray));\n",
    "        System.out.println(myArray[1]);\n",
    "    }\n",
    "}\n",
    "\n",
    "Main.main(null);"
   ]
  },
  {
   "attachments": {},
   "cell_type": "markdown",
   "metadata": {},
   "source": [
    "### char"
   ]
  },
  {
   "cell_type": "code",
   "execution_count": 5,
   "metadata": {},
   "outputs": [
    {
     "name": "stdout",
     "output_type": "stream",
     "text": [
      "Hello, World\n",
      "W\n"
     ]
    }
   ],
   "source": [
    "public class Main {\n",
    "    public static void main(String[] args) {\n",
    "        String myString = \"Hello, World\";\n",
    "        char[] myCharArray = myString.toCharArray();\n",
    "        System.out.println(myCharArray);\n",
    "        System.out.println(myCharArray[7]);\n",
    "    }\n",
    "}\n",
    "\n",
    "Main.main(null);"
   ]
  },
  {
   "attachments": {},
   "cell_type": "markdown",
   "metadata": {},
   "source": [
    "## Wrapper classes examples with arrays\n",
    "- Integer, Double, Boolean, "
   ]
  },
  {
   "attachments": {},
   "cell_type": "markdown",
   "metadata": {},
   "source": [
    "### Integer"
   ]
  },
  {
   "cell_type": "code",
   "execution_count": 7,
   "metadata": {},
   "outputs": [
    {
     "name": "stdout",
     "output_type": "stream",
     "text": [
      "[9, 8, 7, 4, 5]\n",
      "7\n"
     ]
    }
   ],
   "source": [
    "public class Main {\n",
    "    public static void main(String[] args) {\n",
    "        Random random = new Random();\n",
    "        Integer[] myArray = new Integer[5];\n",
    "        for (int i = 0; i < myArray.length; i++) {\n",
    "            myArray[i] = random.nextInt(10);\n",
    "        }\n",
    "        System.out.println(Arrays.toString(myArray));\n",
    "        System.out.println(myArray[2]);\n",
    "    }\n",
    "}\n",
    "\n",
    "Main.main(null);"
   ]
  },
  {
   "attachments": {},
   "cell_type": "markdown",
   "metadata": {},
   "source": [
    "### Double"
   ]
  },
  {
   "cell_type": "code",
   "execution_count": 6,
   "metadata": {},
   "outputs": [
    {
     "name": "stdout",
     "output_type": "stream",
     "text": [
      "[0.0412007063867188, 0.2505386531859187, 0.1385281108903912, 0.30090658179014174, 0.5144641720034505]\n",
      "0.30090658179014174\n"
     ]
    }
   ],
   "source": [
    "public class Main {\n",
    "    public static void main(String[] args) {\n",
    "        Random random = new Random();\n",
    "        Double[] myArray = new Double[5];\n",
    "        for (int i = 0; i < myArray.length; i++) {\n",
    "            myArray[i] = random.nextDouble();\n",
    "        }\n",
    "        System.out.println(Arrays.toString(myArray));\n",
    "        System.out.println(myArray[3]);\n",
    "    }\n",
    "}\n",
    "\n",
    "Main.main(null);"
   ]
  },
  {
   "attachments": {},
   "cell_type": "markdown",
   "metadata": {},
   "source": [
    "### Boolean"
   ]
  },
  {
   "cell_type": "code",
   "execution_count": 8,
   "metadata": {},
   "outputs": [
    {
     "name": "stdout",
     "output_type": "stream",
     "text": [
      "[true, false, true]\n",
      "false\n"
     ]
    }
   ],
   "source": [
    "public class Main {\n",
    "    public static void main(String[] args) {\n",
    "        Boolean[] myArray = {true, false, true};\n",
    "        System.out.println(Arrays.toString(myArray));\n",
    "        System.out.println(myArray[1]);\n",
    "    }\n",
    "}\n",
    "\n",
    "Main.main(null);"
   ]
  },
  {
   "attachments": {},
   "cell_type": "markdown",
   "metadata": {},
   "source": [
    "### Character"
   ]
  },
  {
   "cell_type": "code",
   "execution_count": 9,
   "metadata": {},
   "outputs": [
    {
     "name": "stdout",
     "output_type": "stream",
     "text": [
      "[H, e, l, l, o, ,,  , W, o, r, l, d]\n",
      "W\n"
     ]
    }
   ],
   "source": [
    "public class Main {\n",
    "    public static void main(String[] args) {\n",
    "        String myString = \"Hello, World\";\n",
    "        Character[] myCharArray = new Character[myString.length()];\n",
    "        for (int i = 0; i < myString.length(); i++) {\n",
    "            myCharArray[i] = myString.charAt(i);\n",
    "        }\n",
    "        System.out.println(Arrays.toString(myCharArray));\n",
    "        System.out.println(myCharArray[7]);\n",
    "    }\n",
    "}\n",
    "\n",
    "Main.main(null);"
   ]
  }
 ],
 "metadata": {
  "kernelspec": {
   "display_name": "Java",
   "language": "java",
   "name": "java"
  },
  "language_info": {
   "codemirror_mode": "java",
   "file_extension": ".jshell",
   "mimetype": "text/x-java-source",
   "name": "java",
   "pygments_lexer": "java",
   "version": "11.0.12+8-LTS-237"
  },
  "orig_nbformat": 4
 },
 "nbformat": 4,
 "nbformat_minor": 2
}
