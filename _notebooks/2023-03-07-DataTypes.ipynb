{
 "cells": [
  {
   "attachments": {},
   "cell_type": "markdown",
   "metadata": {},
   "source": [
    "# Data Types\n",
    "> Data types and their Wrapper class equivalent\n",
    "\n",
    "- title: Data Types\n",
    "- toc: true\n",
    "- comments: true\n",
    "- Categories: [Week-25]"
   ]
  },
  {
   "attachments": {},
   "cell_type": "markdown",
   "metadata": {},
   "source": [
    "## Primitive types examples with arrays and methods\n",
    "- int, double, boolean, char"
   ]
  },
  {
   "attachments": {},
   "cell_type": "markdown",
   "metadata": {},
   "source": [
    "### int"
   ]
  },
  {
   "cell_type": "code",
   "execution_count": 2,
   "metadata": {},
   "outputs": [
    {
     "name": "stdout",
     "output_type": "stream",
     "text": [
      "[3, 5, 1, 4, 4]\n",
      "1\n"
     ]
    }
   ],
   "source": [
    "import java.util.Arrays;\n",
    "import java.util.Random;\n",
    "\n",
    "public class Main {\n",
    "    public static void main(String[] args) {\n",
    "        Random random = new Random();\n",
    "        int[] myArray = new int[5];\n",
    "        for (int i = 0; i < myArray.length; i++) {\n",
    "            myArray[i] = random.nextInt(10);\n",
    "        }\n",
    "        System.out.println(Arrays.toString(myArray));\n",
    "        System.out.println(myArray[2]);\n",
    "    }\n",
    "}\n",
    "\n",
    "Main.main(null);"
   ]
  },
  {
   "attachments": {},
   "cell_type": "markdown",
   "metadata": {},
   "source": [
    "### double"
   ]
  },
  {
   "cell_type": "code",
   "execution_count": 3,
   "metadata": {},
   "outputs": [
    {
     "name": "stdout",
     "output_type": "stream",
     "text": [
      "[0.1329644418262811, 0.33644353904885693, 0.890929664220187, 0.286205278961714, 0.38820678961125066]\n",
      "0.286205278961714\n"
     ]
    }
   ],
   "source": [
    "public class Main {\n",
    "    public static void main(String[] args) {\n",
    "        Random random = new Random();\n",
    "        double[] myArray = new double[5];\n",
    "        for (int i = 0; i < myArray.length; i++) {\n",
    "            myArray[i] = random.nextDouble();\n",
    "        }\n",
    "        System.out.println(Arrays.toString(myArray));\n",
    "        System.out.println(myArray[3]);\n",
    "    }\n",
    "}\n",
    "\n",
    "Main.main(null);"
   ]
  },
  {
   "attachments": {},
   "cell_type": "markdown",
   "metadata": {},
   "source": [
    "### boolean"
   ]
  },
  {
   "cell_type": "code",
   "execution_count": 4,
   "metadata": {},
   "outputs": [
    {
     "name": "stdout",
     "output_type": "stream",
     "text": [
      "[true, false, true]\n",
      "false\n"
     ]
    }
   ],
   "source": [
    "public class Main {\n",
    "    public static void main(String[] args) {\n",
    "        boolean[] myArray = {true, false, true};\n",
    "        System.out.println(Arrays.toString(myArray));\n",
    "        System.out.println(myArray[1]);\n",
    "    }\n",
    "}\n",
    "\n",
    "Main.main(null);"
   ]
  },
  {
   "attachments": {},
   "cell_type": "markdown",
   "metadata": {},
   "source": [
    "### char"
   ]
  },
  {
   "cell_type": "code",
   "execution_count": 5,
   "metadata": {},
   "outputs": [
    {
     "name": "stdout",
     "output_type": "stream",
     "text": [
      "Hello, World\n",
      "W\n"
     ]
    }
   ],
   "source": [
    "public class Main {\n",
    "    public static void main(String[] args) {\n",
    "        String myString = \"Hello, World\";\n",
    "        char[] myCharArray = myString.toCharArray();\n",
    "        System.out.println(myCharArray);\n",
    "        System.out.println(myCharArray[7]);\n",
    "    }\n",
    "}\n",
    "\n",
    "Main.main(null);"
   ]
  },
  {
   "attachments": {},
   "cell_type": "markdown",
   "metadata": {},
   "source": [
    "## Wrapper classes examples with arrays\n",
    "- Integer, Double, Boolean, "
   ]
  },
  {
   "attachments": {},
   "cell_type": "markdown",
   "metadata": {},
   "source": [
    "### Integer"
   ]
  },
  {
   "cell_type": "code",
   "execution_count": 7,
   "metadata": {},
   "outputs": [
    {
     "name": "stdout",
     "output_type": "stream",
     "text": [
      "[9, 8, 7, 4, 5]\n",
      "7\n"
     ]
    }
   ],
   "source": [
    "public class Main {\n",
    "    public static void main(String[] args) {\n",
    "        Random random = new Random();\n",
    "        Integer[] myArray = new Integer[5];\n",
    "        for (int i = 0; i < myArray.length; i++) {\n",
    "            myArray[i] = random.nextInt(10);\n",
    "        }\n",
    "        System.out.println(Arrays.toString(myArray));\n",
    "        System.out.println(myArray[2]);\n",
    "    }\n",
    "}\n",
    "\n",
    "Main.main(null);"
   ]
  },
  {
   "attachments": {},
   "cell_type": "markdown",
   "metadata": {},
   "source": [
    "### Double"
   ]
  },
  {
   "cell_type": "code",
   "execution_count": 6,
   "metadata": {},
   "outputs": [
    {
     "name": "stdout",
     "output_type": "stream",
     "text": [
      "[0.0412007063867188, 0.2505386531859187, 0.1385281108903912, 0.30090658179014174, 0.5144641720034505]\n",
      "0.30090658179014174\n"
     ]
    }
   ],
   "source": [
    "public class Main {\n",
    "    public static void main(String[] args) {\n",
    "        Random random = new Random();\n",
    "        Double[] myArray = new Double[5];\n",
    "        for (int i = 0; i < myArray.length; i++) {\n",
    "            myArray[i] = random.nextDouble();\n",
    "        }\n",
    "        System.out.println(Arrays.toString(myArray));\n",
    "        System.out.println(myArray[3]);\n",
    "    }\n",
    "}\n",
    "\n",
    "Main.main(null);"
   ]
  },
  {
   "attachments": {},
   "cell_type": "markdown",
   "metadata": {},
   "source": [
    "### Boolean"
   ]
  },
  {
   "cell_type": "code",
   "execution_count": 8,
   "metadata": {},
   "outputs": [
    {
     "name": "stdout",
     "output_type": "stream",
     "text": [
      "[true, false, true]\n",
      "false\n"
     ]
    }
   ],
   "source": [
    "public class Main {\n",
    "    public static void main(String[] args) {\n",
    "        Boolean[] myArray = {true, false, true};\n",
    "        System.out.println(Arrays.toString(myArray));\n",
    "        System.out.println(myArray[1]);\n",
    "    }\n",
    "}\n",
    "\n",
    "Main.main(null);"
   ]
  },
  {
   "attachments": {},
   "cell_type": "markdown",
   "metadata": {},
   "source": [
    "### Character"
   ]
  },
  {
   "cell_type": "code",
   "execution_count": 9,
   "metadata": {},
   "outputs": [
    {
     "name": "stdout",
     "output_type": "stream",
     "text": [
      "[H, e, l, l, o, ,,  , W, o, r, l, d]\n",
      "W\n"
     ]
    }
   ],
   "source": [
    "public class Main {\n",
    "    public static void main(String[] args) {\n",
    "        String myString = \"Hello, World\";\n",
    "        Character[] myCharArray = new Character[myString.length()];\n",
    "        for (int i = 0; i < myString.length(); i++) {\n",
    "            myCharArray[i] = myString.charAt(i);\n",
    "        }\n",
    "        System.out.println(Arrays.toString(myCharArray));\n",
    "        System.out.println(myCharArray[7]);\n",
    "    }\n",
    "}\n",
    "\n",
    "Main.main(null);"
   ]
  },
  {
   "cell_type": "code",
   "execution_count": 4,
   "metadata": {},
   "outputs": [
    {
     "ename": "CompilationException",
     "evalue": "",
     "output_type": "error",
     "traceback": [
      "\u001b[1m\u001b[30m|   \u001b[1m\u001b[30m\u001b[0m",
      "\u001b[1m\u001b[30m|   \u001b[1m\u001b[30m\u001b[0m",
      "\u001b[1m\u001b[30m|   \u001b[1m\u001b[30m/**\u001b[0m",
      "\u001b[1m\u001b[30m|   \u001b[1m\u001b[30m * Menu: custom implementation\u001b[0m",
      "\u001b[1m\u001b[30m|   \u001b[1m\u001b[30m * @author     John Mortensen\u001b[0m",
      "\u001b[1m\u001b[30m|   \u001b[1m\u001b[30m *\u001b[0m",
      "\u001b[1m\u001b[30m|   \u001b[1m\u001b[30m * Uses String to contain Title for an Option\u001b[0m",
      "\u001b[1m\u001b[30m|   \u001b[1m\u001b[30m * Uses Runnable to store Class-Method to be run when Title is selected\u001b[0m",
      "\u001b[1m\u001b[30m|   \u001b[1m\u001b[30m */\u001b[0m",
      "\u001b[1m\u001b[30m|   \u001b[1m\u001b[30m\u001b[0m",
      "\u001b[1m\u001b[30m|   \u001b[1m\u001b[30m// The Menu Class has a HashMap of Menu Rows\u001b[0m",
      "\u001b[1m\u001b[30m|   \u001b[1m\u001b[30mpublic class Menu {\u001b[0m",
      "\u001b[1m\u001b[30m|   \u001b[1m\u001b[30m    // Format\u001b[0m",
      "\u001b[1m\u001b[30m|   \u001b[1m\u001b[30m    // Key {0, 1, 2, ...} created based on order of input menu\u001b[0m",
      "\u001b[1m\u001b[30m|   \u001b[1m\u001b[30m    // Value {MenuRow0, MenuRow1, MenuRow2,...} each corresponds to key\u001b[0m",
      "\u001b[1m\u001b[30m|   \u001b[1m\u001b[30m    // MenuRow  {<Exit,Noop>, Option1, Option2, ...}\u001b[0m",
      "\u001b[1m\u001b[30m|   \u001b[1m\u001b[30m    Map<Integer, MenuRow> menu = new HashMap<>();\u001b[0m",
      "\u001b[1m\u001b[30m|   \u001b[1m\u001b[30m\u001b[0m",
      "\u001b[1m\u001b[30m|   \u001b[1m\u001b[30m    /**\u001b[0m",
      "\u001b[1m\u001b[30m|   \u001b[1m\u001b[30m     *  Constructor for Menu,\u001b[0m",
      "\u001b[1m\u001b[30m|   \u001b[1m\u001b[30m     *\u001b[0m",
      "\u001b[1m\u001b[30m|   \u001b[1m\u001b[30m     * @param  rows,  is the row data for menu.\u001b[0m",
      "\u001b[1m\u001b[30m|   \u001b[1m\u001b[30m     */\u001b[0m",
      "\u001b[1m\u001b[30m|   \u001b[1m\u001b[30m    public Menu(MenuRow[] rows) {\u001b[0m",
      "\u001b[1m\u001b[30m|   \u001b[1m\u001b[30m        int i = 0;\u001b[0m",
      "\u001b[1m\u001b[30m|   \u001b[1m\u001b[30m        for (MenuRow row : rows) {\u001b[0m",
      "\u001b[1m\u001b[30m|   \u001b[1m\u001b[30m            // Build HashMap for lookup convenience\u001b[0m",
      "\u001b[1m\u001b[30m|   \u001b[1m\u001b[30m            menu.put(i++, new MenuRow(row.getTitle(), row.getAction()));\u001b[0m",
      "\u001b[1m\u001b[30m|   \u001b[1m\u001b[30m        }\u001b[0m",
      "\u001b[1m\u001b[30m|   \u001b[1m\u001b[30m    }\u001b[0m",
      "\u001b[1m\u001b[30m|   \u001b[1m\u001b[30m\u001b[0m",
      "\u001b[1m\u001b[30m|   \u001b[1m\u001b[30m    /**\u001b[0m",
      "\u001b[1m\u001b[30m|   \u001b[1m\u001b[30m     *  Get Row from Menu,\u001b[0m",
      "\u001b[1m\u001b[30m|   \u001b[1m\u001b[30m     *\u001b[0m",
      "\u001b[1m\u001b[30m|   \u001b[1m\u001b[30m     * @param  i,  HashMap key (k)\u001b[0m",
      "\u001b[1m\u001b[30m|   \u001b[1m\u001b[30m     *\u001b[0m",
      "\u001b[1m\u001b[30m|   \u001b[1m\u001b[30m     * @return  MenuRow, the selected menu\u001b[0m",
      "\u001b[1m\u001b[30m|   \u001b[1m\u001b[30m     */\u001b[0m",
      "\u001b[1m\u001b[30m|   \u001b[1m\u001b[30m    public MenuRow get(int i) {\u001b[0m",
      "\u001b[1m\u001b[30m|   \u001b[1m\u001b[30m        return menu.get(i);\u001b[0m",
      "\u001b[1m\u001b[30m|   \u001b[1m\u001b[30m    }\u001b[0m",
      "\u001b[1m\u001b[30m|   \u001b[1m\u001b[30m\u001b[0m",
      "\u001b[1m\u001b[30m|   \u001b[1m\u001b[30m    /**\u001b[0m",
      "\u001b[1m\u001b[30m|   \u001b[1m\u001b[30m     *  Iterate through and print rows in HashMap\u001b[0m",
      "\u001b[1m\u001b[30m|   \u001b[1m\u001b[30m     */\u001b[0m",
      "\u001b[1m\u001b[30m|   \u001b[1m\u001b[30m    public void print() {\u001b[0m",
      "\u001b[1m\u001b[30m|   \u001b[1m\u001b[30m        for (Map.Entry<Integer, MenuRow> pair : menu.entrySet()) {\u001b[0m",
      "\u001b[1m\u001b[30m|   \u001b[1m\u001b[30m            System.out.println(pair.getKey() + \" ==> \" + pair.getValue().getTitle());\u001b[0m",
      "\u001b[1m\u001b[30m|   \u001b[1m\u001b[30m        }\u001b[0m",
      "\u001b[1m\u001b[30m|   \u001b[1m\u001b[30m    }\u001b[0m",
      "\u001b[1m\u001b[30m|   \u001b[1m\u001b[30m\u001b[0m",
      "\u001b[1m\u001b[30m|   \u001b[1m\u001b[30m}\u001b[0m",
      "\u001b[1m\u001b[31mUnresolved dependencies:\u001b[0m",
      "\u001b[1m\u001b[31m   - class MenuRow\u001b[0m"
     ]
    }
   ],
   "source": [
    "import java.util.HashMap;\n",
    "import java.util.Map;\n",
    "import java.util.Scanner;\n",
    "\n",
    "/**\n",
    " * Menu: custom implementation\n",
    " * @author     John Mortensen\n",
    " *\n",
    " * Uses String to contain Title for an Option\n",
    " * Uses Runnable to store Class-Method to be run when Title is selected\n",
    " */\n",
    "\n",
    "// The Menu Class has a HashMap of Menu Rows\n",
    "public class Menu {\n",
    "    // Format\n",
    "    // Key {0, 1, 2, ...} created based on order of input menu\n",
    "    // Value {MenuRow0, MenuRow1, MenuRow2,...} each corresponds to key\n",
    "    // MenuRow  {<Exit,Noop>, Option1, Option2, ...}\n",
    "    Map<Integer, MenuRow> menu = new HashMap<>();\n",
    "\n",
    "    /**\n",
    "     *  Constructor for Menu,\n",
    "     *\n",
    "     * @param  rows,  is the row data for menu.\n",
    "     */\n",
    "    public Menu(MenuRow[] rows) {\n",
    "        int i = 0;\n",
    "        for (MenuRow row : rows) {\n",
    "            // Build HashMap for lookup convenience\n",
    "            menu.put(i++, new MenuRow(row.getTitle(), row.getAction()));\n",
    "        }\n",
    "    }\n",
    "\n",
    "    /**\n",
    "     *  Get Row from Menu,\n",
    "     *\n",
    "     * @param  i,  HashMap key (k)\n",
    "     *\n",
    "     * @return  MenuRow, the selected menu\n",
    "     */\n",
    "    public MenuRow get(int i) {\n",
    "        return menu.get(i);\n",
    "    }\n",
    "\n",
    "    /**\n",
    "     *  Iterate through and print rows in HashMap\n",
    "     */\n",
    "    public void print() {\n",
    "        for (Map.Entry<Integer, MenuRow> pair : menu.entrySet()) {\n",
    "            System.out.println(pair.getKey() + \" ==> \" + pair.getValue().getTitle());\n",
    "        }\n",
    "    }\n",
    "\n",
    "}\n",
    "\n",
    "// The MenuRow Class has title and action for individual line item in menu\n",
    "class MenuRow {\n",
    "    String title;       // menu item title\n",
    "    Runnable action;    // menu item action, using Runnable\n",
    "\n",
    "    /**\n",
    "     *  Constructor for MenuRow,\n",
    "     *\n",
    "     * @param  title,  is the description of the menu item\n",
    "     * @param  action, is the run-able action for the menu item\n",
    "     */\n",
    "    public MenuRow(String title, Runnable action) {\n",
    "        this.title = title;\n",
    "        this.action = action;\n",
    "    }\n",
    "\n",
    "    /**\n",
    "     *  Getters\n",
    "     */\n",
    "    public String getTitle() {\n",
    "        return this.title;\n",
    "    }\n",
    "    public Runnable getAction() {\n",
    "        return this.action;\n",
    "    }\n",
    "\n",
    "    /**\n",
    "     *  Runs the action using Runnable (.run)\n",
    "     */\n",
    "    public void run() {\n",
    "        action.run();\n",
    "    }\n",
    "}\n",
    "\n",
    "// The Main Class illustrates initializing and using Menu with Runnable action\n",
    "class Driver {\n",
    "    /**\n",
    "     *  Menu Control Example\n",
    "     */\n",
    "    public static void main(String[] args) {\n",
    "        // Row initialize\n",
    "        MenuRow[] rows = new MenuRow[]{\n",
    "            // lambda style, () -> to point to Class.Method\n",
    "            new MenuRow(\"Exit\", () -> main(null)),\n",
    "            new MenuRow(\"Do Nothing\", () -> DoNothingByValue.main(null)),\n",
    "            new MenuRow(\"Swap if Hi-Low\", () -> IntByReference.main(null)),\n",
    "            new MenuRow(\"Matrix Reverse\", () -> Matrix.main(null)),\n",
    "            new MenuRow(\"Diverse Array\", () -> Matrix.main(null)),\n",
    "            new MenuRow(\"Random Squirrels\", () -> Number.main(null))\n",
    "        };\n",
    "\n",
    "        // Menu construction\n",
    "        Menu menu = new Menu(rows);\n",
    "\n",
    "        // Run menu forever, exit condition contained in loop\n",
    "        while (true) {\n",
    "            System.out.println(\"Hacks Menu:\");\n",
    "            // print rows\n",
    "            menu.print();\n",
    "\n",
    "            // Scan for input\n",
    "            try {\n",
    "                Scanner scan = new Scanner(System.in);\n",
    "                int selection = scan.nextInt();\n",
    "\n",
    "                // menu action\n",
    "                try {\n",
    "                    MenuRow row = menu.get(selection);\n",
    "                    // stop menu\n",
    "                    if (row.getTitle().equals(\"Exit\")) {\n",
    "                        if (scan != null) \n",
    "                            scan.close();  // scanner resource requires release\n",
    "                        return;\n",
    "                    }\n",
    "                    // run option\n",
    "                    row.run();\n",
    "                } catch (Exception e) {\n",
    "                    System.out.printf(\"Invalid selection %d\\n\", selection);\n",
    "                }\n",
    "\n",
    "            } catch (Exception e) {\n",
    "                System.out.println(\"Not a number\");\n",
    "            }\n",
    "        }\n",
    "    }\n",
    "}\n",
    "\n",
    "public class Main() {\n",
    "    /**\n",
    "     *  To test run Driver\n",
    "     */\n",
    "    public static void main(String[] args) {\n",
    "        Driver.main(args);\n",
    "    }\n",
    "}\n",
    "\n",
    "Main.main(null);"
   ]
  }
 ],
 "metadata": {
  "kernelspec": {
   "display_name": "Java",
   "language": "java",
   "name": "java"
  },
  "language_info": {
   "codemirror_mode": "java",
   "file_extension": ".jshell",
   "mimetype": "text/x-java-source",
   "name": "java",
   "pygments_lexer": "java",
   "version": "11.0.12+8-LTS-237"
  },
  "orig_nbformat": 4
 },
 "nbformat": 4,
 "nbformat_minor": 2
}
