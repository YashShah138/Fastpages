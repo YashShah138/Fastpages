{
 "cells": [
  {
   "cell_type": "markdown",
   "metadata": {},
   "source": [
    "# This is my Bash Notebook\n",
    "> Testing of the Bash kernel\n",
    "\n",
    "- title: Bash Kernel Basics Notebook\n",
    "- toc: true\n",
    "- comments: true\n",
    "- image: images/Python.png"
   ]
  }
 ],
 "metadata": {
  "kernelspec": {
   "display_name": "Bash",
   "language": "bash",
   "name": "bash"
  },
  "language_info": {
   "name": "bash"
  },
  "orig_nbformat": 4
 },
 "nbformat": 4,
 "nbformat_minor": 2
}
