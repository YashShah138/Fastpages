{
 "cells": [
  {
   "cell_type": "markdown",
   "metadata": {},
   "source": [
    "# This is my Bash Notebook\n",
    "> Testing of the Bash kernel\n",
    "\n",
    "- title: Bash Kernel Basics Notebook\n",
    "- toc: true\n",
    "- comments: true\n",
    "- image: images/bash.png"
   ]
  },
  {
   "cell_type": "markdown",
   "metadata": {},
   "source": []
  },
  {
   "cell_type": "code",
   "execution_count": 18,
   "metadata": {
    "vscode": {
     "languageId": "shellscript"
    }
   },
   "outputs": [
    {
     "name": "stdout",
     "output_type": "stream",
     "text": [
      "List of all files in the root folder:\n",
      "bash: cd: vscode/Fastpages: No such file or directory\n",
      "2022-05-15-07-21-16.png\t_config.yml\t\t_sass\n",
      "2022-05-15-07-24-25.png\t_fastpages_docs\t\t_word\n",
      "2022-05-15-07-25-15.png\t_includes\t\tassets\n",
      "Gemfile\t\t\t_layouts\t\tdocker-compose.yml\n",
      "LICENSE\t\t\t_notebooks\t\timages\n",
      "Makefile\t\t_pages\t\t\tindex.html\n",
      "README.md\t\t_plugins\n",
      "_action_files\t\t_posts\n",
      "\n",
      "List of all files in the repository including all hidden files:\n",
      "bash: cd: vscode/Fastpages: No such file or directory\n",
      ".\t\t\t2022-05-15-07-25-15.png\t_pages\n",
      "..\t\t\tGemfile\t\t\t_plugins\n",
      ".DS_Store\t\tLICENSE\t\t\t_posts\n",
      ".devcontainer.json\tMakefile\t\t_sass\n",
      ".git\t\t\tREADME.md\t\t_word\n",
      ".gitattributes\t\t_action_files\t\tassets\n",
      ".github\t\t\t_config.yml\t\tdocker-compose.yml\n",
      ".gitignore\t\t_fastpages_docs\t\timages\n",
      ".vscode\t\t\t_includes\t\tindex.html\n",
      "2022-05-15-07-21-16.png\t_layouts\n",
      "2022-05-15-07-24-25.png\t_notebooks\n"
     ]
    }
   ],
   "source": [
    "echo \"List of all files in the root folder:\"\n",
    "cd vscode/Fastpages\n",
    "ls\n",
    "\n",
    "echo \"\"\n",
    "echo \"List of all files in the repository including all hidden files:\"\n",
    "cd vscode/Fastpages\n",
    "ls -a"
   ]
  },
  {
   "cell_type": "markdown",
   "metadata": {},
   "source": []
  },
  {
   "cell_type": "code",
   "execution_count": null,
   "metadata": {
    "vscode": {
     "languageId": "shellscript"
    }
   },
   "outputs": [],
   "source": [
    "python3 --version"
   ]
  }
 ],
 "metadata": {
  "kernelspec": {
   "display_name": "Bash",
   "language": "bash",
   "name": "bash"
  },
  "language_info": {
   "codemirror_mode": "shell",
   "file_extension": ".sh",
   "mimetype": "text/x-sh",
   "name": "bash"
  },
  "orig_nbformat": 4
 },
 "nbformat": 4,
 "nbformat_minor": 2
}
