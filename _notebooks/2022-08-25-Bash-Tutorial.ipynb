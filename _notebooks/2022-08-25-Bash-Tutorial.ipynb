{
 "cells": [
  {
   "cell_type": "markdown",
   "metadata": {},
   "source": [
    "# This is my Bash Notebook\n",
    "> Testing of the Bash kernel\n",
    "\n",
    "- title: Bash Kernel Basics Notebook\n",
    "- toc: true\n",
    "- comments: true\n",
    "- image: images/bash.png"
   ]
  },
  {
   "cell_type": "markdown",
   "metadata": {},
   "source": []
  },
  {
   "cell_type": "code",
   "execution_count": 18,
   "metadata": {
    "vscode": {
     "languageId": "shellscript"
    }
   },
   "outputs": [
    {
     "name": "stdout",
     "output_type": "stream",
     "text": [
      "List of all files in the root folder:\n",
      "bash: cd: vscode/Fastpages: No such file or directory\n",
      "2022-05-15-07-21-16.png\t_config.yml\t\t_sass\n",
      "2022-05-15-07-24-25.png\t_fastpages_docs\t\t_word\n",
      "2022-05-15-07-25-15.png\t_includes\t\tassets\n",
      "Gemfile\t\t\t_layouts\t\tdocker-compose.yml\n",
      "LICENSE\t\t\t_notebooks\t\timages\n",
      "Makefile\t\t_pages\t\t\tindex.html\n",
      "README.md\t\t_plugins\n",
      "_action_files\t\t_posts\n",
      "\n",
      "List of all files in the repository including all hidden files:\n",
      "bash: cd: vscode/Fastpages: No such file or directory\n",
      ".\t\t\t2022-05-15-07-25-15.png\t_pages\n",
      "..\t\t\tGemfile\t\t\t_plugins\n",
      ".DS_Store\t\tLICENSE\t\t\t_posts\n",
      ".devcontainer.json\tMakefile\t\t_sass\n",
      ".git\t\t\tREADME.md\t\t_word\n",
      ".gitattributes\t\t_action_files\t\tassets\n",
      ".github\t\t\t_config.yml\t\tdocker-compose.yml\n",
      ".gitignore\t\t_fastpages_docs\t\timages\n",
      ".vscode\t\t\t_includes\t\tindex.html\n",
      "2022-05-15-07-21-16.png\t_layouts\n",
      "2022-05-15-07-24-25.png\t_notebooks\n"
     ]
    }
   ],
   "source": [
    "echo \"List of all files in the root folder:\"\n",
    "cd vscode/Fastpages\n",
    "ls\n",
    "\n",
    "echo \"\"\n",
    "echo \"List of all files in the repository including all hidden files:\"\n",
    "cd vscode/Fastpages\n",
    "ls -a"
   ]
  },
  {
   "cell_type": "markdown",
   "metadata": {},
   "source": [
    "### Hack 1 - Is there anything we use to verify tools we install?"
   ]
  },
  {
   "cell_type": "code",
   "execution_count": null,
   "metadata": {
    "vscode": {
     "languageId": "shellscript"
    }
   },
   "outputs": [],
   "source": [
    "echo \"Checking versions and existence of python and java:\"\n",
    "python3 --version\n",
    "python2 --version\n",
    "java --version\n",
    "javac --version\n",
    "\n"
   ]
  },
  {
   "cell_type": "markdown",
   "metadata": {},
   "source": [
    "### Hack 2 - Is there anything we could verify with Anaconda?"
   ]
  },
  {
   "cell_type": "code",
   "execution_count": 15,
   "metadata": {
    "vscode": {
     "languageId": "shellscript"
    }
   },
   "outputs": [
    {
     "name": "stdout",
     "output_type": "stream",
     "text": [
      "Running checks with Anaconda:\n",
      "conda 4.13.0\n",
      "\n",
      "# packages in environment at /Users/yash/opt/anaconda3:\n",
      "#\n",
      "# Name                    Version                   Build  Channel\n",
      "ipython                   8.2.0            py39hecd8cb5_0  \n",
      "ipython_genutils          0.2.0              pyhd3eb1b0_1  \n",
      "msgpack-python            1.0.2            py39hf7b0b51_1  \n",
      "python                    3.9.12               hdfd78df_0  \n",
      "python-dateutil           2.8.2              pyhd3eb1b0_0  \n",
      "python-fastjsonschema     2.15.1             pyhd3eb1b0_0  \n",
      "python-libarchive-c       2.9                pyhd3eb1b0_1  \n",
      "python-lsp-black          1.0.0              pyhd3eb1b0_0  \n",
      "python-lsp-jsonrpc        1.0.0              pyhd3eb1b0_0  \n",
      "python-lsp-server         1.2.4              pyhd3eb1b0_0  \n",
      "python-slugify            5.0.2              pyhd3eb1b0_0  \n",
      "python-snappy             0.6.0            py39h23ab428_3  \n",
      "python.app                3                py39hca72f7f_0  \n"
     ]
    }
   ],
   "source": [
    "echo \"Running checks with Anaconda:\"\n",
    "conda --version\n",
    "echo \"\"\n",
    "conda list python"
   ]
  },
  {
   "cell_type": "code",
   "execution_count": 16,
   "metadata": {
    "vscode": {
     "languageId": "shellscript"
    }
   },
   "outputs": [
    {
     "name": "stdout",
     "output_type": "stream",
     "text": [
      "This script will create a file in the _pages directory and will put all files inside including hidden files.\n",
      "\n",
      "01_notes.md\t03_about.md\t05_tags.html\n",
      "02_vocab.md\t04_search.html\t404.html\n"
     ]
    }
   ],
   "source": [
    "echo \"This script will create a file in the _pages directory and will put all files inside including hidden files.\"\n",
    "\n",
    "cd ~\n",
    "echo \"\"\n",
    "cd vscode/Fastpages/_pages\n",
    "ls\n",
    "touch 06_bash.md\n",
    "cd ~ \n",
    "ls -al > vscode/Fastpages/_pages/06_bash.md\n"
   ]
  }
 ],
 "metadata": {
  "kernelspec": {
   "display_name": "Bash",
   "language": "bash",
   "name": "bash"
  },
  "language_info": {
   "codemirror_mode": "shell",
   "file_extension": ".sh",
   "mimetype": "text/x-sh",
   "name": "bash"
  },
  "orig_nbformat": 4
 },
 "nbformat": 4,
 "nbformat_minor": 2
}
