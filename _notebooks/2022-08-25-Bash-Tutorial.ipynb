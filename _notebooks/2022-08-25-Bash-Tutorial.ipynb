{
 "cells": [
  {
   "cell_type": "markdown",
   "metadata": {},
   "source": [
    "# This is my Bash Notebook\n",
    "> Testing of the Bash kernel\n",
    "\n",
    "- title: Bash Kernel Basics Notebook\n",
    "- toc: true\n",
    "- comments: true\n",
    "- image: images/bash.png"
   ]
  },
  {
   "cell_type": "markdown",
   "metadata": {},
   "source": []
  },
  {
   "cell_type": "code",
   "execution_count": null,
   "metadata": {
    "vscode": {
     "languageId": "shellscript"
    }
   },
   "outputs": [],
   "source": [
    "echo \"List of all files in the root folder:\"\n",
    "cd vscode/Fastpages\n",
    "ls\n",
    "\n",
    "echo \"\"\n",
    "echo \"List of all files in the repository including all hidden files:\"\n",
    "cd vscode/Fastpages\n",
    "ls -a"
   ]
  },
  {
   "cell_type": "markdown",
   "metadata": {},
   "source": [
    "### Hack 1 - Is there anything we use to verify tools we install?"
   ]
  },
  {
   "cell_type": "code",
   "execution_count": null,
   "metadata": {
    "vscode": {
     "languageId": "shellscript"
    }
   },
   "outputs": [],
   "source": [
    "echo \"Checking versions and existence of python and java:\"\n",
    "python3 --version\n",
    "python2 --version\n",
    "java --version\n",
    "javac --version\n",
    "\n"
   ]
  },
  {
   "cell_type": "markdown",
   "metadata": {},
   "source": [
    "### Hack 2 - Is there anything we could verify with Anaconda?"
   ]
  },
  {
   "cell_type": "code",
   "execution_count": null,
   "metadata": {
    "vscode": {
     "languageId": "shellscript"
    }
   },
   "outputs": [],
   "source": [
    "echo \"Running checks with Anaconda:\"\n",
    "conda --version\n",
    "echo \"\"\n",
    "conda list python"
   ]
  },
  {
   "cell_type": "code",
   "execution_count": null,
   "metadata": {
    "vscode": {
     "languageId": "shellscript"
    }
   },
   "outputs": [],
   "source": [
    "echo \"This script will create a file in the _pages directory and will put all files inside including hidden files.\"\n",
    "\n",
    "cd ~\n",
    "echo \"\"\n",
    "cd vscode/Fastpages/_pages\n",
    "ls\n",
    "touch 06_bash.md\n",
    "cd ~ \n",
    "ls -al > vscode/Fastpages/_pages/06_bash.md\n",
    "echo \"\"\n",
    "echo \"vscode/Fastpages/_pages/06_bash.md\"\n",
    "nl vscode/Fastpages/_pages/06_bash.md\n"
   ]
  }
 ],
 "metadata": {
  "kernelspec": {
   "display_name": "Bash",
   "language": "bash",
   "name": "bash"
  },
  "language_info": {
   "codemirror_mode": "shell",
   "file_extension": ".sh",
   "mimetype": "text/x-sh",
   "name": "bash"
  },
  "orig_nbformat": 4
 },
 "nbformat": 4,
 "nbformat_minor": 2
}
