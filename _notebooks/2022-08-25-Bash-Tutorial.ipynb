{
 "cells": [
  {
   "cell_type": "markdown",
   "metadata": {},
   "source": [
    "# This is my Bash Notebook\n",
    "> Testing of the Bash kernel\n",
    "\n",
    "- title: Bash Kernel Basics Notebook\n",
    "- toc: true\n",
    "- comments: true\n",
    "- image: images/bash.png"
   ]
  },
  {
   "cell_type": "markdown",
   "metadata": {},
   "source": []
  },
  {
   "cell_type": "code",
   "execution_count": 21,
   "metadata": {
    "vscode": {
     "languageId": "shellscript"
    }
   },
   "outputs": [
    {
     "name": "stdout",
     "output_type": "stream",
     "text": [
      "List of all files in the root folder:\n",
      "2022-05-15-07-21-16.png\t_config.yml\t\t_sass\n",
      "2022-05-15-07-24-25.png\t_fastpages_docs\t\t_word\n",
      "2022-05-15-07-25-15.png\t_includes\t\tassets\n",
      "Gemfile\t\t\t_layouts\t\tdocker-compose.yml\n",
      "LICENSE\t\t\t_notebooks\t\timages\n",
      "Makefile\t\t_pages\t\t\tindex.html\n",
      "README.md\t\t_plugins\n",
      "_action_files\t\t_posts\n",
      "\n",
      "List of all files in the repository including all hidden files:\n",
      "bash: cd: vscode/Fastpages: No such file or directory\n",
      ".\t\t\t2022-05-15-07-25-15.png\t_pages\n",
      "..\t\t\tGemfile\t\t\t_plugins\n",
      ".DS_Store\t\tLICENSE\t\t\t_posts\n",
      ".devcontainer.json\tMakefile\t\t_sass\n",
      ".git\t\t\tREADME.md\t\t_word\n",
      ".gitattributes\t\t_action_files\t\tassets\n",
      ".github\t\t\t_config.yml\t\tdocker-compose.yml\n",
      ".gitignore\t\t_fastpages_docs\t\timages\n",
      ".vscode\t\t\t_includes\t\tindex.html\n",
      "2022-05-15-07-21-16.png\t_layouts\n",
      "2022-05-15-07-24-25.png\t_notebooks\n"
     ]
    }
   ],
   "source": [
    "echo \"List of all files in the root folder ... \"\n",
    "cd vscode/Fastpages\n",
    "ls\n",
    "\n",
    "echo \"\"\n",
    "echo \"List of all files in the repository including all hidden files:\"\n",
    "cd vscode/Fastpages\n",
    "ls -a"
   ]
  },
  {
   "cell_type": "markdown",
   "metadata": {},
   "source": [
    "### Hack 1 - Is there anything we use to verify tools we install?"
   ]
  },
  {
   "cell_type": "code",
   "execution_count": 22,
   "metadata": {
    "vscode": {
     "languageId": "shellscript"
    }
   },
   "outputs": [
    {
     "name": "stdout",
     "output_type": "stream",
     "text": [
      "Checking versions and existence of python and java:\n",
      "Python 3.9.12\n",
      "Python 2.7.18\n",
      "java 11.0.12 2021-07-20 LTS\n",
      "Java(TM) SE Runtime Environment 18.9 (build 11.0.12+8-LTS-237)\n",
      "Java HotSpot(TM) 64-Bit Server VM 18.9 (build 11.0.12+8-LTS-237, mixed mode)\n",
      "javac 11.0.12\n"
     ]
    }
   ],
   "source": [
    "echo \"Checking versions and existence of python and java ... \"\n",
    "python3 --version\n",
    "python2 --version\n",
    "java --version\n",
    "javac --version\n",
    "\n"
   ]
  },
  {
   "cell_type": "markdown",
   "metadata": {},
   "source": [
    "### Hack 2 - Is there anything we could verify with Anaconda?"
   ]
  },
  {
   "cell_type": "code",
   "execution_count": 23,
   "metadata": {
    "vscode": {
     "languageId": "shellscript"
    }
   },
   "outputs": [
    {
     "name": "stdout",
     "output_type": "stream",
     "text": [
      "Running checks with Anaconda:\n",
      "conda 4.13.0\n",
      "\n",
      "# packages in environment at /Users/yash/opt/anaconda3:\n",
      "#\n",
      "# Name                    Version                   Build  Channel\n",
      "ipython                   8.2.0            py39hecd8cb5_0  \n",
      "ipython_genutils          0.2.0              pyhd3eb1b0_1  \n",
      "msgpack-python            1.0.2            py39hf7b0b51_1  \n",
      "python                    3.9.12               hdfd78df_0  \n",
      "python-dateutil           2.8.2              pyhd3eb1b0_0  \n",
      "python-fastjsonschema     2.15.1             pyhd3eb1b0_0  \n",
      "python-libarchive-c       2.9                pyhd3eb1b0_1  \n",
      "python-lsp-black          1.0.0              pyhd3eb1b0_0  \n",
      "python-lsp-jsonrpc        1.0.0              pyhd3eb1b0_0  \n",
      "python-lsp-server         1.2.4              pyhd3eb1b0_0  \n",
      "python-slugify            5.0.2              pyhd3eb1b0_0  \n",
      "python-snappy             0.6.0            py39h23ab428_3  \n",
      "python.app                3                py39hca72f7f_0  \n"
     ]
    }
   ],
   "source": [
    "echo \"Running checks with Anaconda ... \"\n",
    "conda --version\n",
    "echo \"\"\n",
    "conda list python"
   ]
  },
  {
   "cell_type": "markdown",
   "metadata": {},
   "source": [
    "### Hack 3 - How would you update a repository?"
   ]
  },
  {
   "cell_type": "code",
   "execution_count": 30,
   "metadata": {
    "vscode": {
     "languageId": "shellscript"
    }
   },
   "outputs": [
    {
     "name": "stdout",
     "output_type": "stream",
     "text": [
      "Already up to date.\n"
     ]
    }
   ],
   "source": [
    "cd ~/vscode/Fastpages\n",
    "git pull"
   ]
  },
  {
   "cell_type": "markdown",
   "metadata": {},
   "source": [
    "### This is a small script to show understanding of BASH"
   ]
  },
  {
   "cell_type": "code",
   "execution_count": 33,
   "metadata": {
    "vscode": {
     "languageId": "shellscript"
    }
   },
   "outputs": [
    {
     "name": "stdout",
     "output_type": "stream",
     "text": [
      "\n",
      "This script will create a file in the _pages directory \n",
      "and will put all files inside including hidden files.\n",
      "\n",
      "01_notes.md\t03_about.md\t05_tags.html\t404.html\n",
      "02_vocab.md\t04_search.html\t06_bash.md\n",
      "\n",
      "vscode/Fastpages/_pages/06_bash.md\n",
      "     1\ttotal 208\n",
      "     2\tdrwxr-xr-x+  55 yash  staff   1760 Aug 26 09:06 .\n",
      "     3\tdrwxr-xr-x    6 root  admin    192 Aug 10 23:44 ..\n",
      "     4\t-r--------    1 yash  staff      7 Oct  2  2019 .CFUserTextEncoding\n",
      "     5\t-rw-r--r--@   1 yash  staff  14340 Aug 23 10:43 .DS_Store\n",
      "     6\tdrwx------  183 yash  staff   5856 Aug 26 09:40 .Trash\n",
      "     7\tdrwxr-xr-x    3 yash  staff     96 Oct 20  2021 .android\n",
      "     8\t-rw-------    1 yash  staff  12711 Aug 26 09:11 .bash_history\n",
      "     9\t-rw-r--r--    1 yash  staff   1331 Aug 18 08:54 .bash_profile\n",
      "    10\t-rw-r--r--    1 yash  staff    672 Oct  4  2021 .bash_profile.pysave\n",
      "    11\tdrwx------   30 yash  staff    960 Aug 26 09:11 .bash_sessions\n",
      "    12\tdrwxr-xr-x    3 yash  staff     96 Aug 18 22:40 .cache\n",
      "    13\tdrwxrwsr-x    3 yash  staff     96 Aug 18 08:59 .conda\n",
      "    14\tdrwxr-xr-x    6 yash  staff    192 Aug 21 23:39 .config\n",
      "    15\tdrwx------    3 yash  staff     96 Jun  2  2020 .cups\n",
      "    16\t-rw-r--r--    1 yash  staff    208 Aug 26  2021 .gitconfig\n",
      "    17\tdrwxr-xr-x    4 yash  staff    128 Sep 21  2021 .gradle\n",
      "    18\tdrwxr-xr-x    5 yash  staff    160 May  1 19:15 .idlerc\n",
      "    19\tdrwxr-xr-x    3 yash  staff     96 Mar  4 08:34 .ipython\n",
      "    20\tdrwxr-xr-x    3 yash  staff     96 Aug 18 08:59 .jupyter\n",
      "    21\tdrwxr-xr-x    3 yash  staff     96 Apr 12 10:14 .keras\n",
      "    22\t-rw-------    1 yash  staff     20 May  6 12:04 .lesshst\n",
      "    23\tdrwxr-xr-x    3 yash  staff     96 Aug 19 14:15 .m2\n",
      "    24\tdrwxr-xr-x    2 yash  staff     64 Mar  8 13:25 .matplotlib\n",
      "    25\tdrwxr-xr-x    3 yash  staff     96 Aug 18 09:21 .node-gyp\n",
      "    26\tdrwxr-xr-x    8 yash  staff    256 Aug 21 23:44 .npm\n",
      "    27\tdrwxr-xr-x    3 yash  staff     96 Mar 26  2021 .oracle_jre_usage\n",
      "    28\tdrwx------    3 yash  staff     96 Apr 12 11:25 .putty\n",
      "    29\t-rw-------    1 yash  staff     51 Aug 27  2021 .python_history\n",
      "    30\tdrwxr-xr-x    3 yash  staff     96 Aug 19 08:42 .redhat\n",
      "    31\tdrwx------    6 yash  staff    192 Aug 12 19:04 .ssh\n",
      "    32\tdrwxr-xr-x    3 yash  staff     96 Aug 18 22:43 .sts4\n",
      "    33\t-rw-r--r--    1 yash  staff    314 Aug 18 08:54 .tcshrc\n",
      "    34\t-rw-------    1 yash  staff   1071 Aug 26  2021 .viminfo\n",
      "    35\tdrwxr-xr-x    4 yash  staff    128 Feb 28 10:51 .vscode\n",
      "    36\t-rw-r--r--    1 yash  staff    165 Aug 18 09:23 .wget-hsts\n",
      "    37\t-rw-r--r--    1 yash  staff    597 Aug 18 08:54 .xonshrc\n",
      "    38\t-rw-r--r--    1 yash  staff    248 Aug 21 23:32 .zprofile\n",
      "    39\t-rw-------    1 yash  staff  18722 Aug 26 09:06 .zsh_history\n",
      "    40\tdrwx------   68 yash  staff   2176 Aug 26 09:06 .zsh_sessions\n",
      "    41\t-rw-r--r--    1 yash  staff    490 Aug 18 08:54 .zshrc\n",
      "    42\tdrwx------@   5 yash  staff    160 Nov 16  2021 Applications\n",
      "    43\tdrwx------@   4 yash  staff    128 Aug 24 14:35 Creative Cloud Files\n",
      "    44\tdrwx------@   7 yash  staff    224 Jul 11 21:15 Desktop\n",
      "    45\tdrwx------@   8 yash  staff    256 May 11 10:34 Documents\n",
      "    46\tdrwx------@  48 yash  staff   1536 Aug 25 22:44 Downloads\n",
      "    47\tdrwx------@ 104 yash  staff   3328 Aug 24 14:19 Library\n",
      "    48\tdrwx------+   9 yash  staff    288 Dec  8  2021 Movies\n",
      "    49\tdrwx------+  10 yash  staff    320 May 11 10:09 Music\n",
      "    50\tdrwx------+   7 yash  staff    224 Dec 14  2020 Pictures\n",
      "    51\tdrwx---r-x+   4 yash  staff    128 Oct  2  2019 Public\n",
      "    52\tdrwxr-xr-x    4 yash  staff    128 Mar  5  2021 Samsung\n",
      "    53\tdrwxr-xr-x    5 yash  staff    160 May  5  2019 java\n",
      "    54\tdrwxr-xr-x    3 yash  staff     96 Aug 18 08:41 opt\n",
      "    55\tdrwxr-xr-x    8 yash  staff    256 Aug 25 08:55 vscode\n",
      "    56\t-rw-r--r--@   1 yash  staff    162 Feb 16  2021 ~$mes_Final.docx\n"
     ]
    }
   ],
   "source": [
    "echo \"\"\n",
    "echo \"This script will create a file in the _pages directory \n",
    "and will put all files inside including hidden files.\"\n",
    "\n",
    "cd ~\n",
    "echo \"\"\n",
    "cd vscode/Fastpages/_pages\n",
    "ls\n",
    "touch 06_bash.md\n",
    "cd ~ \n",
    "ls -al > vscode/Fastpages/_pages/06_bash.md\n",
    "echo \"\"\n",
    "echo \"vscode/Fastpages/_pages/06_bash.md\"\n",
    "nl vscode/Fastpages/_pages/06_bash.md\n"
   ]
  }
 ],
 "metadata": {
  "kernelspec": {
   "display_name": "Bash",
   "language": "bash",
   "name": "bash"
  },
  "language_info": {
   "codemirror_mode": "shell",
   "file_extension": ".sh",
   "mimetype": "text/x-sh",
   "name": "bash"
  },
  "orig_nbformat": 4
 },
 "nbformat": 4,
 "nbformat_minor": 2
}
