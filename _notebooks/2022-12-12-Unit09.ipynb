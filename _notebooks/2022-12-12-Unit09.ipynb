{
 "cells": [
  {
   "attachments": {},
   "cell_type": "markdown",
   "metadata": {},
   "source": [
    "# Unit 09 Mon - Inheritance\n",
    "> Notes + Homework\n",
    "\n",
    "- title: Unit 09 Mon - Inheritance\n",
    "- toc: false\n",
    "- badges: false\n",
    "- comments: false\n",
    "- categories: [Week-16]\n",
    "- image: images/TestPrep.png"
   ]
  },
  {
   "attachments": {},
   "cell_type": "markdown",
   "metadata": {},
   "source": [
    "## Notes"
   ]
  },
  {
   "attachments": {},
   "cell_type": "markdown",
   "metadata": {},
   "source": [
    "- constructor is a special method that is used to create and initialize an object\n",
    "- When creating a subclass, you typically want to reuse the constructor from the parent class (also known as the \"superclass\") and add some additional functionality"
   ]
  },
  {
   "cell_type": "code",
   "execution_count": null,
   "metadata": {
    "vscode": {
     "languageId": "java"
    }
   },
   "outputs": [],
   "source": [
    "public class Animal {\n",
    "    // Constructor for the Animal class\n",
    "    public Animal() {\n",
    "        // Initialize the object\n",
    "    }\n",
    "}\n",
    "  \n",
    "  public class Dog extends Animal {\n",
    "    // Constructor for the Dog class\n",
    "    public Dog() {\n",
    "        // Call the constructor of the superclass\n",
    "        super();\n",
    "        \n",
    "        // Initialize the object\n",
    "    }\n",
    "}"
   ]
  },
  {
   "attachments": {},
   "cell_type": "markdown",
   "metadata": {},
   "source": [
    "- Possible to call a specific constructor of the superclass by specifying the parameters"
   ]
  },
  {
   "cell_type": "code",
   "execution_count": 1,
   "metadata": {
    "vscode": {
     "languageId": "java"
    }
   },
   "outputs": [
    {
     "name": "stdout",
     "output_type": "stream",
     "text": [
      "Yash\n",
      "1\n"
     ]
    }
   ],
   "source": [
    "/**\n",
    " * In this example using inheritance allows us to inherit the salary of the programmer by extending the superclass of employee\n",
    " */\n",
    "\n",
    "class Person {\n",
    "   private String name;\n",
    "\n",
    "   public Person(String theName) {\n",
    "      this.name = theName;\n",
    "   }\n",
    "\n",
    "   public String getName() {\n",
    "      return name;\n",
    "   }\n",
    "\n",
    "   public boolean setName(String theNewName) {\n",
    "      if (theNewName != null) {\n",
    "         this.name = theNewName;\n",
    "         return true;\n",
    "      }\n",
    "      return false;\n",
    "   }\n",
    "}\n",
    "\n",
    "public class Employee extends Person {\n",
    "   private int id;\n",
    "   public static int nextId = 1;\n",
    "\n",
    "   public Employee(String theName) {\n",
    "      super(theName);\n",
    "      id = nextId;\n",
    "      nextId++;\n",
    "   }\n",
    "\n",
    "   public int getId() {\n",
    "      return id;\n",
    "   }\n",
    "\n",
    "   public static void main(String[] args) {\n",
    "      Employee emp = new Employee(\"Yash\");\n",
    "      System.out.println(emp.getName());\n",
    "      System.out.println(emp.getId());\n",
    "   }\n",
    "}\n",
    "\n",
    "Employee.main(null);"
   ]
  },
  {
   "cell_type": "code",
   "execution_count": 2,
   "metadata": {
    "vscode": {
     "languageId": "java"
    }
   },
   "outputs": [
    {
     "name": "stdout",
     "output_type": "stream",
     "text": [
      "Physical activity\n",
      "Kick the ball\n",
      "Shoot the ball\n",
      "Hit a home run\n"
     ]
    }
   ],
   "source": [
    "/**\n",
    " * Example of polymorphism in Java\n",
    " */\n",
    "\n",
    "public class Sport {\n",
    "    // action() method instantiated\n",
    "\tpublic void action() {\n",
    "        System.out.println(\"Physical activity\");\n",
    "    }\n",
    "}\n",
    "\n",
    "// Subclass Soccer\n",
    "class Soccer extends Sport {\n",
    "    // Soccer implementation of the action() method\n",
    "    public void action() {\n",
    "        System.out.println(\"Kick the ball\");\n",
    "    }\n",
    "}\n",
    "\n",
    "// Subclass Basketball\n",
    "class Basketball extends Sport {\n",
    "    // Basketball implementation of the action() method\n",
    "    public void action() {\n",
    "        System.out.println(\"Shoot the ball\");\n",
    "    }\n",
    "}\n",
    "\n",
    "// Subclass Baseball\n",
    "class Baseball extends Sport {\n",
    "    // Baseball implementation of the action() method\n",
    "    public void action() {\n",
    "        System.out.println(\"Hit a home run\");\n",
    "    }\n",
    "}\n",
    "\n",
    "// Main class for running the code\n",
    "class Main {\n",
    "    public static void main(String[] args) {\n",
    "        // Creating objects with the same reference type but different object types. The classes above follow a class hierarchy.\n",
    "        Sport sport = new Sport();\n",
    "        Sport sport1 = new Soccer();\n",
    "        Sport sport2 = new Basketball();\n",
    "        Sport sport3 = new Baseball();\n",
    "        sport.action();\n",
    "        sport1.action();\n",
    "        sport2.action();\n",
    "        sport3.action();\n",
    "    }\n",
    "}\n",
    "\n",
    "Main.main(null);"
   ]
  },
  {
   "cell_type": "code",
   "execution_count": 3,
   "metadata": {
    "vscode": {
     "languageId": "java"
    }
   },
   "outputs": [
    {
     "name": "stdout",
     "output_type": "stream",
     "text": [
      "Vehicle is running\n"
     ]
    }
   ],
   "source": [
    "/**\n",
    " * Overriding methods\n",
    " */\n",
    "\n",
    "class Vehicle {  \n",
    "    void run(){System.out.println(\"Vehicle is running\");}\n",
    "}\n",
    "\n",
    "//Creating a child class  \n",
    "class Bike extends Vehicle {  \n",
    "    public static void main(String args[]) {  \n",
    "        //creating an instance of child class  \n",
    "        Bike obj = new Bike();  \n",
    "        //calling the method with child class instance  \n",
    "        obj.run();  \n",
    "    }  \n",
    "}  \n",
    "\n",
    "Bike.main(null);"
   ]
  },
  {
   "attachments": {},
   "cell_type": "markdown",
   "metadata": {},
   "source": [
    "## Homework"
   ]
  },
  {
   "attachments": {},
   "cell_type": "markdown",
   "metadata": {},
   "source": [
    "### Part 1\n",
    "- Create a world cup superclass with properties of your choice and subclasses for five teams which inherits those properties\n",
    "- Write a constructor for one of those subclasses"
   ]
  },
  {
   "cell_type": "code",
   "execution_count": 4,
   "metadata": {
    "vscode": {
     "languageId": "java"
    }
   },
   "outputs": [
    {
     "name": "stdout",
     "output_type": "stream",
     "text": [
      "Team score: 0\n",
      "Team wins: 2\n",
      "Team all goals: 12\n",
      "Best player: Lionel Messi\n",
      "Team score: 0\n",
      "Team wins: 2\n",
      "Team all goals: 11\n",
      "Best player: Kylian Mbappé\n",
      "Team score: 0\n",
      "Team wins: 1\n",
      "Team all goals: 12\n",
      "Best player: Cristiano Ronaldo\n",
      "Team score: 0\n",
      "Team wins: 1\n",
      "Team all goals: 6\n",
      "Best player: Luka Modrić\n",
      "Team score: 0\n",
      "Team wins: 1\n",
      "Team all goals: 5\n",
      "Best player: Hakim Ziyech\n"
     ]
    }
   ],
   "source": [
    "public class Team {\n",
    "    public int score;\n",
    "    public int wins;\n",
    "    public int all_goals;\n",
    "\n",
    "    public Team(int score, int wins, int all_goals) {\n",
    "        this.score = score;\n",
    "        this.wins = wins;\n",
    "        this.all_goals = all_goals;\n",
    "    }\n",
    "\n",
    "    public void score() {\n",
    "        this.score += 1;\n",
    "    }\n",
    "\n",
    "    public void bestplayer() {\n",
    "        System.out.println(\"Best player: Unknown\");\n",
    "    }\n",
    "\n",
    "    public void out() {\n",
    "        System.out.println(\"Team score: \" + this.score);\n",
    "        System.out.println(\"Team wins: \" + this.wins);\n",
    "        System.out.println(\"Team all goals: \" + this.all_goals);\n",
    "        bestplayer();\n",
    "    }\n",
    "\n",
    "}\n",
    "\n",
    "public class France extends Team {\n",
    "    public France(int score, int wins, int all_goals) {\n",
    "        super(score, wins, all_goals);\n",
    "    }\n",
    "\n",
    "    public void score() {\n",
    "        this.score += 1;\n",
    "    }\n",
    "\n",
    "    public void bestplayer() {\n",
    "        System.out.println(\"Best player: Kylian Mbappé\");\n",
    "    }\n",
    "}\n",
    "\n",
    "public class Argentina extends Team {\n",
    "    public Argentina(int score, int wins, int all_goals) {\n",
    "        super(score, wins, all_goals);\n",
    "    }\n",
    "\n",
    "    public void score() {\n",
    "        this.score += 1;\n",
    "    }\n",
    "\n",
    "    public void bestplayer() {\n",
    "        System.out.println(\"Best player: Lionel Messi\");\n",
    "    }\n",
    "}\n",
    "\n",
    "public class Croatia extends Team {\n",
    "    public Croatia(int score, int wins, int all_goals) {\n",
    "        super(score, wins, all_goals);\n",
    "    }\n",
    "\n",
    "    public void score() {\n",
    "        this.score += 1;\n",
    "    }\n",
    "\n",
    "    public void bestplayer() {\n",
    "        System.out.println(\"Best player: Luka Modrić\");\n",
    "    }\n",
    "}\n",
    "\n",
    "public class Morocco extends Team {\n",
    "    public Morocco(int score, int wins, int all_goals) {\n",
    "        super(score, wins, all_goals);\n",
    "    }\n",
    "\n",
    "    public void score() {\n",
    "        this.score += 1;\n",
    "    }\n",
    "\n",
    "    public void bestplayer() {\n",
    "        System.out.println(\"Best player: Hakim Ziyech\");\n",
    "    }\n",
    "}\n",
    "\n",
    "public class Portugal extends Team {\n",
    "    public Portugal(int score, int wins, int all_goals) {\n",
    "        super(score, wins, all_goals);\n",
    "    }\n",
    "\n",
    "    public void score() {\n",
    "        this.score += 1;\n",
    "    }\n",
    "\n",
    "    public void bestplayer() {\n",
    "        System.out.println(\"Best player: Cristiano Ronaldo\");\n",
    "    }\n",
    "}\n",
    "\n",
    "Team arg = new Argentina(0, 2, 12);\n",
    "Team por = new Portugal(0, 1, 12);\n",
    "Team frc = new France(0, 2, 11);\n",
    "Team cro = new Croatia(0, 1, 6);\n",
    "Team mor = new Morocco(0, 1, 5);\n",
    "\n",
    "arg.out();\n",
    "frc.out();\n",
    "por.out();\n",
    "cro.out();\n",
    "mor.out();"
   ]
  },
  {
   "attachments": {},
   "cell_type": "markdown",
   "metadata": {},
   "source": [
    "### Part 2\n",
    "\n",
    "- Add a getAge method in the Person super class\n",
    "- Create a new subclass Student with additional members of your choice to personalize the Student class\n",
    "- Create a new subclass Teacher with additional members of your choice\n",
    "- Override the toString method using the @Override to print a Student and teacher object with new members\n",
    "- Print the student and teacher."
   ]
  },
  {
   "cell_type": "code",
   "execution_count": 7,
   "metadata": {
    "vscode": {
     "languageId": "java"
    }
   },
   "outputs": [
    {
     "name": "stdout",
     "output_type": "stream",
     "text": [
      "Person (name: Warren Buffett, birthday: 1930)\n",
      "Student (name: yash, birthday: 2005, extracurricular: Karate, gpa: 4.2, grade: 12)\n",
      "Teacher (name: John Mortensen, birthday: 1959, subject: Computer Science, tenureYears: 22, degree: Bachelors of Science in Computer Science)\n"
     ]
    }
   ],
   "source": [
    "public class Person {\n",
    "    protected String name;\n",
    "    protected String birthday;\n",
    " \n",
    "    public Person (String name, String birthday) {\n",
    "       this.name = name;\n",
    "       this.birthday = birthday;\n",
    "    }\n",
    " \n",
    "    public String getName() {\n",
    "       return name;\n",
    "    }\n",
    "\n",
    "    public int getAge() {\n",
    "         return 2022 - Integer.parseInt(birthday);\n",
    "    }\n",
    "\n",
    "    @Override\n",
    "    public String toString() {\n",
    "         return \"Person (name: \" + name + \", birthday: \" + birthday + \")\";\n",
    "    }\n",
    "}\n",
    " \n",
    "public class Student extends Person {\n",
    "    private int grade;\n",
    "    private double gpa;\n",
    "    private String extracurricular;\n",
    " \n",
    "    public Student (String name, String birthday, int grade, double gpa, String extracurricular) {\n",
    "       super(name, birthday);\n",
    "       this.grade = grade;\n",
    "       this.gpa = gpa;\n",
    "       this.extracurricular = extracurricular;\n",
    "    }\n",
    "\n",
    "    // return gpa\n",
    "    public double getGPA() {\n",
    "        return gpa;\n",
    "    }\n",
    "\n",
    "    public String extracurricular() {\n",
    "        return extracurricular;\n",
    "    }\n",
    "\n",
    "    // return grade\n",
    "    public int getGrade() {\n",
    "       return grade;\n",
    "    }\n",
    "\n",
    "    @Override\n",
    "    public String toString() {\n",
    "        return \"Student (name: \" + name + \", birthday: \" + birthday + \", extracurricular: \" + extracurricular + \", gpa: \" + gpa + \", grade: \" + grade + \")\";\n",
    "    }\n",
    "}\n",
    "\n",
    "public class Teacher extends Person {\n",
    "    private String subject;\n",
    "    private int tenureYears;\n",
    "    private String degree;\n",
    "   \n",
    "    public Teacher (String name, String birthday, String subject, int tenureYears, String degree) {\n",
    "        super(name, birthday);\n",
    "        this.subject = subject;\n",
    "        this.tenureYears = tenureYears;\n",
    "        this.degree = degree;\n",
    "    }\n",
    "   \n",
    "    // return subject\n",
    "    public String getSubject() {\n",
    "        return subject;\n",
    "    }\n",
    "\n",
    "    // return yearsOfExperience\n",
    "    public int getTenure() {\n",
    "        return tenureYears;\n",
    "    }\n",
    "\n",
    "    // return degree\n",
    "    public String getDegree() {\n",
    "        return degree;\n",
    "    }\n",
    "\n",
    "    @Override\n",
    "    public String toString() {\n",
    "        return \"Teacher (name: \" + name + \", birthday: \" + birthday + \", subject: \" + subject + \", tenureYears: \" + tenureYears + \", degree: \" + degree + \")\";\n",
    "    }\n",
    "}\n",
    "\n",
    "Person wb = new Person(\"Warren Buffett\", \"1930\");\n",
    "System.out.println(wb.toString());\n",
    "Person ys = new Student(\"yash\", \"2005\", 12, 4.2, \"Karate\");\n",
    "System.out.println(ys.toString());\n",
    "Person jm = new Teacher(\"John Mortensen\", \"1959\", \"Computer Science\", 22, \"Bachelors of Science in Computer Science\");\n",
    "System.out.println(jm.toString());"
   ]
  }
 ],
 "metadata": {
  "kernelspec": {
   "display_name": "Java",
   "language": "java",
   "name": "java"
  },
  "language_info": {
   "codemirror_mode": "java",
   "file_extension": ".jshell",
   "mimetype": "text/x-java-source",
   "name": "Java",
   "pygments_lexer": "java",
   "version": "11.0.12+8-LTS-237"
  },
  "orig_nbformat": 4,
  "vscode": {
   "interpreter": {
    "hash": "aee8b7b246df8f9039afb4144a1f6fd8d2ca17a180786b69acc140d282b71a49"
   }
  }
 },
 "nbformat": 4,
 "nbformat_minor": 2
}
