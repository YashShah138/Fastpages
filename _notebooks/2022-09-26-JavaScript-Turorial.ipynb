{
 "cells": [
  {
   "cell_type": "markdown",
   "metadata": {},
   "source": [
    "# JavaScript Tutorial\n",
    "> JavaScript Tutorial\n",
    "\n",
    "- title: JavaScript Tutorial\n",
    "- toc: true\n",
    "- comments: true\n",
    "- categories: [Week-5]\n",
    "- image: images/JavaScript.png"
   ]
  },
  {
   "cell_type": "markdown",
   "metadata": {},
   "source": [
    "## Output To Console"
   ]
  },
  {
   "cell_type": "code",
   "execution_count": 13,
   "metadata": {},
   "outputs": [
    {
     "name": "stdout",
     "output_type": "stream",
     "text": [
      "Hello World!\n",
      "AP CSA IS GREAT!!\n",
      "Class of 2022\n",
      "RAYJ is the best team!\n",
      "WE LOVE MR. LIAO!!!\n"
     ]
    }
   ],
   "source": [
    "// Print Hello World\n",
    "console.log(\"Hello World!\");\n",
    "\n",
    "// Print Using var assignment\n",
    "var text = \"AP CSA IS GREAT!!\";\n",
    "console.log(text);\n",
    "\n",
    "// Print Using Functions\n",
    "var message = \"Class of 2022\"\n",
    "function print(output) {\n",
    "    console.log(output);\n",
    "}\n",
    "print(message);\n",
    "\n",
    "// Print Reusing Functions\n",
    "print(\"RAYJ is the best team!\");\n",
    "print(\"WE LOVE MR. LIAO!!!\")"
   ]
  },
  {
   "cell_type": "code",
   "execution_count": 23,
   "metadata": {},
   "outputs": [
    {
     "name": "stdout",
     "output_type": "stream",
     "text": [
      "string: AP CSA\n",
      "number: 2023\n",
      "object: 1,2,3\n"
     ]
    }
   ],
   "source": [
    "function printType(output) {\n",
    "    console.log(typeof output + \": \" + output);\n",
    "}\n",
    "printType(\"AP CSA\");\n",
    "printType(2023);\n",
    "printType([1, 2, 3]);"
   ]
  },
  {
   "cell_type": "markdown",
   "metadata": {},
   "source": [
    "## Building a Person Class + JSON"
   ]
  },
  {
   "cell_type": "code",
   "execution_count": 6,
   "metadata": {},
   "outputs": [
    {
     "name": "stdout",
     "output_type": "stream",
     "text": [
      "object: [object Object]\n",
      "string: {\"name\":\"Mr M\",\"ghID\":\"jm1021\",\"classOf\":1977,\"role\":\"\"}\n",
      "object: [object Object]\n",
      "string: {\"name\":\"Mr M\",\"ghID\":\"jm1021\",\"classOf\":1977,\"role\":\"Teacher\"}\n"
     ]
    }
   ],
   "source": [
    "// define a function to hold data for a Person\n",
    "function Person(name, ghID, classOf) {\n",
    "    this.name = name;\n",
    "    this.ghID = ghID;\n",
    "    this.classOf = classOf;\n",
    "    this.role = \"\";\n",
    "}\n",
    "\n",
    "// define a setter for role in Person data\n",
    "Person.prototype.setRole = function(role) {\n",
    "    this.role = role;\n",
    "}\n",
    "\n",
    "// define a JSON conversion \"method\" associated with Person\n",
    "Person.prototype.toJSON = function() {\n",
    "    const obj = {name: this.name, ghID: this.ghID, classOf: this.classOf, role: this.role};\n",
    "    const json = JSON.stringify(obj);  // json/string is useful when passing data on internet\n",
    "    return json;\n",
    "}\n",
    "\n",
    "// make a new Person and assign to variable teacher\n",
    "var teacher = new Person(\"Mr M\", \"jm1021\", 1977);  // object type is easy to work with in JavaScript\n",
    "printType(teacher);  // before role\n",
    "printType(teacher.toJSON());  // ok to do this even though role is not yet defined\n",
    "\n",
    "// output of Object and JSON/string associated with Teacher\n",
    "teacher.setRole(\"Teacher\");   // set the role\n",
    "printType(teacher); \n",
    "printType(teacher.toJSON());"
   ]
  },
  {
   "cell_type": "code",
   "execution_count": 7,
   "metadata": {},
   "outputs": [
    {
     "name": "stdout",
     "output_type": "stream",
     "text": [
      "object: [object Object]\n",
      "string: {\"name\":\"Mr M\",\"ghID\":\"jm1021\",\"classOf\":1977,\"role\":\"\"}\n",
      "object: [object Object]\n",
      "string: {\"name\":\"Mr M\",\"ghID\":\"jm1021\",\"classOf\":1977,\"role\":\"Teacher\"}\n",
      "object: [object Object],[object Object],[object Object],[object Object],[object Object]\n",
      "string: Mr M\n",
      "string: {\"name\":\"Mr M\",\"ghID\":\"jm1021\",\"classOf\":1977,\"role\":\"Teacher\"}\n",
      "object: [object Object]\n"
     ]
    },
    {
     "data": {
      "text/html": [
       "<div style='display:inline-block;border: 2px solid grey;box-shadow: 0.8em 0.4em 0.4em grey;'><table><tr><th><strong>Name</strong></th><th><strong>GitHub ID</strong></th><th><strong>Class Of</strong></th><th><strong>Role</strong></th></tr><tr><td>Mr M</td><td>jm1021</td><td>1977</td><td>Teacher</td><tr><tr><td>Rithwikh</td><td>guapbeast</td><td>2022</td><td>Student</td><tr><tr><td>Aidan</td><td>aidanwu</td><td>2024</td><td>Student</td><tr><tr><td>Jun</td><td>peacekeeper6</td><td>2023</td><td>Student</td><tr><tr><td>Yash</td><td>YashShah138</td><td>2023</td><td>Student</td><tr></table></div>"
      ]
     },
     "execution_count": 7,
     "metadata": {},
     "output_type": "execute_result"
    }
   ],
   "source": [
    "function printType(output) {\n",
    "  console.log(typeof output + \": \" + output);\n",
    "}\n",
    "\n",
    "// define a function to hold data for a Person\n",
    "function Person(name, ghID, classOf) {\n",
    "    this.name = name;\n",
    "    this.ghID = ghID;\n",
    "    this.classOf = classOf;\n",
    "    this.role = \"\";\n",
    "}\n",
    "\n",
    "// define a setter for role in Person data\n",
    "Person.prototype.setRole = function(role) {\n",
    "    this.role = role;\n",
    "}\n",
    "\n",
    "// define a JSON conversion \"method\" associated with Person\n",
    "Person.prototype.toJSON = function() {\n",
    "    const obj = {name: this.name, ghID: this.ghID, classOf: this.classOf, role: this.role};\n",
    "    const json = JSON.stringify(obj);  // json/string is useful when passing data on internet\n",
    "    return json;\n",
    "}\n",
    "\n",
    "// make a new Person and assign to variable teacher\n",
    "var teacher = new Person(\"Mr M\", \"jm1021\", 1977);  // object type is easy to work with in JavaScript\n",
    "printType(teacher);  // before role\n",
    "printType(teacher.toJSON());  // ok to do this even though role is not yet defined\n",
    "\n",
    "// output of Object and JSON/string associated with Teacher\n",
    "teacher.setRole(\"Teacher\");   // set the role\n",
    "printType(teacher); \n",
    "printType(teacher.toJSON());\n",
    "\n",
    "// define a student Array of Person(s)\n",
    "var students = [ \n",
    "    new Person(\"Rithwikh\", \"guapbeast\", 2022),\n",
    "    new Person(\"Aidan\", \"aidanwu\", 2024),\n",
    "    new Person(\"Jun\", \"peacekeeper6\", 2023),\n",
    "    new Person(\"Yash\", \"YashShah138\", 2023)\n",
    "];\n",
    "\n",
    "// define a classroom and build Classroom objects and json\n",
    "function Classroom(teacher, students){ // 1 teacher, many student\n",
    "    // start Classroom with Teacher\n",
    "    teacher.setRole(\"Teacher\");\n",
    "    this.teacher = teacher;\n",
    "    this.classroom = [teacher];\n",
    "    // add each Student to Classroom\n",
    "    this.students = students;\n",
    "    this.students.forEach(student => { student.setRole(\"Student\"); this.classroom.push(student); });\n",
    "    // build json/string format of Classroom\n",
    "    this.json = [];\n",
    "    this.classroom.forEach(person => this.json.push(person.toJSON()));\n",
    "}\n",
    "\n",
    "// make a CompSci classroom from formerly defined teacher and students\n",
    "compsci = new Classroom(teacher, students);\n",
    "\n",
    "// output of Objects and JSON in CompSci classroom\n",
    "printType(compsci.classroom);  // constructed classroom object\n",
    "printType(compsci.classroom[0].name);  // abstract 1st objects name\n",
    "printType(compsci.json[0]);  // show json conversion of 1st object to string\n",
    "printType(JSON.parse(compsci.json[0]));  // show JSON.parse inverse of JSON.stringify\n",
    "\n",
    "// define an HTML conversion \"method\" associated with Classroom\n",
    "Classroom.prototype._toHtml = function() {\n",
    "    // HTML Style is build using inline structure\n",
    "    var style = (\n",
    "      \"display:inline-block;\" +\n",
    "      \"border: 2px solid grey;\" +\n",
    "      \"box-shadow: 0.8em 0.4em 0.4em grey;\"\n",
    "    );\n",
    "  \n",
    "    // HTML Body of Table is build as a series of concatenations (+=)\n",
    "    var body = \"\";\n",
    "    // Heading for Array Columns\n",
    "    body += \"<tr>\";\n",
    "    body += \"<th><strong>\" + \"Name\" + \"</strong></th>\";\n",
    "    body += \"<th><strong>\" + \"GitHub ID\" + \"</strong></th>\";\n",
    "    body += \"<th><strong>\" + \"Class Of\" + \"</strong></th>\";\n",
    "    body += \"<th><strong>\" + \"Role\" + \"</strong></th>\";\n",
    "    body += \"</tr>\";\n",
    "    // Data of Array, iterate through each row of compsci.classroom \n",
    "    for (var row in compsci.classroom) {\n",
    "      // tr for each row, a new line\n",
    "      body += \"<tr>\";\n",
    "      // td for each column of data\n",
    "      body += \"<td>\" + compsci.classroom[row].name + \"</td>\";\n",
    "      body += \"<td>\" + compsci.classroom[row].ghID + \"</td>\";\n",
    "      body += \"<td>\" + compsci.classroom[row].classOf + \"</td>\";\n",
    "      body += \"<td>\" + compsci.classroom[row].role + \"</td>\";\n",
    "      // tr to end line\n",
    "      body += \"<tr>\";\n",
    "    }\n",
    "  \n",
    "     // Build and HTML fragment of div, table, table body\n",
    "    return (\n",
    "      \"<div style='\" + style + \"'>\" +\n",
    "        \"<table>\" +\n",
    "          body +\n",
    "        \"</table>\" +\n",
    "      \"</div>\"\n",
    "    );\n",
    "  \n",
    "  };\n",
    "  \n",
    "  // IJavaScript HTML processor receive parameter of defined HTML fragment\n",
    "  $$.html(compsci._toHtml());"
   ]
  }
 ],
 "metadata": {
  "kernelspec": {
   "display_name": "JavaScript (Node.js)",
   "language": "javascript",
   "name": "javascript"
  },
  "language_info": {
   "file_extension": ".js",
   "mimetype": "application/javascript",
   "name": "javascript",
   "version": "10.13.0"
  },
  "orig_nbformat": 4,
  "vscode": {
   "interpreter": {
    "hash": "aee8b7b246df8f9039afb4144a1f6fd8d2ca17a180786b69acc140d282b71a49"
   }
  }
 },
 "nbformat": 4,
 "nbformat_minor": 2
}
