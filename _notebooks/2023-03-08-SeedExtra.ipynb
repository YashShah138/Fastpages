{
 "cells": [
  {
   "attachments": {},
   "cell_type": "markdown",
   "metadata": {},
   "source": [
    "# Extra Seed Work\n",
    "> Extra Seed Work\n",
    "\n",
    "- title: Extra Seed Work\n",
    "- toc: true\n",
    "- comments: true\n",
    "- Categories: [Week-25]"
   ]
  },
  {
   "cell_type": "code",
   "execution_count": 1,
   "metadata": {},
   "outputs": [
    {
     "name": "stdout",
     "output_type": "stream",
     "text": [
      "Enter the first number: \n",
      "Enter the second number: \n",
      "The sum in binary is: 10\n"
     ]
    }
   ],
   "source": [
    "import java.util.Scanner;\n",
    "\n",
    "public class BinaryAddition {\n",
    "    public static void main(String[] args) {\n",
    "        Scanner scanner = new Scanner(System.in);\n",
    "        \n",
    "        // Read the first number\n",
    "        System.out.println(\"Enter the first number: \");\n",
    "        int num1 = scanner.nextInt();\n",
    "        \n",
    "        // Read the second number\n",
    "        System.out.println(\"Enter the second number: \");\n",
    "        int num2 = scanner.nextInt();\n",
    "        \n",
    "        // Add the numbers\n",
    "        int sum = num1 + num2;\n",
    "        \n",
    "        // Convert the sum to binary\n",
    "        String binary = \"\";\n",
    "        int quotient = sum;\n",
    "        int remainder;\n",
    "        while (quotient != 0) {\n",
    "            remainder = quotient % 2; // Find the remainder of quotient / 2\n",
    "            binary = remainder + binary; // Add the remainder to the beginning of the binary string\n",
    "            quotient = quotient / 2; // Update the quotient by dividing by 2\n",
    "        }\n",
    "        \n",
    "        // Display the sum in binary\n",
    "        System.out.println(\"The sum in binary is: \" + binary);\n",
    "        \n",
    "        scanner.close(); // Close the scanner\n",
    "    }\n",
    "}\n",
    "\n",
    "BinaryAddition.main(null);"
   ]
  }
 ],
 "metadata": {
  "kernelspec": {
   "display_name": "Java",
   "language": "java",
   "name": "java"
  },
  "language_info": {
   "codemirror_mode": "java",
   "file_extension": ".jshell",
   "mimetype": "text/x-java-source",
   "name": "java",
   "pygments_lexer": "java",
   "version": "11.0.12+8-LTS-237"
  },
  "orig_nbformat": 4
 },
 "nbformat": 4,
 "nbformat_minor": 2
}
