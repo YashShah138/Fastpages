{
 "cells": [
  {
   "cell_type": "markdown",
   "metadata": {},
   "source": [
    "# Unit 02 Thu - Using Objects\n",
    "> Homework\n",
    "\n",
    "- title: Unit 02 Thu - Using Objects\n",
    "- toc: false\n",
    "- badges: false\n",
    "- comments: false\n",
    "- categories: [Week-8]"
   ]
  },
  {
   "cell_type": "code",
   "execution_count": null,
   "metadata": {},
   "outputs": [],
   "source": []
  }
 ],
 "metadata": {
  "kernelspec": {
   "display_name": "Java",
   "language": "java",
   "name": "java"
  },
  "language_info": {
   "name": "java"
  },
  "orig_nbformat": 4
 },
 "nbformat": 4,
 "nbformat_minor": 2
}
