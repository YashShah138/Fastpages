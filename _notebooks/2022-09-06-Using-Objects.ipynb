{
 "cells": [
  {
   "cell_type": "markdown",
   "metadata": {},
   "source": [
    "# Week 2 - Using Objects\n",
    "> Java Console Menu\n",
    "\n",
    "- title: Console Menu\n",
    "- toc: true\n",
    "- comments: true\n",
    "- categories: [Week 2]\n",
    "- image: images/usingObjects.png"
   ]
  },
  {
   "cell_type": "markdown",
   "metadata": {},
   "source": [
    "## Console Based Menu\n",
    "\n",
    "Objects Used:\n",
    "- Used scanner class to get user input and make objects\n",
    "- Used system class to print out static methods\n",
    "- Used the Math Class from Java to create a basic console calculator"
   ]
  },
  {
   "cell_type": "code",
   "execution_count": 1,
   "metadata": {
    "vscode": {
     "languageId": "java"
    }
   },
   "outputs": [
    {
     "name": "stdout",
     "output_type": "stream",
     "text": [
      "-------------------------\n",
      "Choose one\n",
      "-------------------------\n",
      "1 - Addition\n",
      "2 - Subtraction\n",
      "3 - Multiplication\n",
      "4 - Division\n",
      "-------------------------\n",
      "\n",
      "Enter first number: \n",
      "Enter second number: \n",
      "\n",
      "3 * 3 equals\n",
      "9\n"
     ]
    }
   ],
   "source": [
    "import java.util.*;\n",
    "import java.util.Scanner;\n",
    "\n",
    "public class Hello {\n",
    "    \n",
    "    public static void main(String[] args) {\n",
    "\n",
    "        Scanner inp = new Scanner(System.in);\n",
    "\n",
    "        System.out.println(\"-------------------------\");\n",
    "        System.out.println(\"Choose one\");\n",
    "        System.out.println(\"-------------------------\");\n",
    "        System.out.println(\"1 - Addition\");\n",
    "        System.out.println(\"2 - Subtraction\");\n",
    "        System.out.println(\"3 - Multiplication\");\n",
    "        System.out.println(\"4 - Division\");\n",
    "        System.out.println(\"-------------------------\\n\");\n",
    "\n",
    "        int choose;\n",
    "        choose = inp.nextInt();\n",
    "        System.out.println(\"Enter first number: \");\n",
    "        int num1;\n",
    "        num1 = inp.nextInt();\n",
    "        System.out.println(\"Enter second number: \" + \"\\n\");\n",
    "        int num2;\n",
    "        num2 = inp.nextInt();\n",
    "\n",
    "        int ans;\n",
    "        switch (choose) {\n",
    "        case 1:\n",
    "            System.out.println(add( num1,num2));\n",
    "            break;\n",
    "        case 2:\n",
    "            System.out.println(sub( num1,num2));\n",
    "            break;      \n",
    "        case 3:\n",
    "            System.out.println(mult( num1,num2));\n",
    "            break;\n",
    "        case 4:\n",
    "            System.out.println(div( num1,num2));\n",
    "            break;\n",
    "            default:\n",
    "                System.out.println(\"Illegal Operation\");\n",
    "        }\n",
    "\n",
    "    }\n",
    "\n",
    "    public static int add (int x, int y) {\n",
    "        int result = x + y;\n",
    "        System.out.println(x + \" + \" + y + \" equals\");\n",
    "        return result;\n",
    "    }\n",
    "\n",
    "    public static int sub (int x, int y) {\n",
    "        int result = x-y;\n",
    "        System.out.println(x + \" - \" + y + \" equals\");\n",
    "        return result;\n",
    "    }\n",
    "\n",
    "    public static int mult (int x, int y) {\n",
    "        int result = x*y;\n",
    "        System.out.println(x + \" * \" + y + \" equals\");\n",
    "        return result;\n",
    "    }\n",
    "\n",
    "    public static int div (int x, int y) {\n",
    "        int result = x/y;\n",
    "        System.out.println(x + \" / \" + y + \" equals\");\n",
    "        return result;\n",
    "    }\n",
    "\n",
    "}\n",
    "Hello.main(null);"
   ]
  },
  {
   "cell_type": "markdown",
   "metadata": {},
   "source": [
    "## Hacks"
   ]
  },
  {
   "cell_type": "markdown",
   "metadata": {},
   "source": [
    "Explain where a Class is defined\n",
    "- A class is defined where you add variables, objects or methods to your code"
   ]
  },
  {
   "cell_type": "code",
   "execution_count": null,
   "metadata": {
    "vscode": {
     "languageId": "java"
    }
   },
   "outputs": [],
   "source": [
    "public class // Classname"
   ]
  },
  {
   "cell_type": "markdown",
   "metadata": {},
   "source": [
    "Explain where an instances of a Class is defined\n",
    "- An instance is defined in the main class\n",
    "- For example, on Code.org we initiated an instance with"
   ]
  },
  {
   "cell_type": "code",
   "execution_count": null,
   "metadata": {
    "vscode": {
     "languageId": "java"
    }
   },
   "outputs": [],
   "source": [
    "PainterPlus myPainter = new PainterPlus();"
   ]
  },
  {
   "cell_type": "markdown",
   "metadata": {},
   "source": [
    "Explain where an object is calling a method\n",
    "- An object is calling a method when an action needs to be performed for the code to run.\n",
    "- Calling a method on code.org"
   ]
  },
  {
   "cell_type": "code",
   "execution_count": null,
   "metadata": {
    "vscode": {
     "languageId": "java"
    }
   },
   "outputs": [],
   "source": [
    "myPainter.paint(\"white\");"
   ]
  },
  {
   "cell_type": "markdown",
   "metadata": {},
   "source": [
    "Describe Console, GUI differences, or Code.org differences\n",
    "- Console\n",
    "    - User enters input and get respective outputs\n",
    "    - Not as visual\n",
    "    - Requires very good understanding of script and syntax\n",
    "    - Examples: BASH, Terminal, Command Prompt, Kali linux\n",
    "\n",
    "- GUI\n",
    "    - Graphical User Interface\n",
    "    - More visual interface\n",
    "    - User-friendly\n",
    "    - Examples: iOS, Android, MacOS, Windows\n",
    "\n",
    "- code.org\n",
    "    - Introductory platform\n",
    "    - Graphical representation of what code does with the syntax of the language"
   ]
  }
 ],
 "metadata": {
  "kernelspec": {
   "display_name": "Java",
   "language": "java",
   "name": "java"
  },
  "language_info": {
   "codemirror_mode": "java",
   "file_extension": ".jshell",
   "mimetype": "text/x-java-source",
   "name": "Java",
   "pygments_lexer": "java",
   "version": "11.0.12+8-LTS-237"
  },
  "orig_nbformat": 4
 },
 "nbformat": 4,
 "nbformat_minor": 2
}
